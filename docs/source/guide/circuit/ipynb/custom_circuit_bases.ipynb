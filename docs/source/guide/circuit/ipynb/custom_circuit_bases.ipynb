{
 "cells": [
  {
   "cell_type": "markdown",
   "id": "a1533a21-0277-472a-af2e-b40a2e9e0c39",
   "metadata": {
    "pycharm": {
     "name": "#%% md\n"
    }
   },
   "source": [
    "## Bases, truncation, and convergence"
   ]
  },
  {
   "cell_type": "code",
   "execution_count": 1,
   "id": "e47f75b9",
   "metadata": {
    "pycharm": {
     "name": "#%%\n"
    },
    "tags": []
   },
   "outputs": [],
   "source": [
    "import scqubits as scq\n",
    "import numpy as np\n",
    "\n",
    "zp_yaml = \"\"\"# zero-pi\n",
    "branches:\n",
    "- [JJ, 1,2, EJ = 10, 20]\n",
    "- [JJ, 3,4, EJ, 20]\n",
    "- [L, 2,3, 0.008]\n",
    "- [L, 4,1, 0.008]\n",
    "- [C, 1,3, 0.02]\n",
    "- [C, 2,4, 0.02]\n",
    "\"\"\"\n",
    "\n",
    "zero_pi = scq.Circuit(zp_yaml, from_file=False)"
   ]
  },
  {
   "cell_type": "markdown",
   "id": "3adccf25",
   "metadata": {
    "pycharm": {
     "name": "#%% md\n"
    }
   },
   "source": [
    "### Basis choices\n",
    "\n",
    "For **periodic degrees of freedom** scqubits employs the discrete charge basis.\n",
    "\n",
    "For **extended degrees of freedom** two choices are available:\n",
    "- `ext_basis = \"discretized\"` (default)<br> Discretizes the variables for extended degrees of freedom.\n",
    "- `ext_basis = \"harmonic\"`<br>Employs the harmonic-oscillator basis for th extended degrees of freedom (taking the potential to be the one arising from the geometric inductance).\n",
    "\n",
    "For instance, the following would switch the treatment of the extended degrees of freedom to using harmonic-oscillator basis:\n",
    "\n",
    "`zero_pi = scq.Circuit(zp_yaml, from_file=False, ext_basis=\"harmonic\")`"
   ]
  },
  {
   "cell_type": "markdown",
   "id": "ef456b71",
   "metadata": {
    "pycharm": {
     "name": "#%% md\n"
    }
   },
   "source": [
    "### Truncation, cutoffs and convergence\n",
    "\n",
    "\n",
    "Each variable index comes with a **cutoff for basis truncation**. The corresponding attribute names can be listed like this:"
   ]
  },
  {
   "cell_type": "code",
   "execution_count": 2,
   "id": "59115710",
   "metadata": {
    "pycharm": {
     "name": "#%%\n"
    }
   },
   "outputs": [
    {
     "data": {
      "text/plain": [
       "['cutoff_n_1', 'cutoff_ext_2', 'cutoff_ext_3']"
      ]
     },
     "execution_count": 2,
     "metadata": {},
     "output_type": "execute_result"
    }
   ],
   "source": [
    "zero_pi.cutoff_names"
   ]
  },
  {
   "cell_type": "markdown",
   "id": "907982bc",
   "metadata": {
    "pycharm": {
     "name": "#%% md\n"
    }
   },
   "source": [
    "These cutoffs must be varied by the user to ensure convergence. \n",
    "We distinguish two cutoff types:\n",
    "\n",
    "#### Cutoffs for periodic degrees of freedom:\n",
    "- `cutoff_n_<i>` - use all the integer charge states in the range `[-cutoff_n_<i>, cutoff_n_<i>]` for the periodic degree of freedom $i$.\n",
    "\n",
    "#### Cutoffs for extended degrees of freedom:\n",
    "- `cutoff_ext_<i>` - the meaning of this cutoff differs according to the choice of  basis, specified via `ext_basis` upon initialization of the {py:obj}`~scqubits.core.circuit.Circuit` instance.\n",
    "    - `ext_basis = \"discretized\"`: <br>For discretization of $\\theta_i$, `cutoff_ext_<i>` sets the number of points used to in the \"spatial\" range given by the attribute `discretized_phi_range`.\n",
    "    - `ext_basis = \"harmonic\"`: <br>When using the harmonic oscillator basis, `cutoff_ext_<i>` sets the number of harmonic oscillator states admitted to the basis set for the extended degree of freedom $i$."
   ]
  },
  {
   "cell_type": "code",
   "execution_count": 3,
   "id": "25384719",
   "metadata": {
    "pycharm": {
     "name": "#%%\n"
    }
   },
   "outputs": [],
   "source": [
    "zero_pi.cutoff_n_1 = 5\n",
    "zero_pi.cutoff_ext_2 = 10\n",
    "zero_pi.cutoff_ext_3 = 10"
   ]
  },
  {
   "cell_type": "markdown",
   "id": "b7e7ebf2",
   "metadata": {
    "pycharm": {
     "name": "#%% md\n"
    }
   },
   "source": [
    "All the discretized variable ranges can be viewed as:"
   ]
  },
  {
   "cell_type": "code",
   "execution_count": 4,
   "id": "70ab6b90",
   "metadata": {
    "pycharm": {
     "name": "#%%\n"
    }
   },
   "outputs": [
    {
     "data": {
      "text/plain": [
       "{2: (-18.84955592153876, 18.84955592153876), 3: (-18.84955592153876, 18.84955592153876)}"
      ]
     },
     "execution_count": 4,
     "metadata": {},
     "output_type": "execute_result"
    }
   ],
   "source": [
    "zero_pi.discretized_phi_range"
   ]
  },
  {
   "cell_type": "markdown",
   "id": "98c397af",
   "metadata": {
    "pycharm": {
     "name": "#%% md\n"
    }
   },
   "source": [
    "These are the default range settings $[-6\\pi, 6\\pi]$; discretized variable ranges can be changed with "
   ]
  },
  {
   "cell_type": "code",
   "execution_count": 5,
   "id": "987329a7",
   "metadata": {
    "pycharm": {
     "name": "#%%\n"
    }
   },
   "outputs": [],
   "source": [
    "zero_pi.set_discretized_phi_range(var_indices=(2,3), phi_range=(-6*np.pi, 6*np.pi))"
   ]
  },
  {
   "cell_type": "markdown",
   "id": "d9383147",
   "metadata": {
    "pycharm": {
     "name": "#%% md\n"
    }
   },
   "source": [
    "### Example: eigenenergies\n",
    "\n",
    "Now, we can call `eigenvals()` to obtain **low-lying eigenenergies of the circuit Hamiltonian**: "
   ]
  },
  {
   "cell_type": "code",
   "execution_count": 6,
   "id": "e5b7ed1a",
   "metadata": {
    "pycharm": {
     "name": "#%%\n"
    }
   },
   "outputs": [
    {
     "data": {
      "text/plain": [
       "array([-13.25816395, -13.25645441, -13.24363991, -13.24193037,\n",
       "       -12.134373  , -12.13436007])"
      ]
     },
     "execution_count": 6,
     "metadata": {},
     "output_type": "execute_result"
    }
   ],
   "source": [
    "zero_pi.eigenvals()"
   ]
  },
  {
   "cell_type": "markdown",
   "id": "b767a49b",
   "metadata": {
    "pycharm": {
     "name": "#%% md\n"
    }
   },
   "source": [
    "Increasing the above cutoff values reveals that these eigenvalues have not converged yet. Increasing cutoff values increases the Hilbert space dimension and, thus, increases memory requirements and runtime. A strategy that can help mitigate this problem is the use of [Hierarchical diagonalization](./custom_circuit_hd.ipynb).\n"
   ]
  },
  {
   "cell_type": "markdown",
   "id": "4a880d84-4bd4-471b-8e7a-76512a02d36c",
   "metadata": {
    "pycharm": {
     "name": "#%% md\n"
    }
   },
   "source": [
    "## Chosing basis states for each of the subsystems\n",
    "It is also possible to chose a basis states for each of the subsystems independently.\n",
    "We start with defining a particular circuit"
   ]
  },
  {
   "cell_type": "code",
   "execution_count": 14,
   "id": "de0b9a36-4bee-4da2-aa29-2035e0232a62",
   "metadata": {},
   "outputs": [],
   "source": [
    "full_yaml = f\"\"\"branches:\n",
    "- [JJ, 0, 1, 10, 2.5]\n",
    "- [L, 2, 1, 0.5]\n",
    "- [L, 0 , 2 , 10]\n",
    "### coupling element\n",
    "- [C, 2, 3, 5]\n",
    "### tunable resonator\n",
    "- [JJ, 0, 3, 50, 2]\n",
    "- [C, 3, 4, 0.5]\n",
    "- [L, 4, 0, 8]\n",
    "\"\"\"\n",
    "circ = scq.Circuit(full_yaml, from_file=False, ext_basis=\"discretized\")"
   ]
  },
  {
   "cell_type": "markdown",
   "id": "aceebdbc-ba05-4519-b29e-2c7c8692c689",
   "metadata": {},
   "source": [
    "and see its internal structure "
   ]
  },
  {
   "cell_type": "code",
   "execution_count": 16,
   "id": "81316a0e-8b3a-45ba-a19a-9929f20c2c7b",
   "metadata": {},
   "outputs": [
    {
     "data": {
      "text/latex": [
       "$H=\\left(40.0 n_{1}^{2} + 40.0 n_{g1}^{2} + 22.0 Q_{4}^{2} + 9.5 Q_{2}^{2} + 11.5 Q_{3}^{2} + 80.0 n_{1} n_{g1} + 11.0 Q_{2} Q_{3} + 44.0 Q_{4} n_{1} + 44.0 Q_{4} n_{g1} - 24.0 Q_{3} Q_{4} - 20.0 Q_{2} Q_{4} - 26.0 Q_{3} n_{1} - 26.0 Q_{3} n_{g1} - 38.0 Q_{2} n_{1} - 38.0 Q_{2} n_{g1}\\right) + \\left(5.0 \u03b8_{4}^{2} + 10.0 \u03b8_{2}^{2} + 9.0 \u03b8_{3}^{2} - 10.0 \\cos{\\left(\u03b8_{2} + \u03b8_{3} + \u03b8_{4} - 1.0 (2\u03c0\u03a6_{1}) \\right)} - 50.0 \\cos{\\left(\u03b8_{1} + \u03b8_{2} + \u03b8_{3} - 1.0 (2\u03c0\u03a6_{1}) \\right)} + 10.0 \u03b8_{3} \u03b8_{4} - 10.0 \u03b8_{2} \u03b8_{4} - 18.0 \u03b8_{2} \u03b8_{3}\\right)$"
      ],
      "text/plain": [
       "<IPython.core.display.Latex object>"
      ]
     },
     "metadata": {},
     "output_type": "display_data"
    },
    {
     "data": {
      "text/latex": [
       "Operators (flux, charge) - cutoff:   \n",
       " Discrete Charge Basis:  $(\u03b81, n1) - 5$,   \n",
       "Discretized Phi basis:  $(\u03b82, Q2) - 30$, $(\u03b83, Q3) - 30$, $(\u03b84, Q4) - 30$,   \n"
      ],
      "text/plain": [
       "<IPython.core.display.Latex object>"
      ]
     },
     "metadata": {},
     "output_type": "display_data"
    },
    {
     "data": {
      "text/latex": [
       "External fluxes (symbol, default value):  $(\u03a61, 0.0)$, "
      ],
      "text/plain": [
       "<IPython.core.display.Latex object>"
      ]
     },
     "metadata": {},
     "output_type": "display_data"
    },
    {
     "data": {
      "text/latex": [
       "Offset charges (symbol, default value):  $(ng1, 0.0)$, "
      ],
      "text/plain": [
       "<IPython.core.display.Latex object>"
      ]
     },
     "metadata": {},
     "output_type": "display_data"
    }
   ],
   "source": [
    "circ"
   ]
  },
  {
   "cell_type": "markdown",
   "id": "d5c46e83-e56b-449d-bf28-b8202f28c716",
   "metadata": {},
   "source": [
    "we can now adjust the hierarchy of diefferent degrees of freedom, while defining a particular basis set for each"
   ]
  },
  {
   "cell_type": "code",
   "execution_count": 17,
   "id": "f5ef2f07-c2d6-40ff-9783-77535620e110",
   "metadata": {},
   "outputs": [],
   "source": [
    "circ = scq.Circuit(full_yaml, from_file=False, ext_basis=\"discretized\")\n",
    "trans_mat = np.array([[1, 0, 0, 0], \n",
    "                      [0, 1, 0, 0], \n",
    "                      [0, 0, 1, 0],\n",
    "                      [0, 0, 0, 1]])\n",
    "circ.configure(transformation_matrix=trans_mat, closure_branches=[circ.branches[0], circ.branches[-1]]) # chosing a transformation matrix, and closure branches for the two loops.\n",
    "circ._configure(system_hierarchy=[[[1], [2]], [3, 4]], subsystem_trunc_dims=[[10, [10, 10]], 20], ext_basis=[[\"harmonic\", \"discretized\"], \"discretized\"])"
   ]
  },
  {
   "cell_type": "markdown",
   "id": "2631c318-84f1-4f52-a1b8-c17cd05f9471",
   "metadata": {},
   "source": [
    "and see the updated circuit detailed information"
   ]
  },
  {
   "cell_type": "code",
   "execution_count": 18,
   "id": "648b851f-4367-4417-a310-7129d43d3add",
   "metadata": {},
   "outputs": [
    {
     "data": {
      "text/latex": [
       "$H=\\left(8.0 n_{3}^{2} + 8.0 n_{g3}^{2} + 10.0 Q_{1}^{2} + 10.0 Q_{4}^{2} + 28.0 Q_{2}^{2} + 16.0 Q_{2} Q_{4} + 16.0 Q_{2} n_{3} + 16.0 Q_{2} n_{g3} + 16.0 Q_{4} n_{3} + 16.0 Q_{4} n_{g3} + 16.0 n_{3} n_{g3}\\right) + \\left(0.25 \u03b8_{1}^{2} + 4.0 \u03b8_{4}^{2} + 5.25 \u03b8_{2}^{2} - 10.0 \\cos{\\left((2\u03c0\u03a6_{1}) + \u03b8_{1} \\right)} - 50.0 \\cos{\\left(\u03b8_{3} \\right)} - 0.5 \u03b8_{1} \u03b8_{2}\\right)$"
      ],
      "text/plain": [
       "<IPython.core.display.Latex object>"
      ]
     },
     "metadata": {},
     "output_type": "display_data"
    },
    {
     "data": {
      "text/latex": [
       "Operators (flux, charge) - cutoff:   \n",
       " Discrete Charge Basis:  $(\u03b83, n3) - 5$,   \n",
       "Discretized Phi basis:  $(\u03b82, Q2) - 30$, $(\u03b84, Q4) - 30$,   \n",
       "  \n",
       "Harmonic oscillator basis:  $(\u03b81, Q1) - 30$, "
      ],
      "text/plain": [
       "<IPython.core.display.Latex object>"
      ]
     },
     "metadata": {},
     "output_type": "display_data"
    },
    {
     "data": {
      "text/latex": [
       "External fluxes (symbol, default value):  $(\u03a61, 0.0)$, $(\u03a62, 0.0)$, "
      ],
      "text/plain": [
       "<IPython.core.display.Latex object>"
      ]
     },
     "metadata": {},
     "output_type": "display_data"
    },
    {
     "data": {
      "text/latex": [
       "Offset charges (symbol, default value):  $(ng3, 0.0)$, "
      ],
      "text/plain": [
       "<IPython.core.display.Latex object>"
      ]
     },
     "metadata": {},
     "output_type": "display_data"
    },
    {
     "data": {
      "text/latex": [
       "System hierarchy: [[[1], [2]], [3, 4]]"
      ],
      "text/plain": [
       "<IPython.core.display.Latex object>"
      ]
     },
     "metadata": {},
     "output_type": "display_data"
    },
    {
     "data": {
      "text/latex": [
       "Truncated Dimensions: [[10, [10, 10]], 20]"
      ],
      "text/plain": [
       "<IPython.core.display.Latex object>"
      ]
     },
     "metadata": {},
     "output_type": "display_data"
    }
   ],
   "source": [
    "circ"
   ]
  }
 ],
 "metadata": {
  "celltoolbar": "Edit Metadata",
  "kernelspec": {
   "display_name": "Python 3 (ipykernel)",
   "language": "python",
   "name": "python3"
  },
  "language_info": {
   "codemirror_mode": {
    "name": "ipython",
    "version": 3
   },
   "file_extension": ".py",
   "mimetype": "text/x-python",
   "name": "python",
   "nbconvert_exporter": "python",
   "pygments_lexer": "ipython3",
   "version": "3.9.18"
  },
  "vscode": {
   "interpreter": {
    "hash": "c8d4bf36a74824303709ac4e007bea7414f53aa465ed117f157b5ab5806c56f7"
   }
  }
 },
 "nbformat": 4,
 "nbformat_minor": 5
}