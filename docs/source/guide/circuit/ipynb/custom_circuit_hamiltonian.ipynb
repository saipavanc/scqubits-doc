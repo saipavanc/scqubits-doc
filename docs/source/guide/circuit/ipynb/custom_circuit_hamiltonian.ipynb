{
 "cells": [
  {
   "cell_type": "markdown",
   "id": "a1533a21-0277-472a-af2e-b40a2e9e0c39",
   "metadata": {
    "pycharm": {
     "name": "#%% md\n"
    }
   },
   "source": [
    "## Hamiltonian and quantization\n"
   ]
  },
  {
   "cell_type": "code",
   "execution_count": 1,
   "id": "e47f75b9",
   "metadata": {
    "pycharm": {
     "name": "#%%\n"
    },
    "tags": []
   },
   "outputs": [],
   "source": [
    "import scqubits as scq\n",
    "import numpy as np\n",
    "\n",
    "zp_yaml = \"\"\"# zero-pi\n",
    "branches:\n",
    "- [JJ, 1,2, EJ = 10, 20]\n",
    "- [JJ, 3,4, EJ, 20]\n",
    "- [L, 2,3, 0.008]\n",
    "- [L, 4,1, 0.008]\n",
    "- [C, 1,3, 0.02]\n",
    "- [C, 2,4, 0.02]\n",
    "\"\"\"\n",
    "\n",
    "zero_pi = scq.Circuit(zp_yaml, from_file=False)"
   ]
  },
  {
   "cell_type": "markdown",
   "id": "a8981132",
   "metadata": {
    "pycharm": {
     "name": "#%% md\n"
    }
   },
   "source": [
    "### Circuit Hamiltonian: symbolic"
   ]
  },
  {
   "cell_type": "code",
   "execution_count": 2,
   "id": "b8c394b8",
   "metadata": {
    "pycharm": {
     "name": "#%%\n"
    }
   },
   "outputs": [
    {
     "data": {
      "text/latex": [
       "$ \\left(40.0 Q_{3}^{2} + 0.03996 n_{1}^{2} + 0.03996 n_{g1}^{2} + 0.01 Q_{2}^{2} + 0.07992 n_{1} n_{g1}\\right) - \\left(- 0.008 \u03b8_{3}^{2} - 0.032 \u03b8_{2}^{2} + EJ \\cos{\\left(\u03b8_{1} - 1.0 \u03b8_{3} \\right)} + EJ \\cos{\\left(\u03b8_{1} + \u03b8_{3} - (2\u03c0\u03a6_{1}) \\right)}\\right) $"
      ],
      "text/plain": [
       "<IPython.core.display.Latex object>"
      ]
     },
     "metadata": {},
     "output_type": "display_data"
    }
   ],
   "source": [
    "zero_pi.sym_hamiltonian()"
   ]
  },
  {
   "cell_type": "markdown",
   "id": "c35f3305",
   "metadata": {
    "pycharm": {
     "name": "#%% md\n"
    }
   },
   "source": [
    "- The circuit Hamiltonian is expressed in terms of the transformed coordinates $\\theta_i$. \n",
    "- Conjugate charge numbers are given by $Q_i$ for extended degrees of freedom, and by $n_i$ for periodic degrees of freedom. \n",
    "- Offset charges are denoted by $n_{gi}$.\n",
    "- External loop fluxes are denoted by $\\Phi_i$. \n",
    "\n",
    "For more information on  external fluxes and offset charges, see [External magnetic flux, offset charges](./custom_circuit_extra.ipynb)."
   ]
  },
  {
   "cell_type": "markdown",
   "id": "ad77516d",
   "metadata": {
    "pycharm": {
     "name": "#%% md\n"
    }
   },
   "source": [
    "### Circuit Hamiltonian: matrix representation"
   ]
  },
  {
   "cell_type": "code",
   "execution_count": 3,
   "id": "005fb124",
   "metadata": {},
   "outputs": [
    {
     "data": {
      "text/plain": [
       "<9900x9900 sparse matrix of type '<class 'numpy.complex128'>'\n",
       "\twith 138780 stored elements in Compressed Sparse Column format>"
      ]
     },
     "execution_count": 3,
     "metadata": {},
     "output_type": "execute_result"
    }
   ],
   "source": [
    "zero_pi.hamiltonian()"
   ]
  },
  {
   "cell_type": "markdown",
   "id": "3f2841d3",
   "metadata": {
    "pycharm": {
     "name": "#%% md\n"
    }
   },
   "source": [
    "scqubits performs quantization and selects a Hilbert-space basis. The method `hamiltonian()` returns a matrix representation of the resulting Hamiltonian operator."
   ]
  }
 ],
 "metadata": {
  "celltoolbar": "Edit Metadata",
  "kernelspec": {
   "display_name": "Python 3 (ipykernel)",
   "language": "python",
   "name": "python3"
  },
  "language_info": {
   "codemirror_mode": {
    "name": "ipython",
    "version": 3
   },
   "file_extension": ".py",
   "mimetype": "text/x-python",
   "name": "python",
   "nbconvert_exporter": "python",
   "pygments_lexer": "ipython3",
   "version": "3.9.12"
  },
  "vscode": {
   "interpreter": {
    "hash": "c8d4bf36a74824303709ac4e007bea7414f53aa465ed117f157b5ab5806c56f7"
   }
  }
 },
 "nbformat": 4,
 "nbformat_minor": 5
}