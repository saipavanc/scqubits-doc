{
 "cells": [
  {
   "cell_type": "code",
   "execution_count": 3,
   "metadata": {
    "ExecuteTime": {
     "end_time": "2016-08-23T15:16:24.535943",
     "start_time": "2016-08-23T15:16:24.523929"
    },
    "nbsphinx": "hidden",
    "pycharm": {
     "is_executing": false,
     "name": "#%%\n"
    },
    "tags": []
   },
   "outputs": [],
   "source": [
    "# Define HilbertSpace object: two transmons coupled to an oscillator\n",
    "\n",
    "\n",
    "tmon1 = scq.TunableTransmon(\n",
    "    EJmax=40.0,\n",
    "    EC=0.2,\n",
    "    d=0.1,\n",
    "    flux=0.23,\n",
    "    ng=0.3,\n",
    "    ncut=40,\n",
    "    truncated_dim=3,     # after diagonalization, we will keep 3 levels\n",
    "    id_str=\"tmon1\"       # optional, used for referencing from within\n",
    "                         # ParameterSweep or HilbertSpace\n",
    ")\n",
    "\n",
    "tmon2 = scq.TunableTransmon(\n",
    "    EJmax=15.0,\n",
    "    EC=0.15,\n",
    "    d=0.2,\n",
    "    flux=0.0,\n",
    "    ng=0.0,\n",
    "    ncut=30,\n",
    "    truncated_dim=3,\n",
    "    id_str=\"tmon2\"\n",
    ")\n",
    "\n",
    "resonator = scq.Oscillator(\n",
    "    E_osc=4.5,\n",
    "    truncated_dim=4    # up to 3 photons (0,1,2,3)\n",
    ")\n",
    "\n",
    "hilbertspace = scq.HilbertSpace([tmon1, tmon2, resonator])\n",
    "\n",
    "\n",
    "g1 = 0.1  # coupling resonator-CPB1 (without charge matrix elements)\n",
    "g2 = 0.2  # coupling resonator-CPB2 (without charge matrix elements)\n",
    "\n",
    "hilbertspace.add_interaction(\n",
    "    g_strength = g1,\n",
    "    op1 = tmon1.n_operator,\n",
    "    op2 = resonator.creation_operator,\n",
    "    add_hc = True,\n",
    "    id_str=\"tmon1-resonator\"  # optional keyword argument\n",
    ")\n",
    "\n",
    "hilbertspace.add_interaction(\n",
    "    g_strength = g2,\n",
    "    op1 = tmon2.n_operator,\n",
    "    op2 = resonator.creation_operator,\n",
    "    add_hc = True,\n",
    "    id_str=\"tmon2-resonator\"  # optional keyword argument\n",
    ")"
   ]
  },
  {
   "cell_type": "code",
   "execution_count": 4,
   "metadata": {
    "nbsphinx": "hidden",
    "pycharm": {
     "name": "#%%\n"
    },
    "scrolled": true,
    "tags": []
   },
   "outputs": [
    {
     "data": {
      "application/vnd.jupyter.widget-view+json": {
       "model_id": "",
       "version_major": 2,
       "version_minor": 0
      },
      "text/plain": [
       "Parallel compute bare eigensys for subsystem tmon1 [num_cpus=4]"
      ]
     },
     "metadata": {},
     "output_type": "display_data"
    },
    {
     "data": {
      "application/vnd.jupyter.widget-view+json": {
       "model_id": "",
       "version_major": 2,
       "version_minor": 0
      },
      "text/plain": [
       "Parallel compute bare eigensys for subsystem tmon2 [num_cpus=4]"
      ]
     },
     "metadata": {},
     "output_type": "display_data"
    },
    {
     "data": {
      "application/vnd.jupyter.widget-view+json": {
       "model_id": "",
       "version_major": 2,
       "version_minor": 0
      },
      "text/plain": [
       "Parallel compute bare eigensys for subsystem Oscillator_1 [num_cpus=4]"
      ]
     },
     "metadata": {},
     "output_type": "display_data"
    },
    {
     "data": {
      "application/vnd.jupyter.widget-view+json": {
       "model_id": "2d77e0c3940146ef82f2b795d45f8435",
       "version_major": 2,
       "version_minor": 0
      },
      "text/plain": [
       "Parallel compute dressed eigensys [num_cpus=4]"
      ]
     },
     "metadata": {},
     "output_type": "display_data"
    }
   ],
   "source": [
    "# Set up parameter name and values\n",
    "pname1 = 'flux'  \n",
    "flux_vals = np.linspace(0.0, 2.0, 171)\n",
    "pname2 = 'ng'\n",
    "ng_vals = np.linspace(-0.5, 0.5, 49)\n",
    "\n",
    "# combine into a dictionary\n",
    "paramvals_by_name = {pname1: flux_vals, pname2: ng_vals}\n",
    "\n",
    "\n",
    "area_ratio = 1.2\n",
    "\n",
    "def update_hilbertspace(flux, ng):  # function that defines how Hilbert space components are updated\n",
    "    tmon1.flux = flux\n",
    "    tmon2.flux = area_ratio * flux\n",
    "    tmon2.ng = ng\n",
    "\n",
    "# dictionary with information on which subsystems are affected by changing parameters    \n",
    "subsys_update_info = {pname1: [tmon1, tmon2],\n",
    "                      pname2: [tmon2]}\n",
    "\n",
    "    \n",
    "# create the ParameterSweep    \n",
    "sweep = ParameterSweep(\n",
    "    hilbertspace=hilbertspace,\n",
    "    paramvals_by_name=paramvals_by_name,\n",
    "    update_hilbertspace=update_hilbertspace,\n",
    "    evals_count=20,\n",
    "    subsys_update_info=subsys_update_info,\n",
    "    num_cpus=4\n",
    ")"
   ]
  },
  {
   "cell_type": "markdown",
   "metadata": {
    "pycharm": {
     "name": "#%% md\n"
    }
   },
   "source": [
    "## Global objects vs. `deepcopy`\n",
    "\n",
    "In the above code, `update_hilbertspace` directly manipulates the two transmon\n",
    "instances via global variables. It is generally considered better programming style to avoid such use of global variables.\n",
    "To facilitate this, `update_hilbertspace` may be defined with an additional first argument that takes in the {py:obj}`~scqubits.core.param_sweep.ParameterSweep` object itself. This way, all {py:obj}`~scqubits.core.hilbert_space.HilbertSpace` constituents can be accessed via\n",
    "\n",
    "```<ParameterSweep>.hilbertspace[<id_str>]```:"
   ]
  },
  {
   "cell_type": "code",
   "execution_count": 5,
   "metadata": {
    "pycharm": {
     "name": "#%%\n"
    }
   },
   "outputs": [],
   "source": [
    "def update_hilbertspace(param_sweep, flux, ng):  # function that defines how Hilbert space components are updated\n",
    "    param_sweep.hilbertspace[\"tmon1\"].flux = flux\n",
    "    param_sweep.hilbertspace[\"tmon2\"].flux = area_ratio * flux\n",
    "    param_sweep.hilbertspace[\"tmon2\"].ng = ng"
   ]
  },
  {
   "cell_type": "markdown",
   "metadata": {
    "pycharm": {
     "name": "#%% md\n"
    }
   },
   "source": [
    "This way of updating is of particular interest when using the `deepcopy` option\n",
    "discussed next.\n",
    "\n",
    "#### State after the sweep and using `deepcopy`\n",
    "\n",
    "By default, the {py:obj}`~scqubits.core.hilbert_space.HilbertSpace` object and its constituents will be left by {py:obj}`~scqubits.core.param_sweep.ParameterSweep` in a state reached with the last evaluation involved in the sweep. (When multiprocessing, this final state may not be easy to predict.)\n",
    "\n",
    "Alternatively, the `deepcopy` option can be used to\n",
    "1. disconnect all global `{py:obj}`~scqubits.core.hilbert_space.HilbertSpace` constituents from the sweep,and\n",
    "2. restore the {py:obj}`~scqubits.core.hilbert_space.HilbertSpace` object stored internally with the {py:obj}`~scqubits.core.param_sweep.ParameterSweep` to the parameters prior to the sweep.\n",
    "\n",
    "Without use of `deepcopy`, there is a good chance that, for example, the offset\n",
    "charge of `tmon2` is now different than prior to the sweep.\n",
    "For `deepcopy=True` the global instances are disconnected from the sweep\n",
    "and remain untouched. The {py:obj}`~scqubits.core.hilbert_space.HilbertSpace` object interior to `sweep` is restored to its\n",
    "original state, but remains a copy separate from the {py:obj}`~scqubits.core.hilbert_space.HilbertSpace` object used to\n",
    "initialize {py:obj}`~scqubits.core.param_sweep.ParameterSweep`.\n",
    "\n",
    ".. note:\n",
    "    When using `deepcopy=True`, the original state of {py:obj}`~scqubits.core.hilbert_space.HilbertSpace` objects\n",
    "    is restored. With `deepcopy` enabled,\n",
    "    `update_hilbertspace` **must** be based on manipulating the objects interior to\n",
    "    {py:obj}`~scqubits.core.param_sweep.ParameterSweep`. (Changing the global objects will have no effect in this case.)\n",
    "\n"
   ]
  }
 ],
 "metadata": {
  "celltoolbar": "Edit Metadata",
  "kernelspec": {
   "display_name": "Python 3 (ipykernel)",
   "language": "python",
   "name": "python3"
  },
  "language_info": {
   "codemirror_mode": {
    "name": "ipython",
    "version": 3
   },
   "file_extension": ".py",
   "mimetype": "text/x-python",
   "name": "python",
   "nbconvert_exporter": "python",
   "pygments_lexer": "ipython3",
   "version": "3.9.16"
  },
  "toc": {
   "base_numbering": 1,
   "nav_menu": {},
   "number_sections": false,
   "sideBar": true,
   "skip_h1_title": true,
   "title_cell": "Table of Contents",
   "title_sidebar": "Contents",
   "toc_cell": false,
   "toc_position": {},
   "toc_section_display": true,
   "toc_window_display": false
  },
  "varInspector": {
   "cols": {
    "lenName": 16,
    "lenType": 16,
    "lenVar": 40
   },
   "kernels_config": {
    "python": {
     "delete_cmd_postfix": "",
     "delete_cmd_prefix": "del ",
     "library": "var_list.py",
     "varRefreshCmd": "print(var_dic_list())"
    },
    "r": {
     "delete_cmd_postfix": ") ",
     "delete_cmd_prefix": "rm(",
     "library": "var_list.r",
     "varRefreshCmd": "cat(var_dic_list()) "
    }
   },
   "types_to_exclude": [
    "module",
    "function",
    "builtin_function_or_method",
    "instance",
    "_Feature"
   ],
   "window_display": false
  }
 },
 "nbformat": 4,
 "nbformat_minor": 4
}