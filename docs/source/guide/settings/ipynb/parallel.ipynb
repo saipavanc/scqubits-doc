{
 "cells": [
  {
   "cell_type": "markdown",
   "metadata": {},
   "source": [
    "# Parallel Processing\n",
    "\n",
    "Some of the computational tasks performed in scqubits can benefit significantly from parallelization. The scqubits package leverages parallel-processing capabilities provided by the Python Standard Library `multiprocessing` module. For better pickling support, scqubits further supports use of `pathos` and `dill`.\n",
    "\n",
    "One important consideration for parallelization of tasks like parameter sweeps is the fact that Numpy and Scipy tend to make use of multi-threading internally. (Details of that will depend on how they were built on the machine in question.) This will generally lead to competition between multi-threading on the Numpy/Scipy level and parallelization of `map` methods via `multiprocessing` or `pathos`.\n",
    "\n",
    "In many cases, best performance is obtained by limiting the number of threads used by Numpy to \"a few\". (Precise numbers will be machine dependent and need to be determined on a case by case basis.) Limiting this thread number can be achieved from within a Python script or Jupyter and is accomplished by setting environment variables. \n",
    "\n",
    ".. note::\n",
    "    Limiting the number of threads will only be effective if environment variables are set before the first import of\n",
    "    Numpy. \n",
    "\n",
    "\n",
    "Several environment variables can play a role, and which one is needed may again be machine-dependent. \n",
    "We thus simply set them all:"
   ]
  },
  {
   "cell_type": "code",
   "execution_count": null,
   "metadata": {},
   "outputs": [],
   "source": [
    "import os\n",
    "\n",
    "NUM_THREADS = \"1\"\n",
    "\n",
    "os.environ[\"OMP_NUM_THREADS\"] = NUM_THREADS\n",
    "os.environ[\"OPENBLAS_NUM_THREADS\"] = NUM_THREADS\n",
    "os.environ[\"MKL_NUM_THREADS\"] = NUM_THREADS\n",
    "os.environ[\"VECLIB_MAXIMUM_THREADS\"] = NUM_THREADS\n",
    "os.environ[\"NUMEXPR_NUM_THREADS\"] = NUM_THREADS"
   ]
  },
  {
   "cell_type": "markdown",
   "metadata": {},
   "source": [
    "At this point, Numpy import and import of scqubits can proceed."
   ]
  },
  {
   "cell_type": "code",
   "execution_count": 7,
   "metadata": {
    "ExecuteTime": {
     "end_time": "2020-02-09T22:15:14.844735Z",
     "start_time": "2020-02-09T22:15:14.826403Z"
    },
    "init_cell": true,
    "pycharm": {
     "is_executing": false
    },
    "scrolled": true
   },
   "outputs": [],
   "source": [
    "import numpy as np\n",
    "\n",
    "import scqubits\n",
    "from scqubits import HilbertSpace, InteractionTerm, ParameterSweep"
   ]
  },
  {
   "cell_type": "markdown",
   "metadata": {},
   "source": [
    "## Enabling parallel processing"
   ]
  },
  {
   "cell_type": "markdown",
   "metadata": {},
   "source": [
    "Parallel processing is enabled for appropriate scqubits methods and classes by passing the number of cores to be used through the keyword argument `num_cpus`. The following classes and class methods support parallelization:"
   ]
  },
  {
   "cell_type": "markdown",
   "metadata": {},
   "source": [
    "### Classes and class methods supporting parallelization"
   ]
  },
  {
   "cell_type": "markdown",
   "metadata": {
    "ExecuteTime": {
     "end_time": "2020-02-09T22:26:16.236029Z",
     "start_time": "2020-02-09T22:26:16.215083Z"
    },
    "raw_mimetype": "text/markdown"
   },
   "source": [
    "| Class or class method                          |\n",
    "|------------------------------------------------|\n",
    "| `{py:obj}`~scqubits.core.param_sweep.ParameterSweep``                             |\n",
    "| ``HilbertSpace.get_spectrum_vs_paramvals``     |\n",
    "| ``<qubit_class>.get_spectrum_vs_paramvals``    |\n",
    "| ``<qubit_class>.plot_evals_vs_paramvals``      |\n",
    "| ``<qubit_class>.get_matelements_vs_paramvals`` |\n",
    "| ``<qubit_class>.plot_matelem_vs_paramvals``    |\n"
   ]
  },
  {
   "cell_type": "markdown",
   "metadata": {},
   "source": [
    "To use parallelization, the keyword argument `num_cpus` must be passed, specifying the number of cores to be used as an integer, e.g."
   ]
  },
  {
   "cell_type": "code",
   "execution_count": null,
   "metadata": {},
   "outputs": [],
   "source": [
    "transmon.get_spectrum_vs_paramvals(..., num_cpus=4)"
   ]
  },
  {
   "cell_type": "code",
   "execution_count": null,
   "metadata": {},
   "outputs": [],
   "source": [
    "sweep = ParameterSweep(\n",
    "    param_name=param_name,\n",
    "    ...,\n",
    "    ...,\n",
    "    num_cpus=4\n",
    ")"
   ]
  },
  {
   "cell_type": "markdown",
   "metadata": {},
   "source": [
    "Once `num_cpus` exceeds the value 1 when passed, scqubits starts a parallel processing pool of the desired number of processes."
   ]
  },
  {
   "cell_type": "markdown",
   "metadata": {},
   "source": [
    "## Global num_cpus default"
   ]
  },
  {
   "cell_type": "markdown",
   "metadata": {},
   "source": [
    "The global default for `num_cpus` is stored in `scqubits.settings.NUM_CPUS`. Upon import of scqubits, that constant has the value `1` (no parallelization). To change this default and use a user-defined core number by default (say 6), set"
   ]
  },
  {
   "cell_type": "code",
   "execution_count": null,
   "metadata": {},
   "outputs": [],
   "source": [
    "scqubits.settings.NUM_CPUS = 6"
   ]
  },
  {
   "cell_type": "markdown",
   "metadata": {},
   "source": [
    "## multiprocessing vs. pathos"
   ]
  },
  {
   "cell_type": "markdown",
   "metadata": {},
   "source": [
    "scqubits supports parallelization through `multiprocessing` as well as `pathos`. The latter is the default option and is more robust thanks to the advanced pickling methods enabled through `dill`.\n",
    "\n",
    "To switch from use of `pathos`/`dill` to `multiprocessing`, simply alter the following setting:"
   ]
  },
  {
   "cell_type": "code",
   "execution_count": null,
   "metadata": {},
   "outputs": [],
   "source": [
    "scqubits.settings.MULTIPROC = 'multiprocessing'"
   ]
  }
 ],
 "metadata": {
  "celltoolbar": "Raw Cell Format",
  "kernelspec": {
   "display_name": "Python 3.6",
   "language": "python",
   "name": "py36"
  },
  "language_info": {
   "codemirror_mode": {
    "name": "ipython",
    "version": 3
   },
   "file_extension": ".py",
   "mimetype": "text/x-python",
   "name": "python",
   "nbconvert_exporter": "python",
   "pygments_lexer": "ipython3",
   "version": "3.6.7"
  },
  "toc": {
   "toc_cell": false,
   "toc_number_sections": true,
   "toc_threshold": 6,
   "toc_window_display": false
  }
 },
 "nbformat": 4,
 "nbformat_minor": 2
}