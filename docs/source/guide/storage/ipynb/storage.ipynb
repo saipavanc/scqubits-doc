{
 "cells": [
  {
   "cell_type": "markdown",
   "metadata": {},
   "source": [
    "# Saving Data and Figures\n",
    "\n",
    "Much of the data and plots computed with scqubits can easily be stored in memory, or exported and written to files. Data that we may want to save includes \n",
    "\n",
    "* computed eigenvalues and eigenvectors, \n",
    "* qubit parameters,\n",
    "* matrix elements,\n",
    "* parameter sweeps, and\n",
    "* plots,\n",
    "\n",
    "to name a few. Further, scqubits makes it possible to write the configuration of a qubit or a {py:obj}`~scqubits.core.hilbert_space.HilbertSpace` object to disk, and recreate the object instance later on. The following subsections illustrate usage the different usage cases.\n",
    "\n",
    "\n",
    "## Storing qubit spectral data in memory\n",
    "Consider an instance of a transmon qubit:"
   ]
  },
  {
   "cell_type": "code",
   "execution_count": 33,
   "metadata": {},
   "outputs": [],
   "source": [
    "import numpy as np\n",
    "import scqubits as scq\n",
    "\n",
    "tmon = scq.Transmon(\n",
    "    EJ=15.0, \n",
    "    EC=0.3, \n",
    "    ng=0.0,\n",
    "    ncut=30\n",
    ")"
   ]
  },
  {
   "cell_type": "markdown",
   "metadata": {},
   "source": [
    "As usual, we may obtain eigenvalues and eigenvectors via `tmon.eigensys()`, returned as two numpy arrays:  "
   ]
  },
  {
   "cell_type": "code",
   "execution_count": 11,
   "metadata": {},
   "outputs": [
    {
     "name": "stdout",
     "output_type": "stream",
     "text": [
      "[-12.07703386  -6.39445819  -1.05664942   3.89594699]\n"
     ]
    }
   ],
   "source": [
    "evals, evecs = tmon.eigensys(evals_count=4)\n",
    "print(evals)"
   ]
  },
  {
   "cell_type": "markdown",
   "metadata": {},
   "source": [
    "Alternatively, we can choose to store the results in a {py:obj}`~scqubits.core.storage.SpectrumData` object by setting the optional keyword argument `return_spectrumdata`:"
   ]
  },
  {
   "cell_type": "code",
   "execution_count": 14,
   "metadata": {},
   "outputs": [
    {
     "data": {
      "text/plain": [
       "<scqubits.core.storage.SpectrumData at 0x1e444838e88>"
      ]
     },
     "execution_count": 14,
     "metadata": {},
     "output_type": "execute_result"
    }
   ],
   "source": [
    "specdata = tmon.eigensys(evals_count=4, return_spectrumdata=True)\n",
    "specdata"
   ]
  },
  {
   "cell_type": "markdown",
   "metadata": {},
   "source": [
    "The relevant data is accessible through the attributes `.energy_table`, `.state_table`. The system parameters used to generate the data is stored alongside under `.system_params`."
   ]
  },
  {
   "cell_type": "code",
   "execution_count": 17,
   "metadata": {},
   "outputs": [
    {
     "data": {
      "text/plain": [
       "array([-12.07703386,  -6.39445819,  -1.05664942,   3.89594699])"
      ]
     },
     "execution_count": 17,
     "metadata": {},
     "output_type": "execute_result"
    }
   ],
   "source": [
    "specdata.energy_table"
   ]
  },
  {
   "cell_type": "code",
   "execution_count": 20,
   "metadata": {},
   "outputs": [
    {
     "data": {
      "text/plain": [
       "{'EJ': 15.0, 'EC': 0.3, 'ng': 0.0, 'ncut': 30, 'truncated_dim': None}"
      ]
     },
     "execution_count": 20,
     "metadata": {},
     "output_type": "execute_result"
    }
   ],
   "source": [
    "specdata.system_params"
   ]
  },
  {
   "cell_type": "markdown",
   "metadata": {},
   "source": [
    "In a similar manner, matrix elements can be stored in a `DataStore` object, accessible via the attribute `.matrixelem_table`:"
   ]
  },
  {
   "cell_type": "code",
   "execution_count": 27,
   "metadata": {},
   "outputs": [
    {
     "data": {
      "text/plain": [
       "array([[-1.94289029e-16, -1.08780080e+00,  9.71445147e-17,\n",
       "        -3.95057287e-02,  0.00000000e+00,  3.24570806e-03],\n",
       "       [-1.08780080e+00,  5.55111512e-17,  1.49027312e+00,\n",
       "        -2.22044605e-16, -8.66090220e-02, -4.16333634e-17],\n",
       "       [ 9.71445147e-17,  1.49027312e+00, -5.55111512e-17,\n",
       "         1.75524483e+00,  0.00000000e+00, -1.51360095e-01],\n",
       "       [-3.95057287e-02, -2.22044605e-16,  1.75524483e+00,\n",
       "        -1.66533454e-16, -1.92581364e+00,  5.55111512e-17],\n",
       "       [ 0.00000000e+00, -8.66090220e-02,  0.00000000e+00,\n",
       "        -1.92581364e+00, -2.22044605e-16,  1.95455333e+00],\n",
       "       [ 3.24570806e-03, -5.55111512e-17, -1.51360095e-01,\n",
       "         1.66533454e-16,  1.95455333e+00, -1.94289029e-16]])"
      ]
     },
     "execution_count": 27,
     "metadata": {},
     "output_type": "execute_result"
    }
   ],
   "source": [
    "m_stored = tmon.matrixelement_table(operator='n_operator', return_datastore=True)\n",
    "m_stored.matrixelem_table"
   ]
  },
  {
   "cell_type": "markdown",
   "metadata": {},
   "source": [
    "Finally, scans of qubit spectral data over a set of parameter values are automatically returned in the form of {py:obj}`~scqubits.core.storage.SpectrumData` objects. Again, data is accessible through the attributes mentioned above:"
   ]
  },
  {
   "cell_type": "code",
   "execution_count": 31,
   "metadata": {},
   "outputs": [
    {
     "data": {
      "application/vnd.jupyter.widget-view+json": {
       "model_id": "",
       "version_major": 2,
       "version_minor": 0
      },
      "text/plain": [
       "HBox(children=(FloatProgress(value=0.0, description='Spectral data', max=10.0, style=ProgressStyle(description\u2026"
      ]
     },
     "metadata": {},
     "output_type": "display_data"
    },
    {
     "data": {
      "text/plain": [
       "array([[-12.07703386,  -6.39445819,  -1.05664942,   3.89594699,\n",
       "          8.34157217,  12.54032139],\n",
       "       [-12.07703384,  -6.39445956,  -1.0566065 ,   3.89515784,\n",
       "          8.35028668,  12.4619384 ]])"
      ]
     },
     "execution_count": 31,
     "metadata": {},
     "output_type": "execute_result"
    }
   ],
   "source": [
    "spec_scan = tmon.get_spectrum_vs_paramvals(param_name='ng', param_vals=np.linspace(0, 1, 10))\n",
    "spec_scan.energy_table[0:2]"
   ]
  },
  {
   "cell_type": "markdown",
   "metadata": {},
   "source": [
    "\n",
    "## Writing qubit spectral data to disk, and reading back from file\n",
    "{py:obj}`~scqubits.core.storage.SpectrumData` objects can easily be written to an `.h5` file and read back from disk:"
   ]
  },
  {
   "cell_type": "code",
   "execution_count": 32,
   "metadata": {},
   "outputs": [
    {
     "data": {
      "text/plain": [
       "array([-12.07703386,  -6.39445819,  -1.05664942,   3.89594699])"
      ]
     },
     "execution_count": 32,
     "metadata": {},
     "output_type": "execute_result"
    }
   ],
   "source": [
    "specdata.filewrite('test.h5')\n",
    "new_specdata = scq.read('test.h5')\n",
    "\n",
    "new_specdata.energy_table"
   ]
  },
  {
   "cell_type": "markdown",
   "metadata": {},
   "source": [
    "Note: as a convenient shortcut for *directly* writing to file, many methods accept `filename` as an optional argument:\n",
    "\n",
    "``tmon.eigensys(evals_count=4, filename='test.h5')``\n",
    "\n",
    "\n",
    "## Writing a qubit instance to disk, and recreating it from file\n",
    "Once a qubit is initialized, it may be useful to save it to file and recreate it later. This is possible for all qubit classes, and stores all circuit parameters and other metadata to create an identical copy of the current qubit configuration.\n",
    "\n",
    "For the `Transmon` instance used above, this works as follows:"
   ]
  },
  {
   "cell_type": "code",
   "execution_count": 35,
   "metadata": {},
   "outputs": [],
   "source": [
    "tmon.filewrite('my_tmon.h5')\n",
    "\n",
    "new_tmon = scq.read('my_tmon.h5')"
   ]
  },
  {
   "cell_type": "markdown",
   "metadata": {},
   "source": [
    "Indeed, `new_tmon` is now a new `Transmon` instance with the same parameters as `tmon`:"
   ]
  },
  {
   "cell_type": "code",
   "execution_count": 36,
   "metadata": {},
   "outputs": [
    {
     "data": {
      "text/plain": [
       "Transmon(**{'EJ': 15.0, 'EC': 0.3, 'ng': 0.0, 'ncut': 30, 'truncated_dim': None})"
      ]
     },
     "execution_count": 36,
     "metadata": {},
     "output_type": "execute_result"
    }
   ],
   "source": [
    "new_tmon"
   ]
  },
  {
   "cell_type": "markdown",
   "metadata": {},
   "source": [
    "## Summary of classes enabling file input/output\n",
    "A variety of class instances can be saved to disk via\n",
    "\n",
    "    <class>.filewrite(<filename>)\n",
    "\n",
    "and read back by\n",
    "\n",
    "    scq.read(<filename>)\n",
    "\n",
    "when using the `.h5` file format. (CSV file format only supports a small subset of the functionality.)\n",
    "\n",
    "\n",
    "The following table lists the classes that support file input and output,\n",
    "\n",
    "\n",
    "|  class              |   purpose                                                                  |\n",
    "|---------------------|----------------------------------------------------------------------------|\n",
    "| {py:obj}`~scqubits.core.storage.SpectrumData`      | storage of eigenvalues, eigenvectors, and relevant metadata                |\n",
    "| `DataStore`         | storage of matrix elements or coherence data (and general purpose storage) |\n",
    "| {py:obj}`~scqubits.core.hilbert_space.HilbertSpace`      | stores data needed for recreating object instance                          |\n",
    "| {py:obj}`~scqubits.core.param_sweep.ParameterSweep`*   | stores data needed for recreating object instance                          |\n",
    "| `Transmon`          | stores data needed for recreating object instance                          |\n",
    "| {py:obj}`~scqubits.core.transmon.TunableTransmon`   | stores data needed for recreating object instance                          |\n",
    "| \u001b[200~{py:obj}`~scqubits.core.fluxonium.Fluxonium`~         | stores data needed for recreating object instance                          |\n",
    "| {py:obj}`~scqubits.core.flux_qubit.FluxQubit`         | stores data needed for recreating object instance                          |\n",
    "| {py:obj}`~scqubits.core.zeropi.ZeroPi`            | stores data needed for recreating object instance                          |\n",
    "| {py:obj}`~scqubits.core.zeropi_full.FullZeroPi`        | stores data needed for recreating object instance                          |\n",
    "\n",
    "\n",
    "Data stored to `.h5` files includes information about the type of object stored. Upon reading, the same type of object\n",
    "is recreated and returned by the ``read(...)`` function.\n",
    "\n",
    "`{py:obj}`~scqubits.core.param_sweep.ParameterSweep`` forms an exception: the returned object\n",
    "is of type `{py:obj}`~scqubits.core.param_sweep.StoredSweep`` rather than `{py:obj}`~scqubits.core.param_sweep.ParameterSweep``. It can be called to perform spectrum lookups, produce plots\n",
    "from sweep spectral data etc., but it does not support updates with new parameters. For that, a new `{py:obj}`~scqubits.core.param_sweep.ParameterSweep``\n",
    "object can be created by using\n",
    "\n",
    "    <StoredSweep>.new_sweep(subsys_update_list, update_hilbertspace)\n",
    "\n",
    "    \n",
    "## Exporting plots to file\n",
    "All plotting routines in scqubits can be called with a keyword argument ``filename='output.pdf'``. This will generate\n",
    "the plot, display it, and in addition write it to the specified file. The output format is determined by the file suffix\n",
    "provided in the filename. A variety of output formats is supported via Matplotlib, including pdf, jpg, png, svg.\n",
    "    \n",
    "Example:\n"
   ]
  },
  {
   "cell_type": "code",
   "execution_count": 41,
   "metadata": {},
   "outputs": [
    {
     "data": {
      "image/svg+xml": [
       "<?xml version=\"1.0\" encoding=\"utf-8\" standalone=\"no\"?>\r\n",
       "<!DOCTYPE svg PUBLIC \"-//W3C//DTD SVG 1.1//EN\"\r\n",
       "  \"http://www.w3.org/Graphics/SVG/1.1/DTD/svg11.dtd\">\r\n",
       "<!-- Created with matplotlib (https://matplotlib.org/) -->\r\n",
       "<svg height=\"262.045156pt\" version=\"1.1\" viewBox=\"0 0 390.5825 262.045156\" width=\"390.5825pt\" xmlns=\"http://www.w3.org/2000/svg\" xmlns:xlink=\"http://www.w3.org/1999/xlink\">\r\n",
       " <defs>\r\n",
       "  <style type=\"text/css\">\r\n",
       "*{stroke-linecap:butt;stroke-linejoin:round;}\r\n",
       "  </style>\r\n",
       " </defs>\r\n",
       " <g id=\"figure_1\">\r\n",
       "  <g id=\"patch_1\">\r\n",
       "   <path d=\"M 0 262.045156 \r\n",
       "L 390.5825 262.045156 \r\n",
       "L 390.5825 0 \r\n",
       "L 0 0 \r\n",
       "z\r\n",
       "\" style=\"fill:none;\"/>\r\n",
       "  </g>\r\n",
       "  <g id=\"axes_1\">\r\n",
       "   <g id=\"patch_2\">\r\n",
       "    <path d=\"M 48.5825 224.64 \r\n",
       "L 383.3825 224.64 \r\n",
       "L 383.3825 7.2 \r\n",
       "L 48.5825 7.2 \r\n",
       "z\r\n",
       "\" style=\"fill:#ffffff;\"/>\r\n",
       "   </g>\r\n",
       "   <g id=\"PolyCollection_1\">\r\n",
       "    <path clip-path=\"url(#p72a7724f2d)\" d=\"M 63.800682 195.496674 \r\n",
       "L 63.800682 195.496674 \r\n",
       "L 65.829773 195.496674 \r\n",
       "L 67.858864 195.496674 \r\n",
       "L 69.887955 195.496674 \r\n",
       "L 71.917045 195.496674 \r\n",
       "L 73.946136 195.496673 \r\n",
       "L 75.975227 195.496673 \r\n",
       "L 78.004318 195.496673 \r\n",
       "L 80.033409 195.496672 \r\n",
       "L 82.0625 195.496671 \r\n",
       "L 84.091591 195.49667 \r\n",
       "L 86.120682 195.496668 \r\n",
       "L 88.149773 195.496665 \r\n",
       "L 90.178864 195.496662 \r\n",
       "L 92.207955 195.496656 \r\n",
       "L 94.237045 195.496647 \r\n",
       "L 96.266136 195.496635 \r\n",
       "L 98.295227 195.496617 \r\n",
       "L 100.324318 195.496591 \r\n",
       "L 102.353409 195.496553 \r\n",
       "L 104.3825 195.496499 \r\n",
       "L 106.411591 195.496422 \r\n",
       "L 108.440682 195.496311 \r\n",
       "L 110.469773 195.496154 \r\n",
       "L 112.498864 195.495931 \r\n",
       "L 114.527955 195.495618 \r\n",
       "L 116.557045 195.495178 \r\n",
       "L 118.586136 195.494564 \r\n",
       "L 120.615227 195.493711 \r\n",
       "L 122.644318 195.492532 \r\n",
       "L 124.673409 195.490912 \r\n",
       "L 126.7025 195.488696 \r\n",
       "L 128.731591 195.485683 \r\n",
       "L 130.760682 195.481611 \r\n",
       "L 132.789773 195.476139 \r\n",
       "L 134.818864 195.468832 \r\n",
       "L 136.847955 195.459134 \r\n",
       "L 138.877045 195.446349 \r\n",
       "L 140.906136 195.429605 \r\n",
       "L 142.935227 195.407823 \r\n",
       "L 144.964318 195.379688 \r\n",
       "L 146.993409 195.343603 \r\n",
       "L 149.0225 195.297663 \r\n",
       "L 151.051591 195.239611 \r\n",
       "L 153.080682 195.166817 \r\n",
       "L 155.109773 195.07625 \r\n",
       "L 157.138864 194.964472 \r\n",
       "L 159.167955 194.827645 \r\n",
       "L 161.197045 194.661556 \r\n",
       "L 163.226136 194.461673 \r\n",
       "L 165.255227 194.223226 \r\n",
       "L 167.284318 193.941327 \r\n",
       "L 169.313409 193.611117 \r\n",
       "L 171.3425 193.227958 \r\n",
       "L 173.371591 192.787658 \r\n",
       "L 175.400682 192.286719 \r\n",
       "L 177.429773 191.722618 \r\n",
       "L 179.458864 191.094089 \r\n",
       "L 181.487955 190.401412 \r\n",
       "L 183.517045 189.646678 \r\n",
       "L 185.546136 188.834016 \r\n",
       "L 187.575227 187.969768 \r\n",
       "L 189.604318 187.062582 \r\n",
       "L 191.633409 186.123419 \r\n",
       "L 193.6625 185.165448 \r\n",
       "L 195.691591 184.203831 \r\n",
       "L 197.720682 183.255388 \r\n",
       "L 199.749773 182.338151 \r\n",
       "L 201.778864 181.470821 \r\n",
       "L 203.807955 180.672149 \r\n",
       "L 205.837045 179.960264 \r\n",
       "L 207.866136 179.351987 \r\n",
       "L 209.895227 178.862162 \r\n",
       "L 211.924318 178.503049 \r\n",
       "L 213.953409 178.283803 \r\n",
       "L 215.9825 178.210083 \r\n",
       "L 218.011591 178.283803 \r\n",
       "L 220.040682 178.503049 \r\n",
       "L 222.069773 178.862162 \r\n",
       "L 224.098864 179.351987 \r\n",
       "L 226.127955 179.960264 \r\n",
       "L 228.157045 180.672149 \r\n",
       "L 230.186136 181.470821 \r\n",
       "L 232.215227 182.338151 \r\n",
       "L 234.244318 183.255388 \r\n",
       "L 236.273409 184.203831 \r\n",
       "L 238.3025 185.165448 \r\n",
       "L 240.331591 186.123419 \r\n",
       "L 242.360682 187.062582 \r\n",
       "L 244.389773 187.969768 \r\n",
       "L 246.418864 188.834016 \r\n",
       "L 248.447955 189.646678 \r\n",
       "L 250.477045 190.401412 \r\n",
       "L 252.506136 191.094089 \r\n",
       "L 254.535227 191.722618 \r\n",
       "L 256.564318 192.286719 \r\n",
       "L 258.593409 192.787658 \r\n",
       "L 260.6225 193.227958 \r\n",
       "L 262.651591 193.611117 \r\n",
       "L 264.680682 193.941327 \r\n",
       "L 266.709773 194.223226 \r\n",
       "L 268.738864 194.461673 \r\n",
       "L 270.767955 194.661556 \r\n",
       "L 272.797045 194.827645 \r\n",
       "L 274.826136 194.964472 \r\n",
       "L 276.855227 195.07625 \r\n",
       "L 278.884318 195.166817 \r\n",
       "L 280.913409 195.239611 \r\n",
       "L 282.9425 195.297663 \r\n",
       "L 284.971591 195.343603 \r\n",
       "L 287.000682 195.379688 \r\n",
       "L 289.029773 195.407823 \r\n",
       "L 291.058864 195.429605 \r\n",
       "L 293.087955 195.446349 \r\n",
       "L 295.117045 195.459134 \r\n",
       "L 297.146136 195.468832 \r\n",
       "L 299.175227 195.476139 \r\n",
       "L 301.204318 195.481611 \r\n",
       "L 303.233409 195.485683 \r\n",
       "L 305.2625 195.488696 \r\n",
       "L 307.291591 195.490912 \r\n",
       "L 309.320682 195.492532 \r\n",
       "L 311.349773 195.493711 \r\n",
       "L 313.378864 195.494564 \r\n",
       "L 315.407955 195.495178 \r\n",
       "L 317.437045 195.495618 \r\n",
       "L 319.466136 195.495931 \r\n",
       "L 321.495227 195.496154 \r\n",
       "L 323.524318 195.496311 \r\n",
       "L 325.553409 195.496422 \r\n",
       "L 327.5825 195.496499 \r\n",
       "L 329.611591 195.496553 \r\n",
       "L 331.640682 195.496591 \r\n",
       "L 333.669773 195.496617 \r\n",
       "L 335.698864 195.496635 \r\n",
       "L 337.727955 195.496647 \r\n",
       "L 339.757045 195.496656 \r\n",
       "L 341.786136 195.496662 \r\n",
       "L 343.815227 195.496665 \r\n",
       "L 345.844318 195.496668 \r\n",
       "L 347.873409 195.49667 \r\n",
       "L 349.9025 195.496671 \r\n",
       "L 351.931591 195.496672 \r\n",
       "L 353.960682 195.496673 \r\n",
       "L 355.989773 195.496673 \r\n",
       "L 358.018864 195.496673 \r\n",
       "L 360.047955 195.496674 \r\n",
       "L 362.077045 195.496674 \r\n",
       "L 364.106136 195.496674 \r\n",
       "L 366.135227 195.496674 \r\n",
       "L 368.164318 195.496674 \r\n",
       "L 368.164318 195.496674 \r\n",
       "L 368.164318 195.496674 \r\n",
       "L 366.135227 195.496674 \r\n",
       "L 364.106136 195.496674 \r\n",
       "L 362.077045 195.496674 \r\n",
       "L 360.047955 195.496674 \r\n",
       "L 358.018864 195.496674 \r\n",
       "L 355.989773 195.496674 \r\n",
       "L 353.960682 195.496674 \r\n",
       "L 351.931591 195.496674 \r\n",
       "L 349.9025 195.496674 \r\n",
       "L 347.873409 195.496674 \r\n",
       "L 345.844318 195.496674 \r\n",
       "L 343.815227 195.496674 \r\n",
       "L 341.786136 195.496674 \r\n",
       "L 339.757045 195.496674 \r\n",
       "L 337.727955 195.496674 \r\n",
       "L 335.698864 195.496674 \r\n",
       "L 333.669773 195.496674 \r\n",
       "L 331.640682 195.496674 \r\n",
       "L 329.611591 195.496674 \r\n",
       "L 327.5825 195.496674 \r\n",
       "L 325.553409 195.496674 \r\n",
       "L 323.524318 195.496674 \r\n",
       "L 321.495227 195.496674 \r\n",
       "L 319.466136 195.496674 \r\n",
       "L 317.437045 195.496674 \r\n",
       "L 315.407955 195.496674 \r\n",
       "L 313.378864 195.496674 \r\n",
       "L 311.349773 195.496674 \r\n",
       "L 309.320682 195.496674 \r\n",
       "L 307.291591 195.496674 \r\n",
       "L 305.2625 195.496674 \r\n",
       "L 303.233409 195.496674 \r\n",
       "L 301.204318 195.496674 \r\n",
       "L 299.175227 195.496674 \r\n",
       "L 297.146136 195.496674 \r\n",
       "L 295.117045 195.496674 \r\n",
       "L 293.087955 195.496674 \r\n",
       "L 291.058864 195.496674 \r\n",
       "L 289.029773 195.496674 \r\n",
       "L 287.000682 195.496674 \r\n",
       "L 284.971591 195.496674 \r\n",
       "L 282.9425 195.496674 \r\n",
       "L 280.913409 195.496674 \r\n",
       "L 278.884318 195.496674 \r\n",
       "L 276.855227 195.496674 \r\n",
       "L 274.826136 195.496674 \r\n",
       "L 272.797045 195.496674 \r\n",
       "L 270.767955 195.496674 \r\n",
       "L 268.738864 195.496674 \r\n",
       "L 266.709773 195.496674 \r\n",
       "L 264.680682 195.496674 \r\n",
       "L 262.651591 195.496674 \r\n",
       "L 260.6225 195.496674 \r\n",
       "L 258.593409 195.496674 \r\n",
       "L 256.564318 195.496674 \r\n",
       "L 254.535227 195.496674 \r\n",
       "L 252.506136 195.496674 \r\n",
       "L 250.477045 195.496674 \r\n",
       "L 248.447955 195.496674 \r\n",
       "L 246.418864 195.496674 \r\n",
       "L 244.389773 195.496674 \r\n",
       "L 242.360682 195.496674 \r\n",
       "L 240.331591 195.496674 \r\n",
       "L 238.3025 195.496674 \r\n",
       "L 236.273409 195.496674 \r\n",
       "L 234.244318 195.496674 \r\n",
       "L 232.215227 195.496674 \r\n",
       "L 230.186136 195.496674 \r\n",
       "L 228.157045 195.496674 \r\n",
       "L 226.127955 195.496674 \r\n",
       "L 224.098864 195.496674 \r\n",
       "L 222.069773 195.496674 \r\n",
       "L 220.040682 195.496674 \r\n",
       "L 218.011591 195.496674 \r\n",
       "L 215.9825 195.496674 \r\n",
       "L 213.953409 195.496674 \r\n",
       "L 211.924318 195.496674 \r\n",
       "L 209.895227 195.496674 \r\n",
       "L 207.866136 195.496674 \r\n",
       "L 205.837045 195.496674 \r\n",
       "L 203.807955 195.496674 \r\n",
       "L 201.778864 195.496674 \r\n",
       "L 199.749773 195.496674 \r\n",
       "L 197.720682 195.496674 \r\n",
       "L 195.691591 195.496674 \r\n",
       "L 193.6625 195.496674 \r\n",
       "L 191.633409 195.496674 \r\n",
       "L 189.604318 195.496674 \r\n",
       "L 187.575227 195.496674 \r\n",
       "L 185.546136 195.496674 \r\n",
       "L 183.517045 195.496674 \r\n",
       "L 181.487955 195.496674 \r\n",
       "L 179.458864 195.496674 \r\n",
       "L 177.429773 195.496674 \r\n",
       "L 175.400682 195.496674 \r\n",
       "L 173.371591 195.496674 \r\n",
       "L 171.3425 195.496674 \r\n",
       "L 169.313409 195.496674 \r\n",
       "L 167.284318 195.496674 \r\n",
       "L 165.255227 195.496674 \r\n",
       "L 163.226136 195.496674 \r\n",
       "L 161.197045 195.496674 \r\n",
       "L 159.167955 195.496674 \r\n",
       "L 157.138864 195.496674 \r\n",
       "L 155.109773 195.496674 \r\n",
       "L 153.080682 195.496674 \r\n",
       "L 151.051591 195.496674 \r\n",
       "L 149.0225 195.496674 \r\n",
       "L 146.993409 195.496674 \r\n",
       "L 144.964318 195.496674 \r\n",
       "L 142.935227 195.496674 \r\n",
       "L 140.906136 195.496674 \r\n",
       "L 138.877045 195.496674 \r\n",
       "L 136.847955 195.496674 \r\n",
       "L 134.818864 195.496674 \r\n",
       "L 132.789773 195.496674 \r\n",
       "L 130.760682 195.496674 \r\n",
       "L 128.731591 195.496674 \r\n",
       "L 126.7025 195.496674 \r\n",
       "L 124.673409 195.496674 \r\n",
       "L 122.644318 195.496674 \r\n",
       "L 120.615227 195.496674 \r\n",
       "L 118.586136 195.496674 \r\n",
       "L 116.557045 195.496674 \r\n",
       "L 114.527955 195.496674 \r\n",
       "L 112.498864 195.496674 \r\n",
       "L 110.469773 195.496674 \r\n",
       "L 108.440682 195.496674 \r\n",
       "L 106.411591 195.496674 \r\n",
       "L 104.3825 195.496674 \r\n",
       "L 102.353409 195.496674 \r\n",
       "L 100.324318 195.496674 \r\n",
       "L 98.295227 195.496674 \r\n",
       "L 96.266136 195.496674 \r\n",
       "L 94.237045 195.496674 \r\n",
       "L 92.207955 195.496674 \r\n",
       "L 90.178864 195.496674 \r\n",
       "L 88.149773 195.496674 \r\n",
       "L 86.120682 195.496674 \r\n",
       "L 84.091591 195.496674 \r\n",
       "L 82.0625 195.496674 \r\n",
       "L 80.033409 195.496674 \r\n",
       "L 78.004318 195.496674 \r\n",
       "L 75.975227 195.496674 \r\n",
       "L 73.946136 195.496674 \r\n",
       "L 71.917045 195.496674 \r\n",
       "L 69.887955 195.496674 \r\n",
       "L 67.858864 195.496674 \r\n",
       "L 65.829773 195.496674 \r\n",
       "L 63.800682 195.496674 \r\n",
       "z\r\n",
       "\" style=\"fill:#016e82;\"/>\r\n",
       "   </g>\r\n",
       "   <g id=\"matplotlib.axis_1\">\r\n",
       "    <g id=\"xtick_1\">\r\n",
       "     <g id=\"line2d_1\">\r\n",
       "      <defs>\r\n",
       "       <path d=\"M 0 0 \r\n",
       "L 0 3.5 \r\n",
       "\" id=\"m14ed83f1d7\" style=\"stroke:#000000;stroke-width:0.8;\"/>\r\n",
       "      </defs>\r\n",
       "      <g>\r\n",
       "       <use style=\"stroke:#000000;stroke-width:0.8;\" x=\"70.659568\" xlink:href=\"#m14ed83f1d7\" y=\"224.64\"/>\r\n",
       "      </g>\r\n",
       "     </g>\r\n",
       "     <g id=\"text_1\">\r\n",
       "      <!-- \u22123 -->\r\n",
       "      <defs>\r\n",
       "       <path d=\"M 52.828125 31.203125 \r\n",
       "L 5.5625 31.203125 \r\n",
       "L 5.5625 39.40625 \r\n",
       "L 52.828125 39.40625 \r\n",
       "z\r\n",
       "\" id=\"ArialMT-8722\"/>\r\n",
       "       <path d=\"M 4.203125 18.890625 \r\n",
       "L 12.984375 20.0625 \r\n",
       "Q 14.5 12.59375 18.140625 9.296875 \r\n",
       "Q 21.78125 6 27 6 \r\n",
       "Q 33.203125 6 37.46875 10.296875 \r\n",
       "Q 41.75 14.59375 41.75 20.953125 \r\n",
       "Q 41.75 27 37.796875 30.921875 \r\n",
       "Q 33.84375 34.859375 27.734375 34.859375 \r\n",
       "Q 25.25 34.859375 21.53125 33.890625 \r\n",
       "L 22.515625 41.609375 \r\n",
       "Q 23.390625 41.5 23.921875 41.5 \r\n",
       "Q 29.546875 41.5 34.03125 44.421875 \r\n",
       "Q 38.53125 47.359375 38.53125 53.46875 \r\n",
       "Q 38.53125 58.296875 35.25 61.46875 \r\n",
       "Q 31.984375 64.65625 26.8125 64.65625 \r\n",
       "Q 21.6875 64.65625 18.265625 61.421875 \r\n",
       "Q 14.84375 58.203125 13.875 51.765625 \r\n",
       "L 5.078125 53.328125 \r\n",
       "Q 6.6875 62.15625 12.390625 67.015625 \r\n",
       "Q 18.109375 71.875 26.609375 71.875 \r\n",
       "Q 32.46875 71.875 37.390625 69.359375 \r\n",
       "Q 42.328125 66.84375 44.9375 62.5 \r\n",
       "Q 47.5625 58.15625 47.5625 53.265625 \r\n",
       "Q 47.5625 48.640625 45.0625 44.828125 \r\n",
       "Q 42.578125 41.015625 37.703125 38.765625 \r\n",
       "Q 44.046875 37.3125 47.5625 32.6875 \r\n",
       "Q 51.078125 28.078125 51.078125 21.140625 \r\n",
       "Q 51.078125 11.765625 44.234375 5.25 \r\n",
       "Q 37.40625 -1.265625 26.953125 -1.265625 \r\n",
       "Q 17.53125 -1.265625 11.296875 4.34375 \r\n",
       "Q 5.078125 9.96875 4.203125 18.890625 \r\n",
       "z\r\n",
       "\" id=\"ArialMT-51\"/>\r\n",
       "      </defs>\r\n",
       "      <g transform=\"translate(64.958787 238.797812)scale(0.1 -0.1)\">\r\n",
       "       <use xlink:href=\"#ArialMT-8722\"/>\r\n",
       "       <use x=\"58.398438\" xlink:href=\"#ArialMT-51\"/>\r\n",
       "      </g>\r\n",
       "     </g>\r\n",
       "    </g>\r\n",
       "    <g id=\"xtick_2\">\r\n",
       "     <g id=\"line2d_2\">\r\n",
       "      <g>\r\n",
       "       <use style=\"stroke:#000000;stroke-width:0.8;\" x=\"119.100546\" xlink:href=\"#m14ed83f1d7\" y=\"224.64\"/>\r\n",
       "      </g>\r\n",
       "     </g>\r\n",
       "     <g id=\"text_2\">\r\n",
       "      <!-- \u22122 -->\r\n",
       "      <defs>\r\n",
       "       <path d=\"M 50.34375 8.453125 \r\n",
       "L 50.34375 0 \r\n",
       "L 3.03125 0 \r\n",
       "Q 2.9375 3.171875 4.046875 6.109375 \r\n",
       "Q 5.859375 10.9375 9.828125 15.625 \r\n",
       "Q 13.8125 20.3125 21.34375 26.46875 \r\n",
       "Q 33.015625 36.03125 37.109375 41.625 \r\n",
       "Q 41.21875 47.21875 41.21875 52.203125 \r\n",
       "Q 41.21875 57.421875 37.46875 61 \r\n",
       "Q 33.734375 64.59375 27.734375 64.59375 \r\n",
       "Q 21.390625 64.59375 17.578125 60.78125 \r\n",
       "Q 13.765625 56.984375 13.71875 50.25 \r\n",
       "L 4.6875 51.171875 \r\n",
       "Q 5.609375 61.28125 11.65625 66.578125 \r\n",
       "Q 17.71875 71.875 27.9375 71.875 \r\n",
       "Q 38.234375 71.875 44.234375 66.15625 \r\n",
       "Q 50.25 60.453125 50.25 52 \r\n",
       "Q 50.25 47.703125 48.484375 43.546875 \r\n",
       "Q 46.734375 39.40625 42.65625 34.8125 \r\n",
       "Q 38.578125 30.21875 29.109375 22.21875 \r\n",
       "Q 21.1875 15.578125 18.9375 13.203125 \r\n",
       "Q 16.703125 10.84375 15.234375 8.453125 \r\n",
       "z\r\n",
       "\" id=\"ArialMT-50\"/>\r\n",
       "      </defs>\r\n",
       "      <g transform=\"translate(113.399764 238.797812)scale(0.1 -0.1)\">\r\n",
       "       <use xlink:href=\"#ArialMT-8722\"/>\r\n",
       "       <use x=\"58.398438\" xlink:href=\"#ArialMT-50\"/>\r\n",
       "      </g>\r\n",
       "     </g>\r\n",
       "    </g>\r\n",
       "    <g id=\"xtick_3\">\r\n",
       "     <g id=\"line2d_3\">\r\n",
       "      <g>\r\n",
       "       <use style=\"stroke:#000000;stroke-width:0.8;\" x=\"167.541523\" xlink:href=\"#m14ed83f1d7\" y=\"224.64\"/>\r\n",
       "      </g>\r\n",
       "     </g>\r\n",
       "     <g id=\"text_3\">\r\n",
       "      <!-- \u22121 -->\r\n",
       "      <defs>\r\n",
       "       <path d=\"M 37.25 0 \r\n",
       "L 28.46875 0 \r\n",
       "L 28.46875 56 \r\n",
       "Q 25.296875 52.984375 20.140625 49.953125 \r\n",
       "Q 14.984375 46.921875 10.890625 45.40625 \r\n",
       "L 10.890625 53.90625 \r\n",
       "Q 18.265625 57.375 23.78125 62.296875 \r\n",
       "Q 29.296875 67.234375 31.59375 71.875 \r\n",
       "L 37.25 71.875 \r\n",
       "z\r\n",
       "\" id=\"ArialMT-49\"/>\r\n",
       "      </defs>\r\n",
       "      <g transform=\"translate(161.840742 238.797812)scale(0.1 -0.1)\">\r\n",
       "       <use xlink:href=\"#ArialMT-8722\"/>\r\n",
       "       <use x=\"58.398438\" xlink:href=\"#ArialMT-49\"/>\r\n",
       "      </g>\r\n",
       "     </g>\r\n",
       "    </g>\r\n",
       "    <g id=\"xtick_4\">\r\n",
       "     <g id=\"line2d_4\">\r\n",
       "      <g>\r\n",
       "       <use style=\"stroke:#000000;stroke-width:0.8;\" x=\"215.9825\" xlink:href=\"#m14ed83f1d7\" y=\"224.64\"/>\r\n",
       "      </g>\r\n",
       "     </g>\r\n",
       "     <g id=\"text_4\">\r\n",
       "      <!-- 0 -->\r\n",
       "      <defs>\r\n",
       "       <path d=\"M 4.15625 35.296875 \r\n",
       "Q 4.15625 48 6.765625 55.734375 \r\n",
       "Q 9.375 63.484375 14.515625 67.671875 \r\n",
       "Q 19.671875 71.875 27.484375 71.875 \r\n",
       "Q 33.25 71.875 37.59375 69.546875 \r\n",
       "Q 41.9375 67.234375 44.765625 62.859375 \r\n",
       "Q 47.609375 58.5 49.21875 52.21875 \r\n",
       "Q 50.828125 45.953125 50.828125 35.296875 \r\n",
       "Q 50.828125 22.703125 48.234375 14.96875 \r\n",
       "Q 45.65625 7.234375 40.5 3 \r\n",
       "Q 35.359375 -1.21875 27.484375 -1.21875 \r\n",
       "Q 17.140625 -1.21875 11.234375 6.203125 \r\n",
       "Q 4.15625 15.140625 4.15625 35.296875 \r\n",
       "z\r\n",
       "M 13.1875 35.296875 \r\n",
       "Q 13.1875 17.671875 17.3125 11.828125 \r\n",
       "Q 21.4375 6 27.484375 6 \r\n",
       "Q 33.546875 6 37.671875 11.859375 \r\n",
       "Q 41.796875 17.71875 41.796875 35.296875 \r\n",
       "Q 41.796875 52.984375 37.671875 58.78125 \r\n",
       "Q 33.546875 64.59375 27.390625 64.59375 \r\n",
       "Q 21.34375 64.59375 17.71875 59.46875 \r\n",
       "Q 13.1875 52.9375 13.1875 35.296875 \r\n",
       "z\r\n",
       "\" id=\"ArialMT-48\"/>\r\n",
       "      </defs>\r\n",
       "      <g transform=\"translate(213.202031 238.797812)scale(0.1 -0.1)\">\r\n",
       "       <use xlink:href=\"#ArialMT-48\"/>\r\n",
       "      </g>\r\n",
       "     </g>\r\n",
       "    </g>\r\n",
       "    <g id=\"xtick_5\">\r\n",
       "     <g id=\"line2d_5\">\r\n",
       "      <g>\r\n",
       "       <use style=\"stroke:#000000;stroke-width:0.8;\" x=\"264.423477\" xlink:href=\"#m14ed83f1d7\" y=\"224.64\"/>\r\n",
       "      </g>\r\n",
       "     </g>\r\n",
       "     <g id=\"text_5\">\r\n",
       "      <!-- 1 -->\r\n",
       "      <g transform=\"translate(261.643008 238.797812)scale(0.1 -0.1)\">\r\n",
       "       <use xlink:href=\"#ArialMT-49\"/>\r\n",
       "      </g>\r\n",
       "     </g>\r\n",
       "    </g>\r\n",
       "    <g id=\"xtick_6\">\r\n",
       "     <g id=\"line2d_6\">\r\n",
       "      <g>\r\n",
       "       <use style=\"stroke:#000000;stroke-width:0.8;\" x=\"312.864454\" xlink:href=\"#m14ed83f1d7\" y=\"224.64\"/>\r\n",
       "      </g>\r\n",
       "     </g>\r\n",
       "     <g id=\"text_6\">\r\n",
       "      <!-- 2 -->\r\n",
       "      <g transform=\"translate(310.083986 238.797812)scale(0.1 -0.1)\">\r\n",
       "       <use xlink:href=\"#ArialMT-50\"/>\r\n",
       "      </g>\r\n",
       "     </g>\r\n",
       "    </g>\r\n",
       "    <g id=\"xtick_7\">\r\n",
       "     <g id=\"line2d_7\">\r\n",
       "      <g>\r\n",
       "       <use style=\"stroke:#000000;stroke-width:0.8;\" x=\"361.305432\" xlink:href=\"#m14ed83f1d7\" y=\"224.64\"/>\r\n",
       "      </g>\r\n",
       "     </g>\r\n",
       "     <g id=\"text_7\">\r\n",
       "      <!-- 3 -->\r\n",
       "      <g transform=\"translate(358.524963 238.797812)scale(0.1 -0.1)\">\r\n",
       "       <use xlink:href=\"#ArialMT-51\"/>\r\n",
       "      </g>\r\n",
       "     </g>\r\n",
       "    </g>\r\n",
       "    <g id=\"text_8\">\r\n",
       "     <!-- $\\varphi$ -->\r\n",
       "     <defs>\r\n",
       "      <path d=\"M 46.390625 47.40625 \r\n",
       "Q 43.21875 47.40625 41.796875 40.328125 \r\n",
       "L 35.296875 6.84375 \r\n",
       "Q 39.890625 6.84375 45.5625 11.921875 \r\n",
       "Q 50.6875 16.453125 52.734375 27.34375 \r\n",
       "Q 54.640625 37.5 51.5625 42.96875 \r\n",
       "Q 49.03125 47.40625 46.390625 47.40625 \r\n",
       "z\r\n",
       "M 47.859375 55.078125 \r\n",
       "Q 54.890625 55.078125 59.671875 48.640625 \r\n",
       "Q 64.796875 41.75 62.203125 27.34375 \r\n",
       "Q 59.8125 14.109375 51.421875 6.25 \r\n",
       "Q 43.5 -1.171875 33.734375 -1.171875 \r\n",
       "L 29.9375 -20.796875 \r\n",
       "L 21 -20.796875 \r\n",
       "L 24.8125 -1.21875 \r\n",
       "Q 15.046875 -1.21875 10.015625 6.25 \r\n",
       "Q 4.828125 13.875 7.421875 27.296875 \r\n",
       "Q 10.109375 41.265625 18.21875 48.390625 \r\n",
       "Q 24.3125 53.71875 32.5625 55.078125 \r\n",
       "L 31 47.125 \r\n",
       "Q 27.59375 46 24.03125 42.1875 \r\n",
       "Q 18.65625 36.578125 16.890625 27.296875 \r\n",
       "Q 15.046875 17.4375 18.0625 11.8125 \r\n",
       "Q 20.84375 6.78125 26.375 6.78125 \r\n",
       "L 32.859375 40.328125 \r\n",
       "Q 35.75 55.078125 47.859375 55.078125 \r\n",
       "z\r\n",
       "\" id=\"DejaVuSans-Oblique-966\"/>\r\n",
       "     </defs>\r\n",
       "     <g transform=\"translate(212.3525 252.535156)scale(0.11 -0.11)\">\r\n",
       "      <use transform=\"translate(0 0.921875)\" xlink:href=\"#DejaVuSans-Oblique-966\"/>\r\n",
       "     </g>\r\n",
       "    </g>\r\n",
       "   </g>\r\n",
       "   <g id=\"matplotlib.axis_2\">\r\n",
       "    <g id=\"ytick_1\">\r\n",
       "     <g id=\"line2d_8\">\r\n",
       "      <defs>\r\n",
       "       <path d=\"M 0 0 \r\n",
       "L -3.5 0 \r\n",
       "\" id=\"m11f77333a6\" style=\"stroke:#000000;stroke-width:0.8;\"/>\r\n",
       "      </defs>\r\n",
       "      <g>\r\n",
       "       <use style=\"stroke:#000000;stroke-width:0.8;\" x=\"48.5825\" xlink:href=\"#m11f77333a6\" y=\"214.756364\"/>\r\n",
       "      </g>\r\n",
       "     </g>\r\n",
       "     <g id=\"text_9\">\r\n",
       "      <!-- \u221215 -->\r\n",
       "      <defs>\r\n",
       "       <path d=\"M 4.15625 18.75 \r\n",
       "L 13.375 19.53125 \r\n",
       "Q 14.40625 12.796875 18.140625 9.390625 \r\n",
       "Q 21.875 6 27.15625 6 \r\n",
       "Q 33.5 6 37.890625 10.78125 \r\n",
       "Q 42.28125 15.578125 42.28125 23.484375 \r\n",
       "Q 42.28125 31 38.0625 35.34375 \r\n",
       "Q 33.84375 39.703125 27 39.703125 \r\n",
       "Q 22.75 39.703125 19.328125 37.765625 \r\n",
       "Q 15.921875 35.84375 13.96875 32.765625 \r\n",
       "L 5.71875 33.84375 \r\n",
       "L 12.640625 70.609375 \r\n",
       "L 48.25 70.609375 \r\n",
       "L 48.25 62.203125 \r\n",
       "L 19.671875 62.203125 \r\n",
       "L 15.828125 42.96875 \r\n",
       "Q 22.265625 47.46875 29.34375 47.46875 \r\n",
       "Q 38.71875 47.46875 45.15625 40.96875 \r\n",
       "Q 51.609375 34.46875 51.609375 24.265625 \r\n",
       "Q 51.609375 14.546875 45.953125 7.46875 \r\n",
       "Q 39.0625 -1.21875 27.15625 -1.21875 \r\n",
       "Q 17.390625 -1.21875 11.203125 4.25 \r\n",
       "Q 5.03125 9.71875 4.15625 18.75 \r\n",
       "z\r\n",
       "\" id=\"ArialMT-53\"/>\r\n",
       "      </defs>\r\n",
       "      <g transform=\"translate(24.62 218.33527)scale(0.1 -0.1)\">\r\n",
       "       <use xlink:href=\"#ArialMT-8722\"/>\r\n",
       "       <use x=\"58.398438\" xlink:href=\"#ArialMT-49\"/>\r\n",
       "       <use x=\"114.013672\" xlink:href=\"#ArialMT-53\"/>\r\n",
       "      </g>\r\n",
       "     </g>\r\n",
       "    </g>\r\n",
       "    <g id=\"ytick_2\">\r\n",
       "     <g id=\"line2d_9\">\r\n",
       "      <g>\r\n",
       "       <use style=\"stroke:#000000;stroke-width:0.8;\" x=\"48.5825\" xlink:href=\"#m11f77333a6\" y=\"181.810909\"/>\r\n",
       "      </g>\r\n",
       "     </g>\r\n",
       "     <g id=\"text_10\">\r\n",
       "      <!-- \u221210 -->\r\n",
       "      <g transform=\"translate(24.62 185.389815)scale(0.1 -0.1)\">\r\n",
       "       <use xlink:href=\"#ArialMT-8722\"/>\r\n",
       "       <use x=\"58.398438\" xlink:href=\"#ArialMT-49\"/>\r\n",
       "       <use x=\"114.013672\" xlink:href=\"#ArialMT-48\"/>\r\n",
       "      </g>\r\n",
       "     </g>\r\n",
       "    </g>\r\n",
       "    <g id=\"ytick_3\">\r\n",
       "     <g id=\"line2d_10\">\r\n",
       "      <g>\r\n",
       "       <use style=\"stroke:#000000;stroke-width:0.8;\" x=\"48.5825\" xlink:href=\"#m11f77333a6\" y=\"148.865455\"/>\r\n",
       "      </g>\r\n",
       "     </g>\r\n",
       "     <g id=\"text_11\">\r\n",
       "      <!-- \u22125 -->\r\n",
       "      <g transform=\"translate(30.180938 152.444361)scale(0.1 -0.1)\">\r\n",
       "       <use xlink:href=\"#ArialMT-8722\"/>\r\n",
       "       <use x=\"58.398438\" xlink:href=\"#ArialMT-53\"/>\r\n",
       "      </g>\r\n",
       "     </g>\r\n",
       "    </g>\r\n",
       "    <g id=\"ytick_4\">\r\n",
       "     <g id=\"line2d_11\">\r\n",
       "      <g>\r\n",
       "       <use style=\"stroke:#000000;stroke-width:0.8;\" x=\"48.5825\" xlink:href=\"#m11f77333a6\" y=\"115.92\"/>\r\n",
       "      </g>\r\n",
       "     </g>\r\n",
       "     <g id=\"text_12\">\r\n",
       "      <!-- 0 -->\r\n",
       "      <g transform=\"translate(36.021563 119.498906)scale(0.1 -0.1)\">\r\n",
       "       <use xlink:href=\"#ArialMT-48\"/>\r\n",
       "      </g>\r\n",
       "     </g>\r\n",
       "    </g>\r\n",
       "    <g id=\"ytick_5\">\r\n",
       "     <g id=\"line2d_12\">\r\n",
       "      <g>\r\n",
       "       <use style=\"stroke:#000000;stroke-width:0.8;\" x=\"48.5825\" xlink:href=\"#m11f77333a6\" y=\"82.974545\"/>\r\n",
       "      </g>\r\n",
       "     </g>\r\n",
       "     <g id=\"text_13\">\r\n",
       "      <!-- 5 -->\r\n",
       "      <g transform=\"translate(36.021563 86.553452)scale(0.1 -0.1)\">\r\n",
       "       <use xlink:href=\"#ArialMT-53\"/>\r\n",
       "      </g>\r\n",
       "     </g>\r\n",
       "    </g>\r\n",
       "    <g id=\"ytick_6\">\r\n",
       "     <g id=\"line2d_13\">\r\n",
       "      <g>\r\n",
       "       <use style=\"stroke:#000000;stroke-width:0.8;\" x=\"48.5825\" xlink:href=\"#m11f77333a6\" y=\"50.029091\"/>\r\n",
       "      </g>\r\n",
       "     </g>\r\n",
       "     <g id=\"text_14\">\r\n",
       "      <!-- 10 -->\r\n",
       "      <g transform=\"translate(30.460625 53.607997)scale(0.1 -0.1)\">\r\n",
       "       <use xlink:href=\"#ArialMT-49\"/>\r\n",
       "       <use x=\"55.615234\" xlink:href=\"#ArialMT-48\"/>\r\n",
       "      </g>\r\n",
       "     </g>\r\n",
       "    </g>\r\n",
       "    <g id=\"ytick_7\">\r\n",
       "     <g id=\"line2d_14\">\r\n",
       "      <g>\r\n",
       "       <use style=\"stroke:#000000;stroke-width:0.8;\" x=\"48.5825\" xlink:href=\"#m11f77333a6\" y=\"17.083636\"/>\r\n",
       "      </g>\r\n",
       "     </g>\r\n",
       "     <g id=\"text_15\">\r\n",
       "      <!-- 15 -->\r\n",
       "      <g transform=\"translate(30.460625 20.662543)scale(0.1 -0.1)\">\r\n",
       "       <use xlink:href=\"#ArialMT-49\"/>\r\n",
       "       <use x=\"55.615234\" xlink:href=\"#ArialMT-53\"/>\r\n",
       "      </g>\r\n",
       "     </g>\r\n",
       "    </g>\r\n",
       "    <g id=\"text_16\">\r\n",
       "     <!-- $|$$\\psi_j(\\varphi)$$|^2$ -->\r\n",
       "     <defs>\r\n",
       "      <path d=\"M 21 76.421875 \r\n",
       "L 21 -23.578125 \r\n",
       "L 12.703125 -23.578125 \r\n",
       "L 12.703125 76.421875 \r\n",
       "z\r\n",
       "\" id=\"DejaVuSans-124\"/>\r\n",
       "      <path d=\"M 24.859375 -1.21875 \r\n",
       "Q 13.921875 0.59375 9.625 5.328125 \r\n",
       "Q 4.34375 11.140625 6.640625 23 \r\n",
       "L 12.796875 54.6875 \r\n",
       "L 21.875 54.6875 \r\n",
       "L 15.765625 23.34375 \r\n",
       "Q 14.0625 14.40625 17.484375 10.6875 \r\n",
       "Q 20.515625 7.46875 26.421875 6.78125 \r\n",
       "L 35.6875 54.6875 \r\n",
       "L 44.625 54.6875 \r\n",
       "L 35.359375 6.84375 \r\n",
       "Q 41.890625 7.515625 45.75 10.75 \r\n",
       "Q 50.734375 14.84375 52.390625 23.390625 \r\n",
       "L 58.453125 54.6875 \r\n",
       "L 67.53125 54.6875 \r\n",
       "L 61.375 23.046875 \r\n",
       "Q 58.984375 10.75 51.5625 5.375 \r\n",
       "Q 44.875 0.53125 33.796875 -1.171875 \r\n",
       "L 29.984375 -20.796875 \r\n",
       "L 21.046875 -20.796875 \r\n",
       "z\r\n",
       "\" id=\"DejaVuSans-Oblique-968\"/>\r\n",
       "      <path d=\"M 14.5 54.6875 \r\n",
       "L 23.484375 54.6875 \r\n",
       "L 12.703125 -0.984375 \r\n",
       "L 12.640625 -1.21875 \r\n",
       "Q 10.84375 -10.546875 8.5 -14.015625 \r\n",
       "Q 6.296875 -17.28125 2.0625 -19.03125 \r\n",
       "Q -2.15625 -20.796875 -7.90625 -20.796875 \r\n",
       "L -11.28125 -20.796875 \r\n",
       "L -9.8125 -13.1875 \r\n",
       "L -7.515625 -13.1875 \r\n",
       "Q -2.25 -13.1875 -0.015625 -10.984375 \r\n",
       "Q 2.203125 -8.796875 3.71875 -0.984375 \r\n",
       "z\r\n",
       "M 18.703125 75.984375 \r\n",
       "L 27.6875 75.984375 \r\n",
       "L 25.484375 64.59375 \r\n",
       "L 16.5 64.59375 \r\n",
       "z\r\n",
       "\" id=\"DejaVuSans-Oblique-106\"/>\r\n",
       "      <path d=\"M 31 75.875 \r\n",
       "Q 24.46875 64.65625 21.28125 53.65625 \r\n",
       "Q 18.109375 42.671875 18.109375 31.390625 \r\n",
       "Q 18.109375 20.125 21.3125 9.0625 \r\n",
       "Q 24.515625 -2 31 -13.1875 \r\n",
       "L 23.1875 -13.1875 \r\n",
       "Q 15.875 -1.703125 12.234375 9.375 \r\n",
       "Q 8.59375 20.453125 8.59375 31.390625 \r\n",
       "Q 8.59375 42.28125 12.203125 53.3125 \r\n",
       "Q 15.828125 64.359375 23.1875 75.875 \r\n",
       "z\r\n",
       "\" id=\"DejaVuSans-40\"/>\r\n",
       "      <path d=\"M 8.015625 75.875 \r\n",
       "L 15.828125 75.875 \r\n",
       "Q 23.140625 64.359375 26.78125 53.3125 \r\n",
       "Q 30.421875 42.28125 30.421875 31.390625 \r\n",
       "Q 30.421875 20.453125 26.78125 9.375 \r\n",
       "Q 23.140625 -1.703125 15.828125 -13.1875 \r\n",
       "L 8.015625 -13.1875 \r\n",
       "Q 14.5 -2 17.703125 9.0625 \r\n",
       "Q 20.90625 20.125 20.90625 31.390625 \r\n",
       "Q 20.90625 42.671875 17.703125 53.65625 \r\n",
       "Q 14.5 64.65625 8.015625 75.875 \r\n",
       "z\r\n",
       "\" id=\"DejaVuSans-41\"/>\r\n",
       "      <path d=\"M 19.1875 8.296875 \r\n",
       "L 53.609375 8.296875 \r\n",
       "L 53.609375 0 \r\n",
       "L 7.328125 0 \r\n",
       "L 7.328125 8.296875 \r\n",
       "Q 12.9375 14.109375 22.625 23.890625 \r\n",
       "Q 32.328125 33.6875 34.8125 36.53125 \r\n",
       "Q 39.546875 41.84375 41.421875 45.53125 \r\n",
       "Q 43.3125 49.21875 43.3125 52.78125 \r\n",
       "Q 43.3125 58.59375 39.234375 62.25 \r\n",
       "Q 35.15625 65.921875 28.609375 65.921875 \r\n",
       "Q 23.96875 65.921875 18.8125 64.3125 \r\n",
       "Q 13.671875 62.703125 7.8125 59.421875 \r\n",
       "L 7.8125 69.390625 \r\n",
       "Q 13.765625 71.78125 18.9375 73 \r\n",
       "Q 24.125 74.21875 28.421875 74.21875 \r\n",
       "Q 39.75 74.21875 46.484375 68.546875 \r\n",
       "Q 53.21875 62.890625 53.21875 53.421875 \r\n",
       "Q 53.21875 48.921875 51.53125 44.890625 \r\n",
       "Q 49.859375 40.875 45.40625 35.40625 \r\n",
       "Q 44.1875 33.984375 37.640625 27.21875 \r\n",
       "Q 31.109375 20.453125 19.1875 8.296875 \r\n",
       "z\r\n",
       "\" id=\"DejaVuSans-50\"/>\r\n",
       "     </defs>\r\n",
       "     <g transform=\"translate(17.21 135.06)rotate(-90)scale(0.11 -0.11)\">\r\n",
       "      <use transform=\"translate(0 0.765625)\" xlink:href=\"#DejaVuSans-124\"/>\r\n",
       "      <use transform=\"translate(33.691406 0.765625)\" xlink:href=\"#DejaVuSans-Oblique-968\"/>\r\n",
       "      <use transform=\"translate(99.658203 -15.640625)scale(0.7)\" xlink:href=\"#DejaVuSans-Oblique-106\"/>\r\n",
       "      <use transform=\"translate(121.84082 0.765625)\" xlink:href=\"#DejaVuSans-40\"/>\r\n",
       "      <use transform=\"translate(160.854492 0.765625)\" xlink:href=\"#DejaVuSans-Oblique-966\"/>\r\n",
       "      <use transform=\"translate(226.821289 0.765625)\" xlink:href=\"#DejaVuSans-41\"/>\r\n",
       "      <use transform=\"translate(265.834961 0.765625)\" xlink:href=\"#DejaVuSans-124\"/>\r\n",
       "      <use transform=\"translate(300.483398 39.046875)scale(0.7)\" xlink:href=\"#DejaVuSans-50\"/>\r\n",
       "     </g>\r\n",
       "    </g>\r\n",
       "   </g>\r\n",
       "   <g id=\"line2d_15\">\r\n",
       "    <path clip-path=\"url(#p72a7724f2d)\" d=\"M 63.800682 17.083636 \r\n",
       "L 65.829773 17.170333 \r\n",
       "L 67.858864 17.430269 \r\n",
       "L 69.887955 17.862991 \r\n",
       "L 71.917045 18.467737 \r\n",
       "L 73.946136 19.243448 \r\n",
       "L 75.975227 20.188762 \r\n",
       "L 78.004318 21.302022 \r\n",
       "L 80.033409 22.581274 \r\n",
       "L 82.0625 24.024273 \r\n",
       "L 84.091591 25.628489 \r\n",
       "L 86.120682 27.391107 \r\n",
       "L 90.178864 31.378907 \r\n",
       "L 94.237045 35.959702 \r\n",
       "L 98.295227 41.101361 \r\n",
       "L 102.353409 46.76782 \r\n",
       "L 106.411591 52.919331 \r\n",
       "L 110.469773 59.512746 \r\n",
       "L 114.527955 66.501818 \r\n",
       "L 118.586136 73.837523 \r\n",
       "L 124.673409 85.377884 \r\n",
       "L 130.760682 97.399912 \r\n",
       "L 142.935227 122.125987 \r\n",
       "L 151.051591 138.48937 \r\n",
       "L 157.138864 150.371594 \r\n",
       "L 163.226136 161.710495 \r\n",
       "L 167.284318 168.879172 \r\n",
       "L 171.3425 175.676378 \r\n",
       "L 175.400682 182.054436 \r\n",
       "L 179.458864 187.968608 \r\n",
       "L 183.517045 193.377412 \r\n",
       "L 187.575227 198.242907 \r\n",
       "L 191.633409 202.530966 \r\n",
       "L 193.6625 204.448893 \r\n",
       "L 195.691591 206.211511 \r\n",
       "L 197.720682 207.815727 \r\n",
       "L 199.749773 209.258726 \r\n",
       "L 201.778864 210.537978 \r\n",
       "L 203.807955 211.651238 \r\n",
       "L 205.837045 212.596552 \r\n",
       "L 207.866136 213.372263 \r\n",
       "L 209.895227 213.977009 \r\n",
       "L 211.924318 214.409731 \r\n",
       "L 213.953409 214.669667 \r\n",
       "L 215.9825 214.756364 \r\n",
       "L 218.011591 214.669667 \r\n",
       "L 220.040682 214.409731 \r\n",
       "L 222.069773 213.977009 \r\n",
       "L 224.098864 213.372263 \r\n",
       "L 226.127955 212.596552 \r\n",
       "L 228.157045 211.651238 \r\n",
       "L 230.186136 210.537978 \r\n",
       "L 232.215227 209.258726 \r\n",
       "L 234.244318 207.815727 \r\n",
       "L 236.273409 206.211511 \r\n",
       "L 238.3025 204.448893 \r\n",
       "L 242.360682 200.461093 \r\n",
       "L 246.418864 195.880298 \r\n",
       "L 250.477045 190.738639 \r\n",
       "L 254.535227 185.07218 \r\n",
       "L 258.593409 178.920669 \r\n",
       "L 262.651591 172.327254 \r\n",
       "L 266.709773 165.338182 \r\n",
       "L 270.767955 158.002477 \r\n",
       "L 276.855227 146.462116 \r\n",
       "L 282.9425 134.440088 \r\n",
       "L 295.117045 109.714013 \r\n",
       "L 303.233409 93.35063 \r\n",
       "L 309.320682 81.468406 \r\n",
       "L 315.407955 70.129505 \r\n",
       "L 319.466136 62.960828 \r\n",
       "L 323.524318 56.163622 \r\n",
       "L 327.5825 49.785564 \r\n",
       "L 331.640682 43.871392 \r\n",
       "L 335.698864 38.462588 \r\n",
       "L 339.757045 33.597093 \r\n",
       "L 343.815227 29.309034 \r\n",
       "L 345.844318 27.391107 \r\n",
       "L 347.873409 25.628489 \r\n",
       "L 349.9025 24.024273 \r\n",
       "L 351.931591 22.581274 \r\n",
       "L 353.960682 21.302022 \r\n",
       "L 355.989773 20.188762 \r\n",
       "L 358.018864 19.243448 \r\n",
       "L 360.047955 18.467737 \r\n",
       "L 362.077045 17.862991 \r\n",
       "L 364.106136 17.430269 \r\n",
       "L 366.135227 17.170333 \r\n",
       "L 368.164318 17.083636 \r\n",
       "L 368.164318 17.083636 \r\n",
       "\" style=\"fill:none;stroke:#808080;stroke-linecap:square;stroke-width:1.5;\"/>\r\n",
       "   </g>\r\n",
       "   <g id=\"line2d_16\">\r\n",
       "    <path clip-path=\"url(#p72a7724f2d)\" d=\"M 63.800682 195.496674 \r\n",
       "L 142.935227 195.407823 \r\n",
       "L 153.080682 195.166817 \r\n",
       "L 159.167955 194.827645 \r\n",
       "L 165.255227 194.223226 \r\n",
       "L 169.313409 193.611117 \r\n",
       "L 173.371591 192.787658 \r\n",
       "L 177.429773 191.722618 \r\n",
       "L 181.487955 190.401412 \r\n",
       "L 185.546136 188.834016 \r\n",
       "L 191.633409 186.123419 \r\n",
       "L 199.749773 182.338151 \r\n",
       "L 203.807955 180.672149 \r\n",
       "L 207.866136 179.351987 \r\n",
       "L 209.895227 178.862162 \r\n",
       "L 211.924318 178.503049 \r\n",
       "L 213.953409 178.283803 \r\n",
       "L 215.9825 178.210083 \r\n",
       "L 218.011591 178.283803 \r\n",
       "L 220.040682 178.503049 \r\n",
       "L 222.069773 178.862162 \r\n",
       "L 224.098864 179.351987 \r\n",
       "L 228.157045 180.672149 \r\n",
       "L 232.215227 182.338151 \r\n",
       "L 240.331591 186.123419 \r\n",
       "L 246.418864 188.834016 \r\n",
       "L 250.477045 190.401412 \r\n",
       "L 254.535227 191.722618 \r\n",
       "L 258.593409 192.787658 \r\n",
       "L 262.651591 193.611117 \r\n",
       "L 266.709773 194.223226 \r\n",
       "L 272.797045 194.827645 \r\n",
       "L 278.884318 195.166817 \r\n",
       "L 287.000682 195.379688 \r\n",
       "L 301.204318 195.481611 \r\n",
       "L 362.077045 195.496674 \r\n",
       "L 368.164318 195.496674 \r\n",
       "L 368.164318 195.496674 \r\n",
       "\" style=\"fill:none;stroke:#016e82;stroke-linecap:square;stroke-width:1.5;\"/>\r\n",
       "   </g>\r\n",
       "   <g id=\"patch_3\">\r\n",
       "    <path d=\"M 48.5825 224.64 \r\n",
       "L 48.5825 7.2 \r\n",
       "\" style=\"fill:none;stroke:#000000;stroke-linecap:square;stroke-linejoin:miter;stroke-width:0.8;\"/>\r\n",
       "   </g>\r\n",
       "   <g id=\"patch_4\">\r\n",
       "    <path d=\"M 48.5825 224.64 \r\n",
       "L 383.3825 224.64 \r\n",
       "\" style=\"fill:none;stroke:#000000;stroke-linecap:square;stroke-linejoin:miter;stroke-width:0.8;\"/>\r\n",
       "   </g>\r\n",
       "  </g>\r\n",
       " </g>\r\n",
       " <defs>\r\n",
       "  <clipPath id=\"p72a7724f2d\">\r\n",
       "   <rect height=\"217.44\" width=\"334.8\" x=\"48.5825\" y=\"7.2\"/>\r\n",
       "  </clipPath>\r\n",
       " </defs>\r\n",
       "</svg>\r\n"
      ],
      "text/plain": [
       "<Figure size 900x600 with 1 Axes>"
      ]
     },
     "metadata": {
      "needs_background": "light"
     },
     "output_type": "display_data"
    }
   ],
   "source": [
    "tmon.plot_phi_wavefunction(filename='wavefunc.pdf');"
   ]
  }
 ],
 "metadata": {
  "celltoolbar": "Edit Metadata",
  "kernelspec": {
   "display_name": "Python 3",
   "language": "python",
   "name": "python3"
  },
  "language_info": {
   "codemirror_mode": {
    "name": "ipython",
    "version": 3
   },
   "file_extension": ".py",
   "mimetype": "text/x-python",
   "name": "python",
   "nbconvert_exporter": "python",
   "pygments_lexer": "ipython3",
   "version": "3.7.7"
  },
  "toc": {
   "toc_cell": false,
   "toc_number_sections": true,
   "toc_threshold": 6,
   "toc_window_display": false
  },
  "varInspector": {
   "cols": {
    "lenName": 16,
    "lenType": 16,
    "lenVar": 40
   },
   "kernels_config": {
    "python": {
     "delete_cmd_postfix": "",
     "delete_cmd_prefix": "del ",
     "library": "var_list.py",
     "varRefreshCmd": "print(var_dic_list())"
    },
    "r": {
     "delete_cmd_postfix": ") ",
     "delete_cmd_prefix": "rm(",
     "library": "var_list.r",
     "varRefreshCmd": "cat(var_dic_list()) "
    }
   },
   "types_to_exclude": [
    "module",
    "function",
    "builtin_function_or_method",
    "instance",
    "_Feature"
   ],
   "window_display": false
  },
  "widgets": {
   "application/vnd.jupyter.widget-state+json": {
    "state": {
     "02e80fc1983b45c1a9f651c62910ae59": {
      "model_module": "@jupyter-widgets/base",
      "model_module_version": "1.2.0",
      "model_name": "LayoutModel",
      "state": {}
     },
     "0574fbd71543453b9719bb7ea45336d3": {
      "model_module": "@jupyter-widgets/base",
      "model_module_version": "1.2.0",
      "model_name": "LayoutModel",
      "state": {}
     },
     "0ecbdc6f1b8b48ea8f340d53c50c01b7": {
      "model_module": "@jupyter-widgets/base",
      "model_module_version": "1.2.0",
      "model_name": "LayoutModel",
      "state": {}
     },
     "1398d4d3ca9f4b3fb13212da33710992": {
      "model_module": "@jupyter-widgets/controls",
      "model_module_version": "1.5.0",
      "model_name": "ProgressStyleModel",
      "state": {
       "description_width": "initial"
      }
     },
     "15299ed39716486ea640447d504c6cc4": {
      "model_module": "@jupyter-widgets/controls",
      "model_module_version": "1.5.0",
      "model_name": "LabelModel",
      "state": {
       "layout": "IPY_MODEL_d9f4a8d76ae8432194c41b515dbe7054",
       "style": "IPY_MODEL_ef64fb4fdd8649eabea432c91e615880",
       "value": "ncut"
      }
     },
     "1880e3c0e7ce47c2b9fa2ad4f233f59b": {
      "model_module": "@jupyter-widgets/base",
      "model_module_version": "1.2.0",
      "model_name": "LayoutModel",
      "state": {
       "width": "400px"
      }
     },
     "19fdb34b18364d9394b0e375a8b375eb": {
      "model_module": "@jupyter-widgets/controls",
      "model_module_version": "1.5.0",
      "model_name": "LabelModel",
      "state": {
       "layout": "IPY_MODEL_fbecac4c291142a08adad8ea20013c6f",
       "style": "IPY_MODEL_33696c09c8db4714a2806c79f4e8f4ea",
       "value": "EJ"
      }
     },
     "1cd9cc4b234c4884921855ab20272525": {
      "model_module": "@jupyter-widgets/controls",
      "model_module_version": "1.5.0",
      "model_name": "FloatProgressModel",
      "state": {
       "description": "Spectral data: 100%",
       "layout": "IPY_MODEL_c0248578249b4c9f8e9f8e7fc0f18c5a",
       "max": 220,
       "style": "IPY_MODEL_a6fd5b77b87b4108a7f0aa3f17c62538",
       "value": 220
      }
     },
     "20943dd388924afeac820e16b5fa1a67": {
      "model_module": "@jupyter-widgets/controls",
      "model_module_version": "1.5.0",
      "model_name": "DescriptionStyleModel",
      "state": {
       "description_width": ""
      }
     },
     "236b2e7495294607b16068ec392fb313": {
      "model_module": "@jupyter-widgets/controls",
      "model_module_version": "1.5.0",
      "model_name": "LabelModel",
      "state": {
       "layout": "IPY_MODEL_f61129c3b0224cfbb5f22a768e84cf20",
       "style": "IPY_MODEL_9f92cc57dd1d419287a9d823867b1759",
       "value": "EC"
      }
     },
     "249d0bb208024c8ebdd612caeca9be93": {
      "model_module": "@jupyter-widgets/controls",
      "model_module_version": "1.5.0",
      "model_name": "FloatTextModel",
      "state": {
       "layout": "IPY_MODEL_f7d782d4c0454008b8d37b7b17649c32",
       "step": null,
       "style": "IPY_MODEL_c8796fd0c8f448b291266ebee0e57788",
       "value": 30
      }
     },
     "288cf15565364fcc92f70d25619fe1ee": {
      "model_module": "@jupyter-widgets/controls",
      "model_module_version": "1.5.0",
      "model_name": "HBoxModel",
      "state": {
       "children": [
        "IPY_MODEL_a65159b4285a428ba848b1fd426ead13",
        "IPY_MODEL_b81cd3c6f4a84cc6b82cc7f55beb2600"
       ],
       "layout": "IPY_MODEL_df9f38bb57f844108c442b321a1e784b"
      }
     },
     "2bc7ea9209904f3c9f377577edf241c0": {
      "model_module": "@jupyter-widgets/base",
      "model_module_version": "1.2.0",
      "model_name": "LayoutModel",
      "state": {
       "justify_content": "flex-end"
      }
     },
     "30b30f11c4d141888634da7d40760409": {
      "model_module": "@jupyter-widgets/base",
      "model_module_version": "1.2.0",
      "model_name": "LayoutModel",
      "state": {}
     },
     "33696c09c8db4714a2806c79f4e8f4ea": {
      "model_module": "@jupyter-widgets/controls",
      "model_module_version": "1.5.0",
      "model_name": "DescriptionStyleModel",
      "state": {
       "description_width": ""
      }
     },
     "34c994619d21498eb3053b39447a0f29": {
      "model_module": "@jupyter-widgets/controls",
      "model_module_version": "1.5.0",
      "model_name": "HBoxModel",
      "state": {
       "children": [
        "IPY_MODEL_19fdb34b18364d9394b0e375a8b375eb",
        "IPY_MODEL_249d0bb208024c8ebdd612caeca9be93"
       ],
       "layout": "IPY_MODEL_3950c144c6cc4e51a364c5e3eaa2f816"
      }
     },
     "3950c144c6cc4e51a364c5e3eaa2f816": {
      "model_module": "@jupyter-widgets/base",
      "model_module_version": "1.2.0",
      "model_name": "LayoutModel",
      "state": {
       "justify_content": "flex-end"
      }
     },
     "3d44fdc11250449d9449094c87cb2b09": {
      "model_module": "@jupyter-widgets/controls",
      "model_module_version": "1.5.0",
      "model_name": "DescriptionStyleModel",
      "state": {
       "description_width": ""
      }
     },
     "3d7aac161bcf48639bbba26844789d5a": {
      "model_module": "@jupyter-widgets/controls",
      "model_module_version": "1.5.0",
      "model_name": "HTMLModel",
      "state": {
       "layout": "IPY_MODEL_8879bf564f0e44e1bbb100cad202a324",
       "style": "IPY_MODEL_e756e1f52ecb4fad99e43e323c9617c3",
       "value": " 220/220 [00:00&lt;00:00, 493.86it/s]"
      }
     },
     "3f534490f91e4b478979382702c92a43": {
      "model_module": "@jupyter-widgets/controls",
      "model_module_version": "1.5.0",
      "model_name": "FloatTextModel",
      "state": {
       "layout": "IPY_MODEL_02e80fc1983b45c1a9f651c62910ae59",
       "step": null,
       "style": "IPY_MODEL_d74c01bfff924b1887f18bfde9e38d6f",
       "value": 1.2
      }
     },
     "3fbcebfd1ba14031b14caea1dcdd5380": {
      "model_module": "@jupyter-widgets/base",
      "model_module_version": "1.2.0",
      "model_name": "LayoutModel",
      "state": {}
     },
     "406dcab2d9584cc6bde03dbbe407dba0": {
      "model_module": "@jupyter-widgets/controls",
      "model_module_version": "1.5.0",
      "model_name": "HBoxModel",
      "state": {
       "children": [
        "IPY_MODEL_236b2e7495294607b16068ec392fb313",
        "IPY_MODEL_3f534490f91e4b478979382702c92a43"
       ],
       "layout": "IPY_MODEL_fa56022c22844a4f88fce33bf5d226af"
      }
     },
     "42d3499e992342e08a324d71d59e9bee": {
      "model_module": "@jupyter-widgets/base",
      "model_module_version": "1.2.0",
      "model_name": "LayoutModel",
      "state": {}
     },
     "45923d7a79594cdf8f3ce973320d1c97": {
      "model_module": "@jupyter-widgets/base",
      "model_module_version": "1.2.0",
      "model_name": "LayoutModel",
      "state": {}
     },
     "49d2e17edae14fc7a9a7e249b23670b3": {
      "model_module": "@jupyter-widgets/base",
      "model_module_version": "1.2.0",
      "model_name": "LayoutModel",
      "state": {
       "justify_content": "flex-end"
      }
     },
     "4ded03e66bef4186a6666f6fb8138ae0": {
      "model_module": "@jupyter-widgets/controls",
      "model_module_version": "1.5.0",
      "model_name": "ProgressStyleModel",
      "state": {
       "description_width": "initial"
      }
     },
     "504b72f2b95f4d238ddea7a5b3b11bf0": {
      "model_module": "@jupyter-widgets/controls",
      "model_module_version": "1.5.0",
      "model_name": "LabelModel",
      "state": {
       "layout": "IPY_MODEL_945411e4d15546a6a16ed22f3912bf01",
       "style": "IPY_MODEL_828763b84e37446cb82861d135890fcd",
       "value": "ng"
      }
     },
     "6260a2581ca14f11b4807ca62e0de632": {
      "model_module": "@jupyter-widgets/controls",
      "model_module_version": "1.5.0",
      "model_name": "DescriptionStyleModel",
      "state": {
       "description_width": ""
      }
     },
     "685363d587084180b016ecf563930747": {
      "model_module": "@jupyter-widgets/controls",
      "model_module_version": "1.5.0",
      "model_name": "FloatProgressModel",
      "state": {
       "description": "Spectral data: 100%",
       "layout": "IPY_MODEL_b15e2df455064788ac71572c030e29a7",
       "max": 220,
       "style": "IPY_MODEL_4ded03e66bef4186a6666f6fb8138ae0",
       "value": 220
      }
     },
     "6968f2b2ac6a4c9c899b92c490cd7480": {
      "model_module": "@jupyter-widgets/base",
      "model_module_version": "1.2.0",
      "model_name": "LayoutModel",
      "state": {}
     },
     "6c3f9640c6944ffcac39c3ef6dd4831a": {
      "model_module": "@jupyter-widgets/base",
      "model_module_version": "1.2.0",
      "model_name": "LayoutModel",
      "state": {
       "justify_content": "flex-end"
      }
     },
     "6f77d18b4371467f9e69300d16b55a11": {
      "model_module": "@jupyter-widgets/controls",
      "model_module_version": "1.5.0",
      "model_name": "DescriptionStyleModel",
      "state": {
       "description_width": ""
      }
     },
     "7bbb8bb20c554bbfb5b3150547fb0f10": {
      "model_module": "@jupyter-widgets/controls",
      "model_module_version": "1.5.0",
      "model_name": "IntTextModel",
      "state": {
       "layout": "IPY_MODEL_0574fbd71543453b9719bb7ea45336d3",
       "step": 1,
       "style": "IPY_MODEL_3d44fdc11250449d9449094c87cb2b09",
       "value": 30
      }
     },
     "80bef6d428234a5a92caa42e5480a11a": {
      "model_module": "@jupyter-widgets/controls",
      "model_module_version": "1.5.0",
      "model_name": "ProgressStyleModel",
      "state": {
       "description_width": "initial"
      }
     },
     "828763b84e37446cb82861d135890fcd": {
      "model_module": "@jupyter-widgets/controls",
      "model_module_version": "1.5.0",
      "model_name": "DescriptionStyleModel",
      "state": {
       "description_width": ""
      }
     },
     "85ca4ed50cff440c97c728e76cfb60fe": {
      "model_module": "@jupyter-widgets/output",
      "model_module_version": "1.0.0",
      "model_name": "OutputModel",
      "state": {
       "layout": "IPY_MODEL_6968f2b2ac6a4c9c899b92c490cd7480"
      }
     },
     "8879bf564f0e44e1bbb100cad202a324": {
      "model_module": "@jupyter-widgets/base",
      "model_module_version": "1.2.0",
      "model_name": "LayoutModel",
      "state": {}
     },
     "88afd045f70e4b178d9e03ed3a7c7a66": {
      "model_module": "@jupyter-widgets/controls",
      "model_module_version": "1.5.0",
      "model_name": "LabelModel",
      "state": {
       "layout": "IPY_MODEL_aee52745d24a4a5b93c3a79df4e8db38",
       "style": "IPY_MODEL_6260a2581ca14f11b4807ca62e0de632",
       "value": "truncated_dim"
      }
     },
     "91c40e325a494130ae3089aa9da29779": {
      "model_module": "@jupyter-widgets/base",
      "model_module_version": "1.2.0",
      "model_name": "LayoutModel",
      "state": {}
     },
     "945411e4d15546a6a16ed22f3912bf01": {
      "model_module": "@jupyter-widgets/base",
      "model_module_version": "1.2.0",
      "model_name": "LayoutModel",
      "state": {}
     },
     "95d0185fe4d847bebf77fb3b5e0367e2": {
      "model_module": "@jupyter-widgets/controls",
      "model_module_version": "1.5.0",
      "model_name": "FloatTextModel",
      "state": {
       "layout": "IPY_MODEL_9a867853ecaf4bd688a1e4d2e8c703cd",
       "step": null,
       "style": "IPY_MODEL_6f77d18b4371467f9e69300d16b55a11"
      }
     },
     "975d1095a724423c8f64dccbb2595786": {
      "model_module": "@jupyter-widgets/controls",
      "model_module_version": "1.5.0",
      "model_name": "DescriptionStyleModel",
      "state": {
       "description_width": ""
      }
     },
     "98ddfcf5e12f44efa4ff148d6ff06fc0": {
      "model_module": "@jupyter-widgets/base",
      "model_module_version": "1.2.0",
      "model_name": "LayoutModel",
      "state": {}
     },
     "9a867853ecaf4bd688a1e4d2e8c703cd": {
      "model_module": "@jupyter-widgets/base",
      "model_module_version": "1.2.0",
      "model_name": "LayoutModel",
      "state": {}
     },
     "9f92cc57dd1d419287a9d823867b1759": {
      "model_module": "@jupyter-widgets/controls",
      "model_module_version": "1.5.0",
      "model_name": "DescriptionStyleModel",
      "state": {
       "description_width": ""
      }
     },
     "a5bee06102b64029a3c5fe2badb8d4e5": {
      "model_module": "@jupyter-widgets/controls",
      "model_module_version": "1.5.0",
      "model_name": "HTMLModel",
      "state": {
       "layout": "IPY_MODEL_e391610806d04e0ba956f6f6f4cfb41c",
       "style": "IPY_MODEL_cb7a554a88174f718102ad08b7e9c6ac",
       "value": " 220/220 [00:00&lt;00:00, 23.67it/s]"
      }
     },
     "a65159b4285a428ba848b1fd426ead13": {
      "model_module": "@jupyter-widgets/controls",
      "model_module_version": "1.5.0",
      "model_name": "VBoxModel",
      "state": {
       "children": [
        "IPY_MODEL_34c994619d21498eb3053b39447a0f29",
        "IPY_MODEL_406dcab2d9584cc6bde03dbbe407dba0",
        "IPY_MODEL_d40b058b1a4a463cad2456205cc8fd4a",
        "IPY_MODEL_fe92e030b4ff4852a9522c7109da1e77",
        "IPY_MODEL_d4d68dadec1540f591d550050250ed9d"
       ],
       "layout": "IPY_MODEL_91c40e325a494130ae3089aa9da29779"
      }
     },
     "a6fd5b77b87b4108a7f0aa3f17c62538": {
      "model_module": "@jupyter-widgets/controls",
      "model_module_version": "1.5.0",
      "model_name": "ProgressStyleModel",
      "state": {
       "description_width": "initial"
      }
     },
     "aee52745d24a4a5b93c3a79df4e8db38": {
      "model_module": "@jupyter-widgets/base",
      "model_module_version": "1.2.0",
      "model_name": "LayoutModel",
      "state": {}
     },
     "b15e2df455064788ac71572c030e29a7": {
      "model_module": "@jupyter-widgets/base",
      "model_module_version": "1.2.0",
      "model_name": "LayoutModel",
      "state": {}
     },
     "b81cd3c6f4a84cc6b82cc7f55beb2600": {
      "model_module": "@jupyter-widgets/controls",
      "model_module_version": "1.5.0",
      "model_name": "VBoxModel",
      "state": {
       "children": [
        "IPY_MODEL_e22f28f219f6467e9433564910cb6be6"
       ],
       "layout": "IPY_MODEL_dcf45e3ca2254ef2b1b387f18a1002ed"
      }
     },
     "b95467eb6acd477fbeb41595a9cc6886": {
      "model_module": "@jupyter-widgets/base",
      "model_module_version": "1.2.0",
      "model_name": "LayoutModel",
      "state": {}
     },
     "c0248578249b4c9f8e9f8e7fc0f18c5a": {
      "model_module": "@jupyter-widgets/base",
      "model_module_version": "1.2.0",
      "model_name": "LayoutModel",
      "state": {}
     },
     "c5523f9478ce4bfaaac5066e33eb7c83": {
      "model_module": "@jupyter-widgets/base",
      "model_module_version": "1.2.0",
      "model_name": "LayoutModel",
      "state": {}
     },
     "c61232a695f149079f592e69545a378d": {
      "model_module": "@jupyter-widgets/controls",
      "model_module_version": "1.5.0",
      "model_name": "FloatProgressModel",
      "state": {
       "description": "100%",
       "layout": "IPY_MODEL_b95467eb6acd477fbeb41595a9cc6886",
       "max": 220,
       "style": "IPY_MODEL_1398d4d3ca9f4b3fb13212da33710992",
       "value": 220
      }
     },
     "c8796fd0c8f448b291266ebee0e57788": {
      "model_module": "@jupyter-widgets/controls",
      "model_module_version": "1.5.0",
      "model_name": "DescriptionStyleModel",
      "state": {
       "description_width": ""
      }
     },
     "cb7a554a88174f718102ad08b7e9c6ac": {
      "model_module": "@jupyter-widgets/controls",
      "model_module_version": "1.5.0",
      "model_name": "DescriptionStyleModel",
      "state": {
       "description_width": ""
      }
     },
     "cbf8c896cc844011b500c25737aa2e93": {
      "model_module": "@jupyter-widgets/controls",
      "model_module_version": "1.5.0",
      "model_name": "FloatProgressModel",
      "state": {
       "description": "Spectral data: 100%",
       "layout": "IPY_MODEL_30b30f11c4d141888634da7d40760409",
       "max": 220,
       "style": "IPY_MODEL_80bef6d428234a5a92caa42e5480a11a",
       "value": 220
      }
     },
     "cc59fa53b1834e65bab4b7e21c7c9bd3": {
      "model_module": "@jupyter-widgets/base",
      "model_module_version": "1.2.0",
      "model_name": "LayoutModel",
      "state": {}
     },
     "cef829cdd24749b5a007ea2126fa2cb6": {
      "model_module": "@jupyter-widgets/controls",
      "model_module_version": "1.5.0",
      "model_name": "DescriptionStyleModel",
      "state": {
       "description_width": ""
      }
     },
     "d40b058b1a4a463cad2456205cc8fd4a": {
      "model_module": "@jupyter-widgets/controls",
      "model_module_version": "1.5.0",
      "model_name": "HBoxModel",
      "state": {
       "children": [
        "IPY_MODEL_504b72f2b95f4d238ddea7a5b3b11bf0",
        "IPY_MODEL_95d0185fe4d847bebf77fb3b5e0367e2"
       ],
       "layout": "IPY_MODEL_49d2e17edae14fc7a9a7e249b23670b3"
      }
     },
     "d4d68dadec1540f591d550050250ed9d": {
      "model_module": "@jupyter-widgets/controls",
      "model_module_version": "1.5.0",
      "model_name": "HBoxModel",
      "state": {
       "children": [
        "IPY_MODEL_88afd045f70e4b178d9e03ed3a7c7a66",
        "IPY_MODEL_ebf0bd7b6dc8476aa81ce815c0269f58"
       ],
       "layout": "IPY_MODEL_2bc7ea9209904f3c9f377577edf241c0"
      }
     },
     "d74c01bfff924b1887f18bfde9e38d6f": {
      "model_module": "@jupyter-widgets/controls",
      "model_module_version": "1.5.0",
      "model_name": "DescriptionStyleModel",
      "state": {
       "description_width": ""
      }
     },
     "d9f4a8d76ae8432194c41b515dbe7054": {
      "model_module": "@jupyter-widgets/base",
      "model_module_version": "1.2.0",
      "model_name": "LayoutModel",
      "state": {}
     },
     "dcf45e3ca2254ef2b1b387f18a1002ed": {
      "model_module": "@jupyter-widgets/base",
      "model_module_version": "1.2.0",
      "model_name": "LayoutModel",
      "state": {}
     },
     "df9f38bb57f844108c442b321a1e784b": {
      "model_module": "@jupyter-widgets/base",
      "model_module_version": "1.2.0",
      "model_name": "LayoutModel",
      "state": {}
     },
     "e22f28f219f6467e9433564910cb6be6": {
      "buffers": [
       {
        "data": "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",
        "encoding": "base64",
        "path": [
         "value"
        ]
       }
      ],
      "model_module": "@jupyter-widgets/controls",
      "model_module_version": "1.5.0",
      "model_name": "ImageModel",
      "state": {
       "layout": "IPY_MODEL_1880e3c0e7ce47c2b9fa2ad4f233f59b",
       "value": {}
      }
     },
     "e391610806d04e0ba956f6f6f4cfb41c": {
      "model_module": "@jupyter-widgets/base",
      "model_module_version": "1.2.0",
      "model_name": "LayoutModel",
      "state": {}
     },
     "e756e1f52ecb4fad99e43e323c9617c3": {
      "model_module": "@jupyter-widgets/controls",
      "model_module_version": "1.5.0",
      "model_name": "DescriptionStyleModel",
      "state": {
       "description_width": ""
      }
     },
     "ea2b62b7a66b4a8ebae005374b034bab": {
      "model_module": "@jupyter-widgets/controls",
      "model_module_version": "1.5.0",
      "model_name": "HTMLModel",
      "state": {
       "layout": "IPY_MODEL_98ddfcf5e12f44efa4ff148d6ff06fc0",
       "style": "IPY_MODEL_975d1095a724423c8f64dccbb2595786",
       "value": " 220/220 [00:00&lt;00:00, 292.68it/s]"
      }
     },
     "ebf0bd7b6dc8476aa81ce815c0269f58": {
      "model_module": "@jupyter-widgets/controls",
      "model_module_version": "1.5.0",
      "model_name": "IntTextModel",
      "state": {
       "layout": "IPY_MODEL_45923d7a79594cdf8f3ce973320d1c97",
       "step": 1,
       "style": "IPY_MODEL_cef829cdd24749b5a007ea2126fa2cb6",
       "value": 10
      }
     },
     "ef64fb4fdd8649eabea432c91e615880": {
      "model_module": "@jupyter-widgets/controls",
      "model_module_version": "1.5.0",
      "model_name": "DescriptionStyleModel",
      "state": {
       "description_width": ""
      }
     },
     "f19359c12def42c69b77b1df224e3e70": {
      "model_module": "@jupyter-widgets/controls",
      "model_module_version": "1.5.0",
      "model_name": "HTMLModel",
      "state": {
       "layout": "IPY_MODEL_3fbcebfd1ba14031b14caea1dcdd5380",
       "style": "IPY_MODEL_20943dd388924afeac820e16b5fa1a67",
       "value": " 220/220 [00:00&lt;00:00, 324.33it/s]"
      }
     },
     "f61129c3b0224cfbb5f22a768e84cf20": {
      "model_module": "@jupyter-widgets/base",
      "model_module_version": "1.2.0",
      "model_name": "LayoutModel",
      "state": {}
     },
     "f7d782d4c0454008b8d37b7b17649c32": {
      "model_module": "@jupyter-widgets/base",
      "model_module_version": "1.2.0",
      "model_name": "LayoutModel",
      "state": {}
     },
     "fa56022c22844a4f88fce33bf5d226af": {
      "model_module": "@jupyter-widgets/base",
      "model_module_version": "1.2.0",
      "model_name": "LayoutModel",
      "state": {
       "justify_content": "flex-end"
      }
     },
     "fbecac4c291142a08adad8ea20013c6f": {
      "model_module": "@jupyter-widgets/base",
      "model_module_version": "1.2.0",
      "model_name": "LayoutModel",
      "state": {}
     },
     "fe92e030b4ff4852a9522c7109da1e77": {
      "model_module": "@jupyter-widgets/controls",
      "model_module_version": "1.5.0",
      "model_name": "HBoxModel",
      "state": {
       "children": [
        "IPY_MODEL_15299ed39716486ea640447d504c6cc4",
        "IPY_MODEL_7bbb8bb20c554bbfb5b3150547fb0f10"
       ],
       "layout": "IPY_MODEL_6c3f9640c6944ffcac39c3ef6dd4831a"
      }
     }
    },
    "version_major": 2,
    "version_minor": 0
   }
  }
 },
 "nbformat": 4,
 "nbformat_minor": 4
}