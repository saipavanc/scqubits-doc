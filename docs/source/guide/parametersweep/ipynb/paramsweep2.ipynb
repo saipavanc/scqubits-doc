{
 "cells": [
  {
   "cell_type": "markdown",
   "metadata": {
    "pycharm": {
     "name": "#%% md\n"
    }
   },
   "source": [
    "# `ParameterSweep` class\n",
    "Composite Hilbert spaces, as defined by {py:obj}`~scqubits.core.hilbert_space.HilbertSpace` objects, are more complicated than individual qubits. A variety of parameter sweeps can be considered, including multi-dimensional sweeps over a collection of parameters. A parameter to be varied does not need to be one of the initialization parameters. Instead it could be a coupling strength or some other derived quantity.\n",
    "\n",
    "For flexible parameter scans, scqubits provides the {py:obj}`~scqubits.core.param_sweep.ParameterSweep` class. To illustrate its usage, we first define a composite Hilbert space - using the example of two tunable transmon qubits coupled to an oscillator. (See the {py:obj}`~scqubits.core.hilbert_space.HilbertSpace` section in the user guide for details on this topic.)\n"
   ]
  },
  {
   "cell_type": "code",
   "execution_count": 2,
   "metadata": {
    "ExecuteTime": {
     "end_time": "2016-08-23T15:16:24.535943",
     "start_time": "2016-08-23T15:16:24.523929"
    },
    "pycharm": {
     "is_executing": false,
     "name": "#%%\n"
    }
   },
   "outputs": [],
   "source": [
    "# Define HilbertSpace object: two transmons coupled to an oscillator\n",
    "\n",
    "\n",
    "tmon1 = scq.TunableTransmon(\n",
    "    EJmax=40.0,\n",
    "    EC=0.2,\n",
    "    d=0.1,\n",
    "    flux=0.23,\n",
    "    ng=0.3,\n",
    "    ncut=40,\n",
    "    truncated_dim=3,     # after diagonalization, we will keep 3 levels\n",
    "    id_str=\"tmon1\"       # optional, used for referencing from within\n",
    "                         # ParameterSweep or HilbertSpace\n",
    ")\n",
    "\n",
    "tmon2 = scq.TunableTransmon(\n",
    "    EJmax=15.0,\n",
    "    EC=0.15,\n",
    "    d=0.2,\n",
    "    flux=0.0,\n",
    "    ng=0.0,\n",
    "    ncut=30,\n",
    "    truncated_dim=3,\n",
    "    id_str=\"tmon2\"\n",
    ")\n",
    "\n",
    "resonator = scq.Oscillator(\n",
    "    E_osc=4.5,\n",
    "    truncated_dim=4    # up to 3 photons (0,1,2,3)\n",
    ")\n",
    "\n",
    "hilbertspace = scq.HilbertSpace([tmon1, tmon2, resonator])\n",
    "\n",
    "\n",
    "g1 = 0.1  # coupling resonator-CPB1 (without charge matrix elements)\n",
    "g2 = 0.2  # coupling resonator-CPB2 (without charge matrix elements)\n",
    "\n",
    "hilbertspace.add_interaction(\n",
    "    g_strength = g1,\n",
    "    op1 = tmon1.n_operator,\n",
    "    op2 = resonator.creation_operator,\n",
    "    add_hc = True,\n",
    "    id_str=\"tmon1-resonator\"  # optional keyword argument\n",
    ")\n",
    "\n",
    "hilbertspace.add_interaction(\n",
    "    g_strength = g2,\n",
    "    op1 = tmon2.n_operator,\n",
    "    op2 = resonator.creation_operator,\n",
    "    add_hc = True,\n",
    "    id_str=\"tmon2-resonator\"  # optional keyword argument\n",
    ")"
   ]
  },
  {
   "cell_type": "markdown",
   "metadata": {
    "pycharm": {
     "name": "#%% md\n"
    }
   },
   "source": [
    "\n",
    "\n",
    "\n",
    "### Creating a ParameterSweep object\n",
    "\n",
    "The {py:obj}`~scqubits.core.param_sweep.ParameterSweep` class facilitates computation of spectra as function of one or multiple external parameter(s). For efficiency in computing a variety of derived quantities and creating plots, the computed bare and dressed spectral data are stored internally. \n",
    "\n",
    "A {py:obj}`~scqubits.core.param_sweep.ParameterSweep` object is initialized by providing the following parameters:\n",
    "\n",
    "* **hilbertspace** (`scq.HilbertSpace`) -- a {py:obj}`~scqubits.core.hilbert_space.HilbertSpace` object instance that describes the quantum system of interest\n",
    "* **paramvals_by_name** (`Dict[str, np.ndarray]`) -- a dictionary that maps each parameter name (string) to an array of parameter values \n",
    "* **update_hilbertspace** (`Callable`) -- a function that defines how parameters changes affect the system\n",
    "* **subsys_update_info** (`Optional[Dict[str, List[QuantumSystem]]]`) -- for potential speed-up, specify which subsystems undergo changes as each of the parameters is varied\n",
    "* **deepcopy** (`Optional[bool]`) -- determines whether the {py:obj}`~scqubits.core.hilbert_space.HilbertSpace` object and all constituents should be duplicated and disconnected from the global objects\n",
    "* **num_cpus** (`Optional[int]`) -- number of CPU cores requested for the sweep evaluation\n",
    "\n",
    "(See API documentation for additional options.)\n",
    "\n",
    "These ingredients all enter as initialization arguments of the {py:obj}`~scqubits.core.param_sweep.ParameterSweep` object. Once initialized, spectral data is generated and stored.\n",
    "\n",
    "In our example, we consider the strength of a global magnetic field as the parameter to be changed. This field determines the magnetic fluxes for both qubits, in proportions according to their SQUID loop areas. We will reference the flux for transmon 1, and express the flux for transmon 2 in terms of it via an area ratio. In addition, we will vary the offset charge of transmon 2.\n",
    "\n"
   ]
  },
  {
   "cell_type": "markdown",
   "metadata": {
    "pycharm": {
     "name": "#%% md\n"
    }
   },
   "source": [
    ".. warning::\n",
    "   Caution: When specifying operators in the interaction terms, it is advisable to provide each operator as a Callable. For example, use op1=fluxonium.n_operator, rather than the evaluated variant fluxonium.n_operator() which hands over a fixed matrix for that operator. Since representations of operators can themselves depend upon sweep parameters that are varied as part of a {py:obj}`~scqubits.core.param_sweep.ParameterSweep`, it is not always safe to work with fixed matrices."
   ]
  },
  {
   "cell_type": "code",
   "execution_count": 3,
   "metadata": {
    "pycharm": {
     "name": "#%%\n"
    },
    "scrolled": true
   },
   "outputs": [
    {
     "data": {
      "application/vnd.jupyter.widget-view+json": {
       "model_id": "",
       "version_major": 2,
       "version_minor": 0
      },
      "text/plain": [
       "HBox(children=(HTML(value='Parallel compute bare eigensys [num_cpus=4]'), FloatProgress(value=1.0, bar_style='\u2026"
      ]
     },
     "metadata": {},
     "output_type": "display_data"
    },
    {
     "data": {
      "application/vnd.jupyter.widget-view+json": {
       "model_id": "",
       "version_major": 2,
       "version_minor": 0
      },
      "text/plain": [
       "HBox(children=(HTML(value='Parallel compute bare eigensys [num_cpus=4]'), FloatProgress(value=1.0, bar_style='\u2026"
      ]
     },
     "metadata": {},
     "output_type": "display_data"
    },
    {
     "data": {
      "application/vnd.jupyter.widget-view+json": {
       "model_id": "",
       "version_major": 2,
       "version_minor": 0
      },
      "text/plain": [
       "HBox(children=(HTML(value='Parallel compute bare eigensys [num_cpus=4]'), FloatProgress(value=1.0, bar_style='\u2026"
      ]
     },
     "metadata": {},
     "output_type": "display_data"
    },
    {
     "data": {
      "application/vnd.jupyter.widget-view+json": {
       "model_id": "",
       "version_major": 2,
       "version_minor": 0
      },
      "text/plain": [
       "HBox(children=(HTML(value='Parallel compute dressed eigensys [num_cpus=4]'), FloatProgress(value=1.0, bar_styl\u2026"
      ]
     },
     "metadata": {},
     "output_type": "display_data"
    }
   ],
   "source": [
    "# Set up parameter name and values\n",
    "pname1 = 'flux'  \n",
    "flux_vals = np.linspace(0.0, 2.0, 171)\n",
    "pname2 = 'ng'\n",
    "ng_vals = np.linspace(-0.5, 0.5, 49)\n",
    "\n",
    "# combine into a dictionary\n",
    "paramvals_by_name = {pname1: flux_vals, pname2: ng_vals}\n",
    "\n",
    "\n",
    "area_ratio = 1.2\n",
    "\n",
    "def update_hilbertspace(flux, ng):  # function that defines how Hilbert space components are updated\n",
    "    tmon1.flux = flux\n",
    "    tmon2.flux = area_ratio * flux\n",
    "    tmon2.ng = ng\n",
    "\n",
    "# dictionary with information on which subsystems are affected by changing parameters    \n",
    "subsys_update_info = {pname1: [tmon1, tmon2],\n",
    "                      pname2: [tmon2]}\n",
    "\n",
    "    \n",
    "# create the ParameterSweep    \n",
    "sweep = ParameterSweep(\n",
    "    hilbertspace=hilbertspace,\n",
    "    paramvals_by_name=paramvals_by_name,\n",
    "    update_hilbertspace=update_hilbertspace,\n",
    "    evals_count=20,\n",
    "    subsys_update_info=subsys_update_info,\n",
    "    num_cpus=4\n",
    ")"
   ]
  },
  {
   "cell_type": "raw",
   "metadata": {
    "raw_mimetype": "text/restructuredtext",
    "tags": []
   },
   "source": [
    ".. toctree::\n",
    "   :hidden:\n",
    "   \n",
    "   ./paramsweep2-deepcopy.ipynb\n",
    "   ./paramsweep2-data.ipynb  \n",
    "   ./namedslots.ipynb\n",
    "   ./paramsweep2-customsweep.ipynb   \n",
    "   ./paramsweep2-transitions.ipynb   \n",
    "   ./paramsweep2-dispersive.ipynb\n",
    "   ./paramsweep2-helper.ipynb"
   ]
  }
 ],
 "metadata": {
  "celltoolbar": "Edit Metadata",
  "kernelspec": {
   "display_name": "Python 3 (ipykernel)",
   "language": "python",
   "name": "python3"
  },
  "language_info": {
   "codemirror_mode": {
    "name": "ipython",
    "version": 3
   },
   "file_extension": ".py",
   "mimetype": "text/x-python",
   "name": "python",
   "nbconvert_exporter": "python",
   "pygments_lexer": "ipython3",
   "version": "3.9.16"
  },
  "toc": {
   "base_numbering": 1,
   "nav_menu": {},
   "number_sections": false,
   "sideBar": true,
   "skip_h1_title": true,
   "title_cell": "Table of Contents",
   "title_sidebar": "Contents",
   "toc_cell": false,
   "toc_position": {},
   "toc_section_display": true,
   "toc_window_display": false
  },
  "varInspector": {
   "cols": {
    "lenName": 16,
    "lenType": 16,
    "lenVar": 40
   },
   "kernels_config": {
    "python": {
     "delete_cmd_postfix": "",
     "delete_cmd_prefix": "del ",
     "library": "var_list.py",
     "varRefreshCmd": "print(var_dic_list())"
    },
    "r": {
     "delete_cmd_postfix": ") ",
     "delete_cmd_prefix": "rm(",
     "library": "var_list.r",
     "varRefreshCmd": "cat(var_dic_list()) "
    }
   },
   "types_to_exclude": [
    "module",
    "function",
    "builtin_function_or_method",
    "instance",
    "_Feature"
   ],
   "window_display": false
  }
 },
 "nbformat": 4,
 "nbformat_minor": 4
}