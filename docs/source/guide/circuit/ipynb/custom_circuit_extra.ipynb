{
 "cells": [
  {
   "cell_type": "markdown",
   "id": "028c4764",
   "metadata": {
    "pycharm": {
     "name": "#%% md\n"
    }
   },
   "source": [
    "## Extra features and tips"
   ]
  },
  {
   "cell_type": "markdown",
   "id": "290b2a5e",
   "metadata": {
    "pycharm": {
     "name": "#%% md\n"
    }
   },
   "source": [
    "### Regroup external fluxes\n",
    "\n",
    "The Circuit instance generates a spanning tree, by default, for all the superconducting loops present in the circuit. In case the user prefers to use a different configuration of loops, the user can provide the list of branches with which external fluxes are grouped. Once, the closure branches are set, spanning tree is given by the set of all branches of the Circuit which do not contain the closure branches, thereby defining a custom spanning tree."
   ]
  },
  {
   "cell_type": "code",
   "execution_count": 2,
   "id": "18d26232",
   "metadata": {
    "pycharm": {
     "name": "#%%\n"
    }
   },
   "outputs": [
    {
     "data": {
      "text/plain": [
       "[Branch(JJ, 1, 2, index: 0),\n",
       " Branch(JJ, 3, 4, index: 1),\n",
       " Branch(L, 2, 3, index: 2),\n",
       " Branch(L, 4, 1, index: 3),\n",
       " Branch(C, 1, 3, index: 4),\n",
       " Branch(C, 2, 4, index: 5)]"
      ]
     },
     "execution_count": 2,
     "metadata": {},
     "output_type": "execute_result"
    }
   ],
   "source": [
    "zero_pi.branches"
   ]
  },
  {
   "cell_type": "code",
   "execution_count": 3,
   "id": "07e581dc",
   "metadata": {},
   "outputs": [
    {
     "data": {
      "text/plain": [
       "{\u03a61: (Branch(L, 4, 1, index: 3),\n",
       "  [Branch(JJ, 1, 2, index: 0),\n",
       "   Branch(L, 4, 1, index: 3),\n",
       "   Branch(JJ, 3, 4, index: 1),\n",
       "   Branch(L, 2, 3, index: 2)])}"
      ]
     },
     "execution_count": 3,
     "metadata": {},
     "output_type": "execute_result"
    }
   ],
   "source": [
    "zero_pi.configure(closure_branches=[zero_pi.branches[3]])\n",
    "zero_pi.sym_external_fluxes()"
   ]
  },
  {
   "cell_type": "markdown",
   "id": "5cc61e0c",
   "metadata": {},
   "source": [
    "## Time dependent flux grouping"
   ]
  },
  {
   "cell_type": "markdown",
   "id": "bf483f44",
   "metadata": {},
   "source": [
    "When the external flux in a loop is time-dependent, merely replacing the static external fluxes with the corresponding time-dependent fluxes is typically inaccurate. The `use_dynamic_flux_grouping` option, when enabled, ensures a consistent treatment of time-dependent external fluxes using the irrotational gauge as described in [You et al.,](https://journals.aps.org/prb/abstract/10.1103/PhysRevB.99.174512). In this allocation, time-dependent fluxes can be incorporated only into the potential term, avoiding inaccuracies that arise from ignoring terms with the time-derivative of the external flux in the kinetic energy that arise in other allocations. To use this flux allocation, set the option `use_dynamic_flux_grouping` in the {py:obj}`~scqubits.core.circuit.Circuit` definition or the `configure` method of the instance."
   ]
  },
  {
   "cell_type": "code",
   "execution_count": 4,
   "id": "e10b9ad2",
   "metadata": {},
   "outputs": [
    {
     "data": {
      "text/plain": [
       "{\u03a61: (Branch(JJ, 3, 4, index: 1),\n",
       "  [Branch(C, 1, 3, index: 4),\n",
       "   Branch(L, 4, 1, index: 3),\n",
       "   Branch(JJ, 3, 4, index: 1)]),\n",
       " \u03a62: (Branch(L, 2, 3, index: 2),\n",
       "  [Branch(JJ, 1, 2, index: 0),\n",
       "   Branch(C, 1, 3, index: 4),\n",
       "   Branch(L, 2, 3, index: 2)]),\n",
       " \u03a63: (Branch(C, 2, 4, index: 5),\n",
       "  [Branch(JJ, 1, 2, index: 0),\n",
       "   Branch(L, 4, 1, index: 3),\n",
       "   Branch(C, 2, 4, index: 5)])}"
      ]
     },
     "execution_count": 4,
     "metadata": {},
     "output_type": "execute_result"
    }
   ],
   "source": [
    "zero_pi = scq.Circuit(zp_yaml, from_file=False, use_dynamic_flux_grouping=True)\n",
    "zero_pi.sym_external_fluxes()"
   ]
  },
  {
   "cell_type": "markdown",
   "id": "1ffe885b",
   "metadata": {},
   "source": [
    "Note that external flux for loops including a capacitor are also included. The external flux in the capacitive loops will not effect the eigenvalue calculation as fluxes are considered to be static. When fluxes are dynamic, it is important to choose the loops and the corresponding external fluxes carefully by setting the closure branches (which sets the apropriate spanning tree) using the `configure` method."
   ]
  },
  {
   "cell_type": "markdown",
   "id": "148a1cc4",
   "metadata": {
    "pycharm": {
     "name": "#%% md\n"
    }
   },
   "source": [
    "### Customize variable transformations\n",
    "It is possible to carry out variable transformations with a user-defined transformation matrix. For example, if we want to work with a more commonly seen set of variables for zero-pi circuit:"
   ]
  },
  {
   "cell_type": "code",
   "execution_count": null,
   "id": "a9e89131",
   "metadata": {
    "pycharm": {
     "name": "#%%\n"
    }
   },
   "outputs": [],
   "source": [
    "zero_pi = scq.Circuit(zp_yaml, from_file=False, ext_basis=\"harmonic\")"
   ]
  },
  {
   "cell_type": "code",
   "execution_count": 34,
   "id": "1f4263ad",
   "metadata": {
    "pycharm": {
     "name": "#%%\n"
    }
   },
   "outputs": [
    {
     "data": {
      "image/png": "[encoded data removed]",
      "text/latex": [
       "$\\displaystyle \\left[ \u03c6_{1} = 0.5 \u03b8_{3} + 0.5 \u03b8_{4} - 0.5 \u03b8_{1} - 0.5 \u03b8_{2}, \\  \u03c6_{2} = 0.5 \u03b8_{1} + 0.5 \u03b8_{2} + 0.5 \u03b8_{3} + 0.5 \u03b8_{4}, \\  \u03c6_{3} = 0.5 \u03b8_{1} + 0.5 \u03b8_{4} - 0.5 \u03b8_{2} - 0.5 \u03b8_{3}, \\  \u03c6_{4} = 0.5 \u03b8_{2} + 0.5 \u03b8_{4} - 0.5 \u03b8_{1} - 0.5 \u03b8_{3}\\right]$"
      ],
      "text/plain": [
       "[\u03c6\u2081 = 0.5\u22c5\u03b8\u2083 + 0.5\u22c5\u03b8\u2084 - 0.5\u22c5\u03b8\u2081 - 0.5\u22c5\u03b8\u2082, \u03c6\u2082 = 0.5\u22c5\u03b8\u2081 + 0.5\u22c5\u03b8\u2082 + 0.5\u22c5\u03b8\u2083 + 0.5\u22c5\u03b8\n",
       "\u2084, \u03c6\u2083 = 0.5\u22c5\u03b8\u2081 + 0.5\u22c5\u03b8\u2084 - 0.5\u22c5\u03b8\u2082 - 0.5\u22c5\u03b8\u2083, \u03c6\u2084 = 0.5\u22c5\u03b8\u2082 + 0.5\u22c5\u03b8\u2084 - 0.5\u22c5\u03b8\u2081 - 0.5\n",
       "\u22c5\u03b8\u2083]"
      ]
     },
     "execution_count": 34,
     "metadata": {},
     "output_type": "execute_result"
    }
   ],
   "source": [
    "trans_mat = np.array([[ -1,  -1,  1,  1],\n",
    "                       [ 1,  1,  1,  1],\n",
    "                       [ 1,  -1, -1,  1],\n",
    "                       [ -1,  1,  -1,  1]])*0.5\n",
    "zero_pi.configure(transformation_matrix=trans_mat)\n",
    "zero_pi.variable_transformation()"
   ]
  },
  {
   "cell_type": "code",
   "execution_count": 35,
   "id": "f2580309",
   "metadata": {
    "pycharm": {
     "name": "#%%\n"
    }
   },
   "outputs": [
    {
     "data": {
      "image/png": "[encoded data removed]",
      "text/latex": [
       "$\\displaystyle \\left(40.0 Q_{2}^{2} + 0.03996 n_{1}^{2} + 0.03996 n_{g1}^{2} + 0.04 Q_{3}^{2} + 0.07992 n_{1} n_{g1}\\right) - \\left(- 0.008 \u03b8_{2}^{2} - 0.008 \u03b8_{3}^{2} + EJ \\cos{\\left(\u03b8_{1} + \u03b8_{2} \\right)} + EJ \\cos{\\left((2\u03c0\u03a6_{1}) + \u03b8_{2} - 1.0 \u03b8_{1} \\right)}\\right)$"
      ],
      "text/plain": [
       "       2             2               2          2                             \n",
       "40.0\u22c5Q\u2082  + 0.03996\u22c5n\u2081  + 0.03996\u22c5n_g1  + 0.04\u22c5Q\u2083  + 0.07992\u22c5n\u2081\u22c5n_g1 + 0.008\u22c5\u03b8\u2082\n",
       "\n",
       "2           2                                                \n",
       "  + 0.008\u22c5\u03b8\u2083  - EJ\u22c5cos(\u03b8\u2081 + \u03b8\u2082) - EJ\u22c5cos((2\u03c0\u03a6_{1}) + \u03b8\u2082 - \u03b8\u2081)"
      ]
     },
     "execution_count": 35,
     "metadata": {},
     "output_type": "execute_result"
    }
   ],
   "source": [
    "zero_pi.sym_hamiltonian()"
   ]
  },
  {
   "cell_type": "markdown",
   "id": "0cebe35f",
   "metadata": {},
   "source": [
    "## Higher harmonics in Josephson junctions\n",
    "\n",
    "In {py:obj}`~scqubits.core.circuit.Circuit` module, it is possible to define a Josephson junction with higher harmonics in the following way"
   ]
  },
  {
   "cell_type": "code",
   "execution_count": 7,
   "id": "30148735",
   "metadata": {},
   "outputs": [],
   "source": [
    "circ_input = \"\"\"\n",
    "branches:\n",
    "- [JJ3, 0, 1, 21nA, 2nA, EJ3=0.2nA, 0.2]\n",
    "\"\"\""
   ]
  },
  {
   "cell_type": "markdown",
   "id": "38e303a6",
   "metadata": {},
   "source": [
    "<div class=\"alert alert-info\">\n",
    "\n",
    "The branch definition `- [JJ3, 0, 1, 21nA, 2nA, EJ3=0.2nA, 0.2]` in the input file is a list with the following entries:\n",
    "\n",
    "- branch type: \n",
    "    - `JJ<n>` for a Josephson junction with n harmonics, \n",
    "- initial node index: $i$\n",
    "- final node index: $f$\n",
    "- branch parameters:\n",
    "    - `EJn` junction energies for each order from `1..n`.  \n",
    "    - `ECJ` junction capacitance\n",
    "</div>"
   ]
  },
  {
   "cell_type": "code",
   "execution_count": 8,
   "id": "b6a3fc9a",
   "metadata": {},
   "outputs": [
    {
     "data": {
      "text/latex": [
       "$H=\\left(0.8 n_{1}^{2} + 0.8 n_{g1}^{2} + 1.6 n_{1} n_{g1}\\right) - \\left(0.993367 \\cos{\\left(2 \u03b8_{1} \\right)} + 10.430354 \\cos{\\left(\u03b8_{1} \\right)} + EJ_{3} \\cos{\\left(3 \u03b8_{1} \\right)}\\right)$"
      ],
      "text/plain": [
       "<IPython.core.display.Latex object>"
      ]
     },
     "metadata": {},
     "output_type": "display_data"
    },
    {
     "data": {
      "text/latex": [
       "Operators (flux, charge) - cutoff:   \n",
       " Discrete Charge Basis:  $(\u03b81, n1) - 5$, "
      ],
      "text/plain": [
       "<IPython.core.display.Latex object>"
      ]
     },
     "metadata": {},
     "output_type": "display_data"
    },
    {
     "data": {
      "text/latex": [
       "Symbolic parameters (symbol, default value):  $(EJ3, 0.09933670215533513)$, "
      ],
      "text/plain": [
       "<IPython.core.display.Latex object>"
      ]
     },
     "metadata": {},
     "output_type": "display_data"
    },
    {
     "data": {
      "text/latex": [
       "Offset charges (symbol, default value):  $(ng1, 0.0)$, "
      ],
      "text/plain": [
       "<IPython.core.display.Latex object>"
      ]
     },
     "metadata": {},
     "output_type": "display_data"
    },
    {
     "data": {
      "text/plain": [
       "Circuit_2"
      ]
     },
     "execution_count": 8,
     "metadata": {},
     "output_type": "execute_result"
    }
   ],
   "source": [
    "circ = scq.Circuit(circ_input, from_file=False)\n",
    "circ"
   ]
  },
  {
   "cell_type": "markdown",
   "id": "fcb3a657",
   "metadata": {
    "pycharm": {
     "name": "#%% md\n"
    }
   },
   "source": [
    "### Options for automatic variable transformation\n",
    "- After the periodic, frozen and free variables are identified, the transformation matrix is completed by adding on a set of linearly-independent vectors. This heuristic method for generating the transformation matrix may not always provide the \"ideal\" or expected choice of variables.\n",
    "- As an alternative, missing column vectors in the transformation matrix may be filled by suitable canonical basis vectors (drawn from the identity matrix). This choice is made by setting `basis_completion=\"canonical\"` when creating the {py:obj}`~scqubits.core.circuit.Circuit` object. (The default is `\"heuristic\"`.)"
   ]
  },
  {
   "cell_type": "markdown",
   "id": "0886befc",
   "metadata": {
    "pycharm": {
     "name": "#%% md\n"
    }
   },
   "source": [
    "### Handling large circuits\n",
    "- For large circuits, the Hilbert space dimension grows exponentially with cutoffs. Numerical diagonalization is therefore challenging for large cutoffs, both in terms of runtime and memory. It is recommended to start diagonalization with small cutoffs, and gradually increase them as needed. This applies to both the direct and hierarchical diagonalization methods.\n",
    "- For hierarchical diagonalization: as diagonalization for systems with three or more variables takes much longer than for smaller systems, it is recommended to try and group less than three nodes for each subsystem, and build a hierarchy of subsystems.\n",
    "- Note that convergence of the eigenergies for large circuits can differ significantly according to the variable transformation used. It is advisable to (i) try changing the `basis_completion` option, (ii) define a custom transformation matrix, or (iii) add/remove the reference ground node in the YAML description of the circuit. "
   ]
  }
 ],
 "metadata": {
  "celltoolbar": "Edit Metadata",
  "kernelspec": {
   "display_name": "scqubits-spc",
   "language": "python",
   "name": "python3"
  },
  "language_info": {
   "codemirror_mode": {
    "name": "ipython",
    "version": 3
   },
   "file_extension": ".py",
   "mimetype": "text/x-python",
   "name": "python",
   "nbconvert_exporter": "python",
   "pygments_lexer": "ipython3",
   "version": "3.12.7"
  }
 },
 "nbformat": 4,
 "nbformat_minor": 5
}