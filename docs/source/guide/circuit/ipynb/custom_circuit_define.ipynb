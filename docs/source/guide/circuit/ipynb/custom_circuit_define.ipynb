{
 "cells": [
  {
   "attachments": {},
   "cell_type": "markdown",
   "id": "15992a56",
   "metadata": {},
   "source": [
    "## Initiating a Circuit object\n",
    "The {py:obj}`~scqubits.core.circuit.Circuit` class supports all superconducting circuits consisting of **capacitances**, **inductances**, and **Josephson junctions**. A Circuit object can be initiated in two different ways:\n",
    "- By providing a yaml file that describes the circuit graph\n",
    "- By providing a symbolic Hamiltonian which represents the circuit (described [here](./custom_circuit_define_more.ipynb))\n",
    "\n",
    "In this notebook, we will demonstrate how to define a circuit graph.\n",
    "\n",
    "### Defining a Circuit Graph\n",
    "We will describe the circuit graph using a yaml file. For example, consider the circuit of the zero-$\\pi$ qubit."
   ]
  },
  {
   "attachments": {},
   "cell_type": "markdown",
   "id": "4b930329",
   "metadata": {
    "pycharm": {
     "name": "#%% md\n"
    }
   },
   "source": [
    "Consider the circuit of the zero-pi qubit:\n",
    "   \n",
    "<img src=\"./zeropi-circ.jpg\" alt=\"zero-pi circuit\" width=\"250\">\n",
    "   \n",
    "The above circuit is specified branch by branch, using the following syntax:"
   ]
  },
  {
   "cell_type": "code",
   "execution_count": 1,
   "id": "480aba4d",
   "metadata": {
    "pycharm": {
     "name": "#%%\n"
    },
    "tags": []
   },
   "outputs": [],
   "source": [
    "zp_yaml = \"\"\"# zero-pi\n",
    "branches:\n",
    "- [JJ, 1,2, EJ=10nA, ECJ=200pF]\n",
    "- [JJ, 3,4, EJ, 20GHz]\n",
    "- [L, 2,3, EL=10uH]\n",
    "- [L, 4,1, 0.008]\n",
    "- [C, 1,3, 0.02]\n",
    "- [C, 2,4, 0.02]\n",
    "\"\"\""
   ]
  },
  {
   "attachments": {},
   "cell_type": "markdown",
   "id": "c2aa7809",
   "metadata": {
    "pycharm": {
     "name": "#%% md\n"
    }
   },
   "source": [
    "<div class=\"alert alert-info\">\n",
    "    \n",
    "Summary of the above input file (a detailed description is given in the next page):\n",
    "    \n",
    "The input is just a collection of branches which make the circuit. Each branch connecting node $n_i$ to $n_f$ is a list with the following items:\n",
    "- branch type: \n",
    "    - `JJ` for Josephson junction, \n",
    "    - `L` for inductance, \n",
    "    - `C` for capacitance\n",
    "- initial node index: $i$\n",
    "- final node index: $f$\n",
    "- branch parameters corresponding to the branch type:\n",
    "    - `JJ`: `EJ, ECJ` \n",
    "    - `L`: `EL`\n",
    "    - `C`: `EC`\n",
    "</div>"
   ]
  },
  {
   "attachments": {},
   "cell_type": "markdown",
   "id": "744085e7-bb67-4670-b5e8-6505e6b5dcd3",
   "metadata": {
    "pycharm": {
     "name": "#%% md\n"
    }
   },
   "source": [
    "Alternatively, circuit specifications can be stored and loaded as `yaml` files (same syntax as above), which can be directly provided to the {py:obj}`~scqubits.core.circuit.Circuit` class."
   ]
  },
  {
   "attachments": {},
   "cell_type": "markdown",
   "id": "4e7c4e3f",
   "metadata": {},
   "source": [
    "### Graphical user interface (GUI) for defining custom circuits\n",
    "\n",
    "Superconducting Circuit Builder (developed by Ben McDonough) is a separate package that offers the GUI for defining custom circuits: the user can draw a circuit, and can export a corresponding YAML string of the circuit. The package is available [here](https://github.com/benmcdonough20/SuperconductingCircuitBuilder)."
   ]
  }
 ],
 "metadata": {
  "celltoolbar": "Edit Metadata",
  "kernelspec": {
   "display_name": "Python 3 (ipykernel)",
   "language": "python",
   "name": "python3"
  },
  "language_info": {
   "codemirror_mode": {
    "name": "ipython",
    "version": 3
   },
   "file_extension": ".py",
   "mimetype": "text/x-python",
   "name": "python",
   "nbconvert_exporter": "python",
   "pygments_lexer": "ipython3",
   "version": "3.9.12"
  },
  "vscode": {
   "interpreter": {
    "hash": "c8d4bf36a74824303709ac4e007bea7414f53aa465ed117f157b5ab5806c56f7"
   }
  }
 },
 "nbformat": 4,
 "nbformat_minor": 5
}