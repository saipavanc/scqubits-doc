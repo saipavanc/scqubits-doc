{
 "cells": [
  {
   "cell_type": "markdown",
   "id": "47b127bb",
   "metadata": {},
   "source": [
    "## Circuit graph and symbolic Hamiltonian "
   ]
  },
  {
   "cell_type": "markdown",
   "id": "744085e7-bb67-4670-b5e8-6505e6b5dcd3",
   "metadata": {
    "pycharm": {
     "name": "#%% md\n"
    }
   },
   "source": [
    "### Circuit graph "
   ]
  },
  {
   "cell_type": "code",
   "execution_count": null,
   "id": "8a6732f0",
   "metadata": {},
   "outputs": [],
   "source": [
    "zp_yaml = \"\"\"# zero-pi\n",
    "branches:\n",
    "- [JJ, 1,2, EJ = 10nA, 200pF]\n",
    "- [JJ, 3,4, EJ, 20GHz]\n",
    "- [L, 2,3, 10uH]\n",
    "- [L, 4,1, 0.008]\n",
    "- [C, 1,3, 0.02]\n",
    "- [C, 2,4, 0.02]\n",
    "\"\"\""
   ]
  },
  {
   "cell_type": "markdown",
   "id": "00e9bfce",
   "metadata": {
    "pycharm": {
     "name": "#%% md\n"
    }
   },
   "source": [
    "The example above illustrates most of the syntax rules to be followed. Each branch is represented by \n",
    "\n",
    "```<branch-type>, <node_1>, <node_2>, <param-1> [, <param-2>]```\n",
    "\n",
    "### Branch types and parameters:\n",
    "\n",
    "- `C`:  branch parameter is the charging energy $E_C = \\frac{e^2}{2C}$\n",
    "- `L`:  branch parameter is the inductive energy $E_L = \\frac{\\Phi_0^2}{(2\\pi)^2 L}$\n",
    "- `JJ`: branch parameters are the Josephson energy $E_J = \\frac{\\hbar I_c}{2\\pi} = L_J I_c^2$ and junction charging energy $E_{CJ}$\n",
    "\n",
    "*Example:* `- [C, 1, 3, 0.02]` is a capacitance connecting nodes 1 and node 3, with charging energy 0.02 GHz.\n",
    "\n"
   ]
  },
  {
   "cell_type": "markdown",
   "id": "789f0fba-e39e-4d94-bedc-988bb2b850b5",
   "metadata": {},
   "source": [
    "### Inputing branch parameters using physical units"
   ]
  },
  {
   "cell_type": "markdown",
   "id": "802055e5-37f5-47cc-b428-74ee8fe01762",
   "metadata": {},
   "source": [
    "The branch parameters can now be entered using physical units prepended by a multiplier. Any branch parameter can be gievn as energy with the units: $Hz$, $J$ or $eV$. Though, each of the branch parameter can be entered with its own unit as well, as listed in the following table.\n",
    "\n",
    "| Parameter   | Units       |\n",
    "| ----------- | ----------- |\n",
    "| C           | F           |\n",
    "| L           | H           |\n",
    "| EJ          | A           |\n",
    "\n",
    "The above units can be prepended with the following multipliers:\n",
    "\n",
    "| Multiplier  | Value       |\n",
    "| ----------- | ----------- |\n",
    "| f           | $10^{-15}$  |\n",
    "| p           | $10^{-12}$  |\n",
    "| n           | $10^{-9}$   |\n",
    "| u           | $10^{-6}$   |\n",
    "| m           | $10^{-3}$   |\n",
    "| k           | $10^{3}$    |\n",
    "| M           | $10^{6}$    |\n",
    "| G           | $10^{9}$    |\n",
    "| T           | $10^{12}$   |\n",
    "\n",
    "For example the inductance of a branch can be given as `1uH`, and Josephson junction energy can be given as `1uA` or `40eV`. If no units are provided the default unit is $GHz$."
   ]
  },
  {
   "cell_type": "markdown",
   "id": "6c1ce226-f5e0-43cf-b9b6-4fdea4fc5e44",
   "metadata": {},
   "source": [
    "### Symbolic vs. numerical branch parameters:\n",
    "\n",
    "- Branch parameters can be provided as float values, using the energy units set globally (default: GHz)\n",
    "- A symbol name can be specified, but must be introduced along with a value (e.g., `EJ = 10`). Note that the same symbol can afterwards be used to set any other compatible branch parameter. For instance, in the YAML description `zp_yaml`, the same parameter $EJ$ is used for the Josephson energies of the junctions connecting nodes $(1, 2)$ and $(3, 4).$\n",
    "- Symbolic output will generally maintain symbolic parameter names. However, for charging energies of systems with more than three nodes, numerical values are the default, since symbolic inversion of larger capacitance matrices is generally very slow and yields unwieldy expressions.\n",
    "\n",
    "<div class=\"alert alert-info\">\n",
    "    \n",
    "Accessing circuit parameters\n",
    "    \n",
    "- Only circuit parameters with an associated name (as in `EJ = 10`) are made accessible as attributes of the class instance: `<Circuit instance>.EJ`. \n",
    "    \n",
    "- Parameter sweeps (e.g., via `plot_evals_vs_paramvals()`) can only be performed for those circuit parameters that have been provided with a symbol name.\n",
    "</div>\n",
    "\n",
    "### Ground node:\n",
    "\n",
    "- The user can choose to include an explicit ground node by giving this node the label `0`. Such ground node serves as a reference node with generalized flux always $\\phi_0 = 0$."
   ]
  },
  {
   "cell_type": "markdown",
   "id": "f9dbd807",
   "metadata": {},
   "source": [
    "### Initiate the {py:obj}`~scqubits.core.circuit.Circuit` object\n",
    "\n",
    "Using the yaml input, create a {py:obj}`~scqubits.core.circuit.Circuit` object:"
   ]
  },
  {
   "cell_type": "code",
   "execution_count": null,
   "id": "1293dec5",
   "metadata": {},
   "outputs": [],
   "source": [
    "zero_pi = scq.Circuit(zp_yaml, from_file=False)"
   ]
  },
  {
   "cell_type": "markdown",
   "id": "6e42ac3d",
   "metadata": {},
   "source": [
    "### Define Circuit with symbolic hamiltonian"
   ]
  },
  {
   "cell_type": "markdown",
   "id": "c3ff9245",
   "metadata": {},
   "source": [
    "A {py:obj}`~scqubits.core.circuit.Circuit` instance can also be initated with a symbolic Hamiltonian. The Hamiltonian can be written using `sympy.parse_expr`. The returned symbolic expression can be used with the Circuit module. \n",
    "\n",
    "The expression should adhere to the following rules:\n",
    "\n",
    "- Each extended degree of freedom uses the conjugate variables $\\theta_i$ and $Q_i$.\n",
    "- Each periodic degree of freedom uses the conjugate variables $\\theta_i$ and $n_i$.\n",
    "    - if $\\theta_i$ is periodic, the variable should not appear outside a trigonometric function. \n",
    "- The offset charge is represented by $n_{gi}$ and external flux by $\\Phi_i$. The external flux variables are in the units of flux quantum $\\Phi_0$.\n",
    "- Any symbolic parameters used, should be defined with its initial value in the dictionary `symbolic_params_dict`.\n",
    "\n",
    "Here is an example demonstrating the use of symbolic Hamiltonian:"
   ]
  },
  {
   "cell_type": "code",
   "execution_count": 1,
   "id": "71258950",
   "metadata": {},
   "outputs": [
    {
     "data": {
      "text/latex": [
       "$H=\\left(2.0 Q_{3}^{2} + 0.79 Q_{2}^{2} + 7.674 n_{1}^{2} + 7.674 n_{g1}^{2} + 1.395 Q_{2} n_{1} + 1.395 Q_{2} n_{g1} + 15.348 n_{1} n_{g1}\\right) + \\left(0.25 \u03b8_{3}^{2} + 0.45 \u03b8_{2}^{2} - EJ \\cos{\\left(\u03b8_{1} \\right)} + 0.5 \u03b8_{2} \u03b8_{3}\\right)$"
      ],
      "text/plain": [
       "<IPython.core.display.Latex object>"
      ]
     },
     "metadata": {},
     "output_type": "display_data"
    },
    {
     "data": {
      "text/latex": [
       "Operators (flux, charge) - cutoff:   \n",
       " Discrete Charge Basis:  $(\u03b81, n1) - 5$,   \n",
       "Harmonic oscillator basis:  $(\u03b82, Q2) - 30$, $(\u03b83, Q3) - 30$, "
      ],
      "text/plain": [
       "<IPython.core.display.Latex object>"
      ]
     },
     "metadata": {},
     "output_type": "display_data"
    },
    {
     "data": {
      "text/latex": [
       "Symbolic parameters (symbol, default value):  $(EJ, 10)$, "
      ],
      "text/plain": [
       "<IPython.core.display.Latex object>"
      ]
     },
     "metadata": {},
     "output_type": "display_data"
    },
    {
     "data": {
      "text/latex": [
       "Offset charges (symbol, default value):  $(ng1, 0.0)$, "
      ],
      "text/plain": [
       "<IPython.core.display.Latex object>"
      ]
     },
     "metadata": {},
     "output_type": "display_data"
    },
    {
     "data": {
      "text/plain": [
       "Circuit_1"
      ]
     },
     "execution_count": 1,
     "metadata": {},
     "output_type": "execute_result"
    }
   ],
   "source": [
    "import sympy as sm\n",
    "import scqubits as scq\n",
    "\n",
    "sym_hamiltonian = sm.parse_expr(\n",
    "    \"0.25*\u03b83**2 + 2.0*Q3**2 + 0.790*Q2**2 + 0.45*\u03b82**2 + 7.674*n1**2 + 7.674*ng1**2 - EJ*cos(\u03b81) + 0.5*\u03b82*\u03b83 + 1.395*Q2*n1 + 1.395*Q2*ng1 + 15.348*n1*ng1\"\n",
    ")\n",
    "circ = scq.Circuit(\n",
    "    symbolic_hamiltonian=sym_hamiltonian,\n",
    "    symbolic_param_dict={\"EJ\": 10},\n",
    "    ext_basis=\"harmonic\",\n",
    ")\n",
    "circ"
   ]
  }
 ],
 "metadata": {
  "celltoolbar": "Edit Metadata",
  "kernelspec": {
   "display_name": "Python 3",
   "language": "python",
   "name": "python3"
  },
  "language_info": {
   "codemirror_mode": {
    "name": "ipython",
    "version": 3
   },
   "file_extension": ".py",
   "mimetype": "text/x-python",
   "name": "python",
   "nbconvert_exporter": "python",
   "pygments_lexer": "ipython3",
   "version": "3.12.7"
  }
 },
 "nbformat": 4,
 "nbformat_minor": 5
}