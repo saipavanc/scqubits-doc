{
 "cells": [
  {
   "cell_type": "code",
   "execution_count": null,
   "metadata": {
    "ExecuteTime": {
     "end_time": "2016-09-05T09:09:54.232690",
     "start_time": "2016-09-05T09:09:53.862693"
    },
    "init_cell": true,
    "nbsphinx": "hidden",
    "pycharm": {
     "is_executing": false,
     "name": "#%%\n"
    },
    "scrolled": true
   },
   "outputs": [
    {
     "data": {
      "application/vnd.jupyter.widget-view+json": {
       "model_id": "",
       "version_major": 2,
       "version_minor": 0
      },
      "text/plain": [
       "Parallel compute bare eigensys for subsystem tmon1 [num_cpus=4]"
      ]
     },
     "metadata": {},
     "output_type": "display_data"
    },
    {
     "data": {
      "application/vnd.jupyter.widget-view+json": {
       "model_id": "",
       "version_major": 2,
       "version_minor": 0
      },
      "text/plain": [
       "Parallel compute bare eigensys for subsystem tmon2 [num_cpus=4]"
      ]
     },
     "metadata": {},
     "output_type": "display_data"
    },
    {
     "data": {
      "application/vnd.jupyter.widget-view+json": {
       "model_id": "",
       "version_major": 2,
       "version_minor": 0
      },
      "text/plain": [
       "Parallel compute bare eigensys for subsystem Oscillator_1 [num_cpus=4]"
      ]
     },
     "metadata": {},
     "output_type": "display_data"
    },
    {
     "data": {
      "application/vnd.jupyter.widget-view+json": {
       "model_id": "e83fe5d2a4e041fd9b4761cd10fc6acb",
       "version_major": 2,
       "version_minor": 0
      },
      "text/plain": [
       "Parallel compute dressed eigensys [num_cpus=4]"
      ]
     },
     "metadata": {},
     "output_type": "display_data"
    }
   ],
   "source": [
    "# Define HilbertSpace object: two transmons coupled to an oscillator\n",
    "\n",
    "\n",
    "tmon1 = scq.TunableTransmon(\n",
    "    EJmax=40.0,\n",
    "    EC=0.2,\n",
    "    d=0.1,\n",
    "    flux=0.23,\n",
    "    ng=0.3,\n",
    "    ncut=40,\n",
    "    truncated_dim=3,     # after diagonalization, we will keep 3 levels\n",
    "    id_str=\"tmon1\"       # optional, used for referencing from within\n",
    "                         # ParameterSweep or HilbertSpace\n",
    ")\n",
    "\n",
    "tmon2 = scq.TunableTransmon(\n",
    "    EJmax=15.0,\n",
    "    EC=0.15,\n",
    "    d=0.2,\n",
    "    flux=0.0,\n",
    "    ng=0.0,\n",
    "    ncut=30,\n",
    "    truncated_dim=3,\n",
    "    id_str=\"tmon2\"\n",
    ")\n",
    "\n",
    "resonator = scq.Oscillator(\n",
    "    E_osc=4.5,\n",
    "    truncated_dim=4    # up to 3 photons (0,1,2,3)\n",
    ")\n",
    "\n",
    "hilbertspace = scq.HilbertSpace([tmon1, tmon2, resonator])\n",
    "\n",
    "\n",
    "g1 = 0.1  # coupling resonator-CPB1 (without charge matrix elements)\n",
    "g2 = 0.2  # coupling resonator-CPB2 (without charge matrix elements)\n",
    "\n",
    "hilbertspace.add_interaction(\n",
    "    g_strength = g1,\n",
    "    op1 = tmon1.n_operator,\n",
    "    op2 = resonator.creation_operator,\n",
    "    add_hc = True,\n",
    "    id_str=\"tmon1-resonator\"  # optional keyword argument\n",
    ")\n",
    "\n",
    "hilbertspace.add_interaction(\n",
    "    g_strength = g2,\n",
    "    op1 = tmon2.n_operator,\n",
    "    op2 = resonator.creation_operator,\n",
    "    add_hc = True,\n",
    "    id_str=\"tmon2-resonator\"  # optional keyword argument\n",
    ")\n",
    "\n",
    "# Set up parameter name and values\n",
    "pname1 = 'flux'  \n",
    "flux_vals = np.linspace(0.0, 2.0, 171)\n",
    "pname2 = 'ng'\n",
    "ng_vals = np.linspace(-0.5, 0.5, 49)\n",
    "\n",
    "# combine into a dictionary\n",
    "paramvals_by_name = {pname1: flux_vals, pname2: ng_vals}\n",
    "\n",
    "\n",
    "area_ratio = 1.2\n",
    "\n",
    "def update_hilbertspace(flux, ng):  # function that defines how Hilbert space components are updated\n",
    "    tmon1.flux = flux\n",
    "    tmon2.flux = area_ratio * flux\n",
    "    tmon2.ng = ng\n",
    "\n",
    "# dictionary with information on which subsystems are affected by changing parameters    \n",
    "subsys_update_info = {pname1: [tmon1, tmon2],\n",
    "                      pname2: [tmon2]}\n",
    "\n",
    "    \n",
    "# create the ParameterSweep    \n",
    "sweep = ParameterSweep(\n",
    "    hilbertspace=hilbertspace,\n",
    "    paramvals_by_name=paramvals_by_name,\n",
    "    update_hilbertspace=update_hilbertspace,\n",
    "    evals_count=20,\n",
    "    subsys_update_info=subsys_update_info,\n",
    "    num_cpus=4\n",
    ")"
   ]
  },
  {
   "cell_type": "markdown",
   "metadata": {
    "pycharm": {
     "name": "#%% md\n"
    }
   },
   "source": [
    "## ParameterSweep data\n",
    "\n",
    "Much of the computed data that is stored and immediately retrievable after this sweep by accessing the {py:obj}`~scqubits.core.param_sweep.ParameterSweep` object like a dictionary with the following string keys:\n",
    "\n",
    "\n",
    "+-------------------------------+------------------------------------------------------------------------+\n",
    "| string keyword                |    data                                                                |\n",
    "+===============================+========================================================================+\n",
    "| `\"evals\"`, `\"evecs\"`          | dressed eigenenergies and eigenstates as `NamedSlotsNdarray`           |\n",
    "|                               | eigenstates are decomposed in the bare product-state basis of the      |\n",
    "|                               | non-interacting subsystems' eigenbases                                 |\n",
    "+-------------------------------+------------------------------------------------------------------------+\n",
    "| `\"bare_evals\"`, `\"bare_evecs\"`| eigenenergies and eigenstates for each subsystem as `NamedSlotsNdarray`|         \n",
    "|                               | The arrays first axis (name: `\"subsys\"` enumerates the subsystems      |\n",
    "+-------------------------------+------------------------------------------------------------------------+\n",
    "| `\"lamb\"`, `\"chi\"`, `\"kerr\"`   | dispersive energy coefficients as `NamedSlotsNdarray`                  |\n",
    "|                               | (see description below)                                                |\n",
    "+-------------------------------+------------------------------------------------------------------------+\n",
    "\n",
    "\n",
    "Data are returned as a `NamedSlotsNdarray` which behaves like a regular numpy array:"
   ]
  },
  {
   "cell_type": "code",
   "execution_count": 4,
   "metadata": {
    "pycharm": {
     "name": "#%%\n"
    }
   },
   "outputs": [
    {
     "data": {
      "text/plain": [
       "NamedSlotsNdarray([[[-48.9786042 , -45.0278778 , ..., -29.62856751,\n",
       "                     -29.01322673],\n",
       "                    [-48.97847617, -45.02774984, ..., -29.62844062,\n",
       "                     -29.0131366 ],\n",
       "                    ...,\n",
       "                    [-48.98107747, -45.03034988, ..., -29.63101896,\n",
       "                     -29.0149706 ],\n",
       "                    [-48.98131859, -45.03059088, ..., -29.63125795,\n",
       "                     -29.01514089]],\n",
       "\n",
       "                   [[-48.93975166, -44.99058959, ..., -29.59671601,\n",
       "                     -28.98017335],\n",
       "                    [-48.93962364, -44.99046163, ..., -29.59658911,\n",
       "                     -28.98008301],\n",
       "                    ...,\n",
       "                    [-48.94222494, -44.99306166, ..., -29.59916745,\n",
       "                     -28.98192134],\n",
       "                    [-48.94246606, -44.99330267, ..., -29.59940645,\n",
       "                     -28.98209203]],\n",
       "\n",
       "                   ...,\n",
       "\n",
       "                   [[-40.70088901, -38.21167383, ..., -23.61188977,\n",
       "                     -22.82285654],\n",
       "                    [-40.70076099, -38.21154578, ..., -23.61177025,\n",
       "                     -22.82272956],\n",
       "                    ...,\n",
       "                    [-40.70336226, -38.21414562, ..., -23.6142407 ,\n",
       "                     -22.82530775],\n",
       "                    [-40.70360338, -38.21438665, ..., -23.61446945,\n",
       "                     -22.82554677]],\n",
       "\n",
       "                   [[-40.26341946, -37.89241505, ..., -23.40746803,\n",
       "                     -22.49823508],\n",
       "                    [-40.26329144, -37.89228692, ..., -23.40735025,\n",
       "                     -22.49810801],\n",
       "                    ...,\n",
       "                    [-40.2658927 , -37.89488675, ..., -23.40982114,\n",
       "                     -22.50068619],\n",
       "                    [-40.26613382, -37.89512782, ..., -23.41004977,\n",
       "                     -22.50092525]]])"
      ]
     },
     "execution_count": 4,
     "metadata": {},
     "output_type": "execute_result"
    }
   ],
   "source": [
    "sweep[\"evals\"]"
   ]
  }
 ],
 "metadata": {
  "celltoolbar": "Edit Metadata",
  "kernelspec": {
   "display_name": "Python 3 (ipykernel)",
   "language": "python",
   "name": "python3"
  },
  "language_info": {
   "codemirror_mode": {
    "name": "ipython",
    "version": 3
   },
   "file_extension": ".py",
   "mimetype": "text/x-python",
   "name": "python",
   "nbconvert_exporter": "python",
   "pygments_lexer": "ipython3",
   "version": "3.9.16"
  },
  "toc": {
   "base_numbering": 1,
   "nav_menu": {},
   "number_sections": false,
   "sideBar": true,
   "skip_h1_title": true,
   "title_cell": "Table of Contents",
   "title_sidebar": "Contents",
   "toc_cell": false,
   "toc_position": {},
   "toc_section_display": true,
   "toc_window_display": false
  },
  "varInspector": {
   "cols": {
    "lenName": 16,
    "lenType": 16,
    "lenVar": 40
   },
   "kernels_config": {
    "python": {
     "delete_cmd_postfix": "",
     "delete_cmd_prefix": "del ",
     "library": "var_list.py",
     "varRefreshCmd": "print(var_dic_list())"
    },
    "r": {
     "delete_cmd_postfix": ") ",
     "delete_cmd_prefix": "rm(",
     "library": "var_list.r",
     "varRefreshCmd": "cat(var_dic_list()) "
    }
   },
   "types_to_exclude": [
    "module",
    "function",
    "builtin_function_or_method",
    "instance",
    "_Feature"
   ],
   "window_display": false
  }
 },
 "nbformat": 4,
 "nbformat_minor": 4
}