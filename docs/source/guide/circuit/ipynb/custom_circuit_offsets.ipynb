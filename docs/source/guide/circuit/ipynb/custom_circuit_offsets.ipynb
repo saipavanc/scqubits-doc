{
 "cells": [
  {
   "cell_type": "markdown",
   "id": "0c76f5c5",
   "metadata": {
    "pycharm": {
     "name": "#%% md\n"
    }
   },
   "source": [
    "## Magnetic flux, offset charges\n",
    "\n",
    "All external magnetic fluxes and offset charges are set to zero by default. They are modified by assigning the desired values to the attributes of the class instance.\n",
    "\n",
    "Each offset charge $n_{gi}$ is associated with a variable $\\theta_i$. Only periodic variables have offset charges relevant to the physics. For extended variables, offset charges (as long as time-independent) can always be eliminated from the Hamiltonian by suitable gauge transformations. A list of adjustable offset charge-parameters and their relation to the node offset charges $\\{q_{g\\mu}\\}$ is provided by:"
   ]
  },
  {
   "cell_type": "code",
   "execution_count": 21,
   "id": "f792267b",
   "metadata": {
    "pycharm": {
     "name": "#%%\n"
    }
   },
   "outputs": [
    {
     "data": {
      "image/png": "[encoded data removed]",
      "text/latex": [
       "$\\displaystyle \\left[ n_{g1} = 1.0 q_{g3} + 1.0 q_{g4} - 1.0 q_{g2}\\right]$"
      ],
      "text/plain": [
       "[n_g1 = 1.0\u22c5q_g3 + 1.0\u22c5q_g4 - q_g2]"
      ]
     },
     "execution_count": 21,
     "metadata": {},
     "output_type": "execute_result"
    }
   ],
   "source": [
    "zero_pi.offset_charge_transformation()"
   ]
  },
  {
   "cell_type": "markdown",
   "id": "299dbc3f",
   "metadata": {
    "pycharm": {
     "name": "#%% md\n"
    }
   },
   "source": [
    "Each external flux $\\Phi_i$ is associated with a branch in a closed loop of circuit. All the external fluxes, along with their associated closure branches and loop (provided as a list of branches), can be accessed via:"
   ]
  },
  {
   "cell_type": "code",
   "execution_count": 22,
   "id": "828eb5db",
   "metadata": {
    "pycharm": {
     "name": "#%%\n"
    }
   },
   "outputs": [
    {
     "data": {
      "text/plain": [
       "{\u03a61: (Branch(JJ, 3, 4, id_str: 1),\n",
       "  [Branch(L, 2, 3, id_str: 2),\n",
       "   Branch(JJ, 1, 2, id_str: 0),\n",
       "   Branch(L, 4, 1, id_str: 3),\n",
       "   Branch(JJ, 3, 4, id_str: 1)])}"
      ]
     },
     "execution_count": 22,
     "metadata": {},
     "output_type": "execute_result"
    }
   ],
   "source": [
    "zero_pi.sym_external_fluxes()"
   ]
  },
  {
   "cell_type": "markdown",
   "id": "6c53cf5b",
   "metadata": {
    "pycharm": {
     "name": "#%% md\n"
    }
   },
   "source": [
    "External fluxes (in unit of $2\\pi$) and offset charges can be adjusted via:"
   ]
  },
  {
   "cell_type": "code",
   "execution_count": 23,
   "id": "f14b985e",
   "metadata": {
    "pycharm": {
     "name": "#%%\n"
    }
   },
   "outputs": [],
   "source": [
    "zero_pi.\u03a61 = 0.5\n",
    "zero_pi.ng1 = 0.6"
   ]
  }
 ],
 "metadata": {
  "celltoolbar": "Edit Metadata",
  "kernelspec": {
   "display_name": "Python 3 (ipykernel)",
   "language": "python",
   "name": "python3"
  },
  "language_info": {
   "codemirror_mode": {
    "name": "ipython",
    "version": 3
   },
   "file_extension": ".py",
   "mimetype": "text/x-python",
   "name": "python",
   "nbconvert_exporter": "python",
   "pygments_lexer": "ipython3",
   "version": "3.9.16"
  },
  "vscode": {
   "interpreter": {
    "hash": "c8d4bf36a74824303709ac4e007bea7414f53aa465ed117f157b5ab5806c56f7"
   }
  }
 },
 "nbformat": 4,
 "nbformat_minor": 5
}