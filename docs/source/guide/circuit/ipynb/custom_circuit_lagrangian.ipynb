{
 "cells": [
  {
   "cell_type": "markdown",
   "id": "a4106fd5",
   "metadata": {
    "pycharm": {
     "name": "#%% md\n"
    }
   },
   "source": [
    "## Lagrangian, variable transforms\n",
    "\n",
    "\n",
    "We continue with the example of the zero-pi qubit:"
   ]
  },
  {
   "cell_type": "code",
   "execution_count": 2,
   "id": "a2cb4a0f",
   "metadata": {
    "pycharm": {
     "name": "#%%\n"
    },
    "tags": []
   },
   "outputs": [],
   "source": [
    "import scqubits as scq\n",
    "import numpy as np\n",
    "\n",
    "zp_yaml = \"\"\"# zero-pi\n",
    "branches:\n",
    "- [JJ, 1,2, EJ = 10, 20]\n",
    "- [JJ, 3,4, EJ, 20]\n",
    "- [L, 2,3, 0.008]\n",
    "- [L, 4,1, 0.008]\n",
    "- [C, 1,3, 0.02]\n",
    "- [C, 2,4, 0.02]\n",
    "\"\"\"\n",
    "\n",
    "zero_pi = scq.Circuit(zp_yaml, from_file=False)"
   ]
  },
  {
   "cell_type": "markdown",
   "id": "c35f3305",
   "metadata": {
    "pycharm": {
     "name": "#%% md\n"
    }
   },
   "source": [
    "### Lagrangian in terms of node variables"
   ]
  },
  {
   "cell_type": "code",
   "execution_count": 3,
   "id": "4bb6bd77",
   "metadata": {
    "pycharm": {
     "name": "#%%\n"
    }
   },
   "outputs": [
    {
     "data": {
      "text/latex": [
       "$ \\left(0.5 \\dot{\u03c6_1} \\cdot \\left(6.25625 \\dot{\u03c6_1} - 6.25 \\dot{\u03c6_3} - 0.00625 \\dot{\u03c6_2}\\right) + 0.5 \\dot{\u03c6_2} \\left(6.25625 \\dot{\u03c6_2} - 6.25 \\dot{\u03c6_4} - 0.00625 \\dot{\u03c6_1}\\right) + 0.5 \\dot{\u03c6_3} \\left(6.25625 \\dot{\u03c6_3} - 6.25 \\dot{\u03c6_1} - 0.00625 \\dot{\u03c6_4}\\right) + 0.5 \\dot{\u03c6_4} \\left(6.25625 \\dot{\u03c6_4} - 6.25 \\dot{\u03c6_2} - 0.00625 \\dot{\u03c6_3}\\right)\\right) + \\left(- 0.004 \\left(\u03c6_{1} - \u03c6_{4}\\right)^{2} - 0.004 \\left(\u03c6_{3} - \u03c6_{2}\\right)^{2} + EJ \\cos{\\left(\u03c6_{1} - \u03c6_{2} \\right)} + EJ \\cos{\\left((2\u03c0\u03a6_{1}) + \u03c6_{4} - \u03c6_{3} \\right)}\\right) $"
      ],
      "text/plain": [
       "<IPython.core.display.Latex object>"
      ]
     },
     "metadata": {},
     "output_type": "display_data"
    }
   ],
   "source": [
    "zero_pi.sym_lagrangian()"
   ]
  },
  {
   "cell_type": "markdown",
   "id": "588507b4",
   "metadata": {
    "pycharm": {
     "name": "#%% md\n"
    }
   },
   "source": [
    "This is the circuit Lagrangian in terms of node variables $\\varphi_j$ (dimensionless phase variable associated with node $j$)."
   ]
  },
  {
   "cell_type": "markdown",
   "id": "b6f4cecf",
   "metadata": {
    "pycharm": {
     "name": "#%% md\n"
    }
   },
   "source": [
    "### Transformed variables\n",
    "\n",
    "scqubits performs a linear variable transformation from the original node variables $\\varphi_j$ to new coordinates $\\theta_j$.\n",
    "\n",
    "New variables are chosen such that periodic, extended, free and frozen degrees of freedom are identified and separated. Variable elimination is implemented for any free and frozen degrees of freedom.\n",
    "   \n",
    "#### Lagrangian in terms of the new variables"
   ]
  },
  {
   "cell_type": "code",
   "execution_count": 5,
   "id": "65c6fde7",
   "metadata": {
    "pycharm": {
     "name": "#%%\n"
    }
   },
   "outputs": [
    {
     "data": {
      "text/latex": [
       "$ \\left(25.0 \\dot{\u03b8_2}^{2} + 0.00625 \\dot{\u03b8_3}^{2} + 6.25625 \\dot{\u03b8_1}^{2}\\right) + \\left(- 0.008 \u03b8_{3}^{2} - 0.032 \u03b8_{2}^{2} + EJ \\cos{\\left(\u03b8_{1} - 1.0 \u03b8_{3} \\right)} + EJ \\cos{\\left(\u03b8_{1} + \u03b8_{3} - (2\u03c0\u03a6_{1}) \\right)}\\right) $"
      ],
      "text/plain": [
       "<IPython.core.display.Latex object>"
      ]
     },
     "metadata": {},
     "output_type": "display_data"
    }
   ],
   "source": [
    "zero_pi.sym_lagrangian(vars_type=\"new\")"
   ]
  },
  {
   "cell_type": "markdown",
   "id": "48158623",
   "metadata": {
    "pycharm": {
     "name": "#%% md\n"
    }
   },
   "source": [
    "#### Transformation matrix\n",
    "\n",
    "The transformation matrix which maps the new variables ($\\theta_i$) to the node variables ($\\varphi_i$) can be inspected through `transformation_matrix`."
   ]
  },
  {
   "cell_type": "code",
   "execution_count": 7,
   "id": "492cb5af",
   "metadata": {
    "pycharm": {
     "name": "#%%\n"
    }
   },
   "outputs": [
    {
     "data": {
      "text/plain": [
       "array([[ 0., -1.,  1.,  1.],\n",
       "       [ 1., -1.,  0.,  1.],\n",
       "       [ 1.,  1.,  1.,  1.],\n",
       "       [ 0.,  1.,  0.,  1.]])"
      ]
     },
     "execution_count": 7,
     "metadata": {},
     "output_type": "execute_result"
    }
   ],
   "source": [
    "zero_pi.transformation_matrix"
   ]
  },
  {
   "cell_type": "markdown",
   "id": "94fabc77",
   "metadata": {
    "pycharm": {
     "name": "#%% md\n"
    }
   },
   "source": [
    "This is the transformation matrix $\\mathcal{M}$ which maps the new variables ($\\theta_i$) to the node variables ($\\varphi_i$):\n",
    "\n",
    "$\\vec{\\varphi} = \\mathcal{M}\\vec{\\theta}$."
   ]
  },
  {
   "cell_type": "markdown",
   "id": "d1a1e0e0",
   "metadata": {
    "pycharm": {
     "name": "#%% md\n"
    }
   },
   "source": [
    "Alternatively, these mappings can be represented as equations via"
   ]
  },
  {
   "cell_type": "code",
   "execution_count": 7,
   "id": "6b155bff",
   "metadata": {},
   "outputs": [
    {
     "data": {
      "text/latex": [
       "$ \u03c6_{1} = 1.0 \u03b8_{3} + 1.0 \u03b8_{4} - 1.0 \u03b8_{2} \\\\ \u03c6_{2} = 1.0 \u03b8_{1} + 1.0 \u03b8_{4} - 1.0 \u03b8_{2} \\\\ \u03c6_{3} = 1.0 \u03b8_{1} + 1.0 \u03b8_{2} + 1.0 \u03b8_{3} + 1.0 \u03b8_{4} \\\\ \u03c6_{4} = 1.0 \u03b8_{2} + 1.0 \u03b8_{4} $"
      ],
      "text/plain": [
       "<IPython.core.display.Latex object>"
      ]
     },
     "metadata": {},
     "output_type": "display_data"
    }
   ],
   "source": [
    "zero_pi.variable_transformation()"
   ]
  },
  {
   "cell_type": "markdown",
   "id": "b2f5e62c",
   "metadata": {
    "pycharm": {
     "name": "#%% md\n"
    }
   },
   "source": [
    "### Variable classification"
   ]
  },
  {
   "cell_type": "code",
   "execution_count": 6,
   "id": "23ea2594",
   "metadata": {
    "pycharm": {
     "name": "#%%\n"
    }
   },
   "outputs": [
    {
     "data": {
      "text/plain": [
       "{'periodic': [1], 'extended': [2, 3], 'free': [], 'frozen': []}"
      ]
     },
     "execution_count": 6,
     "metadata": {},
     "output_type": "execute_result"
    }
   ],
   "source": [
    "zero_pi.var_categories"
   ]
  },
  {
   "cell_type": "markdown",
   "id": "43f09c28",
   "metadata": {
    "pycharm": {
     "name": "#%% md\n"
    }
   },
   "source": [
    "The classification of the different variables is recorded in `var_categories`.\n",
    "\n",
    "This above example output states: \n",
    "- $\\theta_1$ is a periodic degree of freedom (boundary conditions in this coordinate are periodic)\n",
    "- $\\theta_2,\\,\\theta_3$ are extended degrees of freedom (confining boundary conditions)\n",
    "\n",
    "Note that one degree of freedom (the $\\Sigma$ mode) has been eliminated, and does not get listed."
   ]
  }
 ],
 "metadata": {
  "celltoolbar": "Edit Metadata",
  "kernelspec": {
   "display_name": "Python 3 (ipykernel)",
   "language": "python",
   "name": "python3"
  },
  "language_info": {
   "codemirror_mode": {
    "name": "ipython",
    "version": 3
   },
   "file_extension": ".py",
   "mimetype": "text/x-python",
   "name": "python",
   "nbconvert_exporter": "python",
   "pygments_lexer": "ipython3",
   "version": "3.9.12"
  },
  "vscode": {
   "interpreter": {
    "hash": "c8d4bf36a74824303709ac4e007bea7414f53aa465ed117f157b5ab5806c56f7"
   }
  }
 },
 "nbformat": 4,
 "nbformat_minor": 5
}