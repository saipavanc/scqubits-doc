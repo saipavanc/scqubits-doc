{
 "cells": [
  {
   "cell_type": "code",
   "execution_count": null,
   "metadata": {
    "ExecuteTime": {
     "end_time": "2016-09-05T09:09:54.232690",
     "start_time": "2016-09-05T09:09:53.862693"
    },
    "init_cell": true,
    "nbsphinx": "hidden",
    "pycharm": {
     "is_executing": false,
     "name": "#%%\n"
    },
    "scrolled": true
   },
   "outputs": [],
   "source": [
    "# Define HilbertSpace object: two transmons coupled to an oscillator\n",
    "\n",
    "\n",
    "tmon1 = scq.TunableTransmon(\n",
    "    EJmax=40.0,\n",
    "    EC=0.2,\n",
    "    d=0.1,\n",
    "    flux=0.23,\n",
    "    ng=0.3,\n",
    "    ncut=40,\n",
    "    truncated_dim=3,     # after diagonalization, we will keep 3 levels\n",
    "    id_str=\"tmon1\"       # optional, used for referencing from within\n",
    "                         # ParameterSweep or HilbertSpace\n",
    ")\n",
    "\n",
    "tmon2 = scq.TunableTransmon(\n",
    "    EJmax=15.0,\n",
    "    EC=0.15,\n",
    "    d=0.2,\n",
    "    flux=0.0,\n",
    "    ng=0.0,\n",
    "    ncut=30,\n",
    "    truncated_dim=3,\n",
    "    id_str=\"tmon2\"\n",
    ")\n",
    "\n",
    "resonator = scq.Oscillator(\n",
    "    E_osc=4.5,\n",
    "    truncated_dim=4    # up to 3 photons (0,1,2,3)\n",
    ")\n",
    "\n",
    "hilbertspace = scq.HilbertSpace([tmon1, tmon2, resonator])\n",
    "\n",
    "\n",
    "g1 = 0.1  # coupling resonator-CPB1 (without charge matrix elements)\n",
    "g2 = 0.2  # coupling resonator-CPB2 (without charge matrix elements)\n",
    "\n",
    "hilbertspace.add_interaction(\n",
    "    g_strength = g1,\n",
    "    op1 = tmon1.n_operator,\n",
    "    op2 = resonator.creation_operator,\n",
    "    add_hc = True,\n",
    "    id_str=\"tmon1-resonator\"  # optional keyword argument\n",
    ")\n",
    "\n",
    "hilbertspace.add_interaction(\n",
    "    g_strength = g2,\n",
    "    op1 = tmon2.n_operator,\n",
    "    op2 = resonator.creation_operator,\n",
    "    add_hc = True,\n",
    "    id_str=\"tmon2-resonator\"  # optional keyword argument\n",
    ")\n",
    "\n",
    "# Set up parameter name and values\n",
    "pname1 = 'flux'  \n",
    "flux_vals = np.linspace(0.0, 2.0, 171)\n",
    "pname2 = 'ng'\n",
    "ng_vals = np.linspace(-0.5, 0.5, 49)\n",
    "\n",
    "# combine into a dictionary\n",
    "paramvals_by_name = {pname1: flux_vals, pname2: ng_vals}\n",
    "\n",
    "\n",
    "area_ratio = 1.2\n",
    "\n",
    "def update_hilbertspace(flux, ng):  # function that defines how Hilbert space components are updated\n",
    "    tmon1.flux = flux\n",
    "    tmon2.flux = area_ratio * flux\n",
    "    tmon2.ng = ng\n",
    "\n",
    "# dictionary with information on which subsystems are affected by changing parameters    \n",
    "subsys_update_info = {pname1: [tmon1, tmon2],\n",
    "                      pname2: [tmon2]}\n",
    "\n",
    "    \n",
    "# create the ParameterSweep    \n",
    "sweep = ParameterSweep(\n",
    "    hilbertspace=hilbertspace,\n",
    "    paramvals_by_name=paramvals_by_name,\n",
    "    update_hilbertspace=update_hilbertspace,\n",
    "    evals_count=20,\n",
    "    subsys_update_info=subsys_update_info,\n",
    "    num_cpus=4\n",
    ")"
   ]
  },
  {
   "cell_type": "markdown",
   "metadata": {
    "pycharm": {
     "name": "#%% md\n"
    }
   },
   "source": [
    "## Helper functions (bare vs. dressed basis)\n",
    "\n",
    "Some of the helper methods available as part of the {py:obj}`~scqubits.core.param_sweep.ParameterSweep` class (see the API documentation for more details):\n",
    "\n",
    "`dressed_index`\n",
    "    obtain the dressed index corresponding to a bare index (use pre-slicing)"
   ]
  },
  {
   "cell_type": "code",
   "execution_count": 31,
   "metadata": {
    "pycharm": {
     "name": "#%%\n"
    }
   },
   "outputs": [
    {
     "data": {
      "text/plain": [
       "9"
      ]
     },
     "execution_count": 31,
     "metadata": {},
     "output_type": "execute_result"
    }
   ],
   "source": [
    "sweep[\"flux\":0, \"ng\":0].dressed_index((1,0,1))"
   ]
  },
  {
   "cell_type": "markdown",
   "metadata": {
    "pycharm": {
     "name": "#%% md\n"
    }
   },
   "source": [
    "`bare_index`\n",
    "    obtain the bare index (bare product state label) corresponding to a dressed index (use pre-slicing)"
   ]
  },
  {
   "cell_type": "code",
   "execution_count": 32,
   "metadata": {
    "pycharm": {
     "name": "#%%\n"
    }
   },
   "outputs": [
    {
     "data": {
      "text/plain": [
       "(0, 2, 1)"
      ]
     },
     "execution_count": 32,
     "metadata": {},
     "output_type": "execute_result"
    }
   ],
   "source": [
    "sweep[\"flux\":0, \"ng\":0].bare_index(8)"
   ]
  },
  {
   "cell_type": "markdown",
   "metadata": {
    "pycharm": {
     "name": "#%% md\n"
    }
   },
   "source": [
    "`energy_by_bare_index`\n",
    "    obtain the eigenenergy for given bare index (use pre-slicing)"
   ]
  },
  {
   "cell_type": "code",
   "execution_count": 33,
   "metadata": {
    "pycharm": {
     "name": "#%%\n"
    }
   },
   "outputs": [
    {
     "data": {
      "text/plain": [
       "NamedSlotsNdarray([11.750756260771439, 11.746489161977891, ...,\n",
       "                   10.286595560237334, 10.171087725541547], dtype=object)"
      ]
     },
     "execution_count": 33,
     "metadata": {},
     "output_type": "execute_result"
    }
   ],
   "source": [
    "sweep[\"ng\":0].energy_by_bare_index((1,1,0))"
   ]
  }
 ],
 "metadata": {
  "celltoolbar": "Edit Metadata",
  "kernelspec": {
   "display_name": "Python 3 (ipykernel)",
   "language": "python",
   "name": "python3"
  },
  "language_info": {
   "codemirror_mode": {
    "name": "ipython",
    "version": 3
   },
   "file_extension": ".py",
   "mimetype": "text/x-python",
   "name": "python",
   "nbconvert_exporter": "python",
   "pygments_lexer": "ipython3",
   "version": "3.9.16"
  },
  "toc": {
   "base_numbering": 1,
   "nav_menu": {},
   "number_sections": false,
   "sideBar": true,
   "skip_h1_title": true,
   "title_cell": "Table of Contents",
   "title_sidebar": "Contents",
   "toc_cell": false,
   "toc_position": {},
   "toc_section_display": true,
   "toc_window_display": false
  },
  "varInspector": {
   "cols": {
    "lenName": 16,
    "lenType": 16,
    "lenVar": 40
   },
   "kernels_config": {
    "python": {
     "delete_cmd_postfix": "",
     "delete_cmd_prefix": "del ",
     "library": "var_list.py",
     "varRefreshCmd": "print(var_dic_list())"
    },
    "r": {
     "delete_cmd_postfix": ") ",
     "delete_cmd_prefix": "rm(",
     "library": "var_list.r",
     "varRefreshCmd": "cat(var_dic_list()) "
    }
   },
   "types_to_exclude": [
    "module",
    "function",
    "builtin_function_or_method",
    "instance",
    "_Feature"
   ],
   "window_display": false
  }
 },
 "nbformat": 4,
 "nbformat_minor": 4
}